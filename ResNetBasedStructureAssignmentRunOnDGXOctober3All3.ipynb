{
 "cells": [
  {
   "cell_type": "code",
   "execution_count": 1,
   "metadata": {
    "id": "LUjkqD85TC5Y"
   },
   "outputs": [],
   "source": [
    "# imports\n",
    "import tensorflow as tf\n",
    "from tensorflow.keras.models import Sequential\n",
    "from tensorflow.keras.layers import Dense, Dropout, LSTM, TimeDistributed,Bidirectional\n",
    "from tensorflow.keras.layers import Dense\n",
    "from tensorflow.keras import layers\n",
    "#import keras.optimizers\n",
    "import numpy as np\n",
    "import os"
   ]
  },
  {
   "cell_type": "code",
   "execution_count": 3,
   "metadata": {
    "id": "BVGzRqs00O-o",
    "outputId": "6d1e1028-c345-4e08-a2da-e1176745b0f5"
   },
   "outputs": [
    {
     "name": "stdout",
     "output_type": "stream",
     "text": [
      "Collecting keras\n",
      "  Downloading keras-2.6.0-py2.py3-none-any.whl (1.3 MB)\n",
      "\u001b[K     |████████████████████████████████| 1.3 MB 622 kB/s eta 0:00:01\n",
      "\u001b[?25hInstalling collected packages: keras\n",
      "Successfully installed keras-2.6.0\n",
      "\u001b[33mWARNING: You are using pip version 20.2.3; however, version 21.2.4 is available.\n",
      "You should consider upgrading via the '/usr/bin/python -m pip install --upgrade pip' command.\u001b[0m\n"
     ]
    }
   ],
   "source": [
    "!pip install keras"
   ]
  },
  {
   "cell_type": "code",
   "execution_count": 5,
   "metadata": {},
   "outputs": [
    {
     "name": "stdout",
     "output_type": "stream",
     "text": [
      "\u001b[?1l\u001b>---------------------------------------------------------------------------+\u001b[1;75H2\u001b[3;19H2\u001b[24;80Hn Sep 27 16:57:00 2021\u001b[24;1H\u001b[2J\u001b[?47l\u001b8"
     ]
    }
   ],
   "source": [
    "!watch -n 2 nvidia-smi"
   ]
  },
  {
   "cell_type": "code",
   "execution_count": 2,
   "metadata": {},
   "outputs": [
    {
     "name": "stdout",
     "output_type": "stream",
     "text": [
      "Fri Oct  1 11:32:53 2021       \r\n",
      "+-----------------------------------------------------------------------------+\r\n",
      "| NVIDIA-SMI 470.63.01    Driver Version: 470.63.01    CUDA Version: 11.4     |\r\n",
      "|-------------------------------+----------------------+----------------------+\r\n",
      "| GPU  Name        Persistence-M| Bus-Id        Disp.A | Volatile Uncorr. ECC |\r\n",
      "| Fan  Temp  Perf  Pwr:Usage/Cap|         Memory-Usage | GPU-Util  Compute M. |\r\n",
      "|                               |                      |               MIG M. |\r\n",
      "|===============================+======================+======================|\r\n",
      "|   0  Tesla V100-DGXS...  Off  | 00000000:0F:00.0 Off |                    0 |\r\n",
      "| N/A   47C    P0    39W / 300W |      0MiB / 32508MiB |      0%      Default |\r\n",
      "|                               |                      |                  N/A |\r\n",
      "+-------------------------------+----------------------+----------------------+\r\n",
      "                                                                               \r\n",
      "+-----------------------------------------------------------------------------+\r\n",
      "| Processes:                                                                  |\r\n",
      "|  GPU   GI   CI        PID   Type   Process name                  GPU Memory |\r\n",
      "|        ID   ID                                                   Usage      |\r\n",
      "|=============================================================================|\r\n",
      "|  No running processes found                                                 |\r\n",
      "+-----------------------------------------------------------------------------+\r\n"
     ]
    }
   ],
   "source": [
    "!nvidia-smi"
   ]
  },
  {
   "cell_type": "code",
   "execution_count": 3,
   "metadata": {
    "id": "77444V6a0O-q",
    "outputId": "85f67934-b63e-46dc-dfc7-44a90e38a5ed"
   },
   "outputs": [
    {
     "name": "stdout",
     "output_type": "stream",
     "text": [
      "WARNING:tensorflow:From <ipython-input-3-a0393ab69926>:3: is_gpu_available (from tensorflow.python.framework.test_util) is deprecated and will be removed in a future version.\n",
      "Instructions for updating:\n",
      "Use `tf.config.list_physical_devices('GPU')` instead.\n",
      "True\n",
      "True\n"
     ]
    }
   ],
   "source": [
    "# Check if GPU available(for DGX machine)\n",
    "#import tensorflow as tf\n",
    "print(tf.test.is_gpu_available())\n",
    "print(tf.test.is_built_with_cuda())"
   ]
  },
  {
   "cell_type": "code",
   "execution_count": 4,
   "metadata": {
    "id": "kXov643AUjru"
   },
   "outputs": [],
   "source": [
    "# Load training data and labels\n",
    "\n",
    "#x_train=np.load('/content/drive/MyDrive/PROJECT/DATASET/1/dataset_9021x500x23_xyz.npy')\n",
    "#y_train=np.load('/content/drive/MyDrive/PROJECT/DATASET/1/dataset_labels_9021x500x3_xyz.npy')\n",
    "\n",
    "#x_train = x_train.reshape(9021, 500, 23)\n",
    "#y_train = y_train.reshape(9021, 500, 3)"
   ]
  },
  {
   "cell_type": "code",
   "execution_count": 2,
   "metadata": {
    "colab": {
     "base_uri": "https://localhost:8080/"
    },
    "id": "V6hxT7AxUIPF",
    "outputId": "471d4e20-46b1-4049-b4f9-38a8bc591617"
   },
   "outputs": [
    {
     "name": "stdout",
     "output_type": "stream",
     "text": [
      "Mounted at /content/drive\n"
     ]
    }
   ],
   "source": [
    "from google.colab import drive\n",
    "drive.mount('/content/drive')"
   ]
  },
  {
   "cell_type": "code",
   "execution_count": 13,
   "metadata": {
    "colab": {
     "base_uri": "https://localhost:8080/"
    },
    "id": "Mn39fX7nZP_I",
    "outputId": "282c2fbc-a1cd-471f-ba2d-b49469c8df16"
   },
   "outputs": [],
   "source": [
    "#In system,\n",
    "#Loading training set with 9021 samples\n",
    "#x_train=np.load('/content/drive/MyDrive/CNN_for_STR_ASSIGNMENT_DATA_and_CODES/datasetX_normal_500.npy')\n",
    "#y_train=np.load('/content/drive/MyDrive/CNN_for_STR_ASSIGNMENT_DATA_and_CODES/datasetY_normal_500.npy')\n",
    "#print(\"x_train: \" + str(x_train.shape))\n",
    "#print(\"y_train: \" + str(y_train.shape))\n",
    "\n",
    "#Loading test set with 189 proteins\n",
    "#x_bench=np.load('/content/drive/MyDrive/CNN_for_STR_ASSIGNMENT_DATA_and_CODES/bench_193x500x23_xyzjune21.npy')\n",
    "#y_bench=np.load('/content/drive/MyDrive/CNN_for_STR_ASSIGNMENT_DATA_and_CODES/bench_labels_193x500x3_xyzjune21.npy')\n",
    "#print(\"x_test: \" + str(x_bench.shape))\n",
    "#print(\"y_test: \" + str(y_bench.shape))"
   ]
  },
  {
   "cell_type": "code",
   "execution_count": 5,
   "metadata": {
    "id": "Z2WRBx0U0O-r"
   },
   "outputs": [
    {
     "name": "stdout",
     "output_type": "stream",
     "text": [
      "x_train: (103741500,)\n",
      "y_train: (13531500,)\n",
      "x_test: (2173500,)\n",
      "y_test: (283500,)\n"
     ]
    }
   ],
   "source": [
    "#In system,\n",
    "#Loading training set with 9021 samples\n",
    "x_train=np.load('datasetX_normal_9021x500.npy')\n",
    "y_train=np.load('datasetY_normal_9021x500.npy')\n",
    "print(\"x_train: \" + str(x_train.shape))\n",
    "print(\"y_train: \" + str(y_train.shape))\n",
    "\n",
    "#Loading test set with 189 proteins\n",
    "x_bench=np.load('bench_193x500x23_xyzjune21.npy')\n",
    "y_bench=np.load('bench_labels_193x500x3_xyzjune21.npy')\n",
    "print(\"x_test: \" + str(x_bench.shape))\n",
    "print(\"y_test: \" + str(y_bench.shape))"
   ]
  },
  {
   "cell_type": "code",
   "execution_count": 6,
   "metadata": {
    "id": "OH__X9b_V2SQ"
   },
   "outputs": [],
   "source": [
    "# Load training data and labels\n",
    "\n",
    "#x_train=np.load('datasetX_normal_500.npy')\n",
    "#y_train=np.load('datasetY_normal_500.npy')\n",
    "\n",
    "x_train = x_train.reshape(9021, 500, 23,1)\n",
    "y_train = y_train.reshape(9021, 500, 3)"
   ]
  },
  {
   "cell_type": "code",
   "execution_count": 7,
   "metadata": {
    "id": "u9JBhsFWM0_-"
   },
   "outputs": [],
   "source": [
    "# benchmark data\n",
    "#x_bench = np.load('/content/drive/MyDrive/CNN_for_STR_ASSIGNMENT_DATA_and_CODES/bench_193x500x23_xyzjune21.npy')\n",
    "#y_bench = np.load('/content/drive/MyDrive/CNN_for_STR_ASSIGNMENT_DATA_and_CODES/bench_labels_193x500x3_xyzjune21.npy')\n",
    "\n",
    "x_bench = x_bench.reshape(189, 500, 23, 1)\n",
    "y_bench = y_bench.reshape(189, 500, 3) "
   ]
  },
  {
   "cell_type": "code",
   "execution_count": 8,
   "metadata": {
    "colab": {
     "base_uri": "https://localhost:8080/"
    },
    "id": "l-yQM-uw0O-t",
    "outputId": "91733ded-3c26-407d-99cd-907b309d36b6"
   },
   "outputs": [
    {
     "name": "stdout",
     "output_type": "stream",
     "text": [
      "(8021, 500, 23, 1)\n",
      "(8021, 500, 3)\n",
      "(1000, 500, 23, 1)\n",
      "(1000, 500, 3)\n"
     ]
    }
   ],
   "source": [
    "# Split dataset randomly for training and testing\n",
    "# 1000 for testset and remaining for training and validation\n",
    "import numpy as np\n",
    "s = np.random.choice(range(x_train.shape[0]), 1000, replace=False)\n",
    "#s1 = np.split(s, [1600])\n",
    "#s2 = np.split(s, [900]) #testing\n",
    "\n",
    "s1 = list(set(range(x_train.shape[0])) - set(s))\n",
    "\n",
    "x_train_our = x_train[s1, :, :]\n",
    "y_train_our = y_train[s1, :, :]\n",
    "\n",
    "#x_val_s = x_train[s2, :, :]\n",
    "#y_val_s = y_train[s2, :, :]\n",
    "\n",
    "x_test_our = x_train[s, :, :]\n",
    "y_test_our = y_train[s, :, :]\n",
    "\n",
    "print(x_train_our.shape)\n",
    "print(y_train_our.shape)\n",
    "#print(x_val_s.shape)\n",
    "#print(y_val_s.shape)\n",
    "print(x_test_our.shape)\n",
    "print(y_test_our.shape)\n",
    "\n",
    "del s, s1#,x_train, y_train"
   ]
  },
  {
   "cell_type": "code",
   "execution_count": 9,
   "metadata": {
    "id": "yll_XRlU0O-t"
   },
   "outputs": [],
   "source": [
    "#Reshaping for CNN\n",
    "x_train_s = x_train_our.reshape(x_train_our.shape[0], 500, 23, 1)\n",
    "#x_val_s = x_val_s.reshape(x_val_s.shape[0], 500, 23, 1)\n",
    "x_test_s = x_test_our.reshape(x_test_our.shape[0], 500, 23, 1)"
   ]
  },
  {
   "cell_type": "code",
   "execution_count": 10,
   "metadata": {
    "id": "BSYvwMUSjHgz"
   },
   "outputs": [],
   "source": [
    "#reshaping\n",
    "#x_train_s = x_train_s.reshape(x_train_s.shape[0], 500, 23, 1)\n",
    "#x_val_s = x_val_s.reshape(x_val_s.shape[0], 500, 23, 1)\n",
    "#x_test_s = x_test_s.reshape(x_test_s.shape[0], 500, 23, 1)"
   ]
  },
  {
   "cell_type": "code",
   "execution_count": 16,
   "metadata": {
    "id": "9OcRbbxzdt-M"
   },
   "outputs": [],
   "source": [
    "# defining the residual block\n",
    "def residual_block(y, nb_channels, _strides=(1, 1), _project_shortcut=False):\n",
    "    shortcut = y\n",
    "    #shortcut = layers.Conv2D(nb_channels, kernel_size=(5, 5), strides=_strides, padding='same')(y) \n",
    "    # down-sampling is performed with a stride of 2\n",
    "    y = layers.Conv2D(nb_channels, kernel_size=(5, 5), strides=_strides, padding='same')(y) \n",
    "    #y = layers.BatchNormalization()(y) \n",
    "    y = layers.LeakyReLU()(y) \n",
    "    # y = layers.MaxPool2D(pool_size=(2,2))(y)\n",
    "    y = layers.Conv2D(nb_channels, kernel_size=(1, 1), activation='relu', padding='same')(y) \n",
    "    ##y = layers.BatchNormalization()(y)\n",
    "    y = layers.add([shortcut, y])\n",
    "    y = layers.LeakyReLU()(y)\n",
    "\n",
    "    return y"
   ]
  },
  {
   "cell_type": "code",
   "execution_count": 17,
   "metadata": {
    "colab": {
     "base_uri": "https://localhost:8080/"
    },
    "id": "3QGFjbpoUyBN",
    "outputId": "5b572fac-fa6f-4b51-b50e-300e30e4497e"
   },
   "outputs": [
    {
     "name": "stdout",
     "output_type": "stream",
     "text": [
      "Model: \"functional_5\"\n",
      "__________________________________________________________________________________________________\n",
      "Layer (type)                    Output Shape         Param #     Connected to                     \n",
      "==================================================================================================\n",
      "input_3 (InputLayer)            [(None, 500, 23, 1)] 0                                            \n",
      "__________________________________________________________________________________________________\n",
      "conv2d_16 (Conv2D)              (None, 500, 23, 64)  1664        input_3[0][0]                    \n",
      "__________________________________________________________________________________________________\n",
      "leaky_re_lu_8 (LeakyReLU)       (None, 500, 23, 64)  0           conv2d_16[0][0]                  \n",
      "__________________________________________________________________________________________________\n",
      "conv2d_17 (Conv2D)              (None, 500, 23, 64)  4160        leaky_re_lu_8[0][0]              \n",
      "__________________________________________________________________________________________________\n",
      "add_4 (Add)                     (None, 500, 23, 64)  0           input_3[0][0]                    \n",
      "                                                                 conv2d_17[0][0]                  \n",
      "__________________________________________________________________________________________________\n",
      "leaky_re_lu_9 (LeakyReLU)       (None, 500, 23, 64)  0           add_4[0][0]                      \n",
      "__________________________________________________________________________________________________\n",
      "conv2d_18 (Conv2D)              (None, 500, 23, 32)  51232       leaky_re_lu_9[0][0]              \n",
      "__________________________________________________________________________________________________\n",
      "conv2d_19 (Conv2D)              (None, 500, 23, 32)  25632       conv2d_18[0][0]                  \n",
      "__________________________________________________________________________________________________\n",
      "conv2d_20 (Conv2D)              (None, 500, 23, 32)  25632       conv2d_19[0][0]                  \n",
      "__________________________________________________________________________________________________\n",
      "conv2d_21 (Conv2D)              (None, 500, 23, 32)  25632       conv2d_20[0][0]                  \n",
      "__________________________________________________________________________________________________\n",
      "leaky_re_lu_10 (LeakyReLU)      (None, 500, 23, 32)  0           conv2d_21[0][0]                  \n",
      "__________________________________________________________________________________________________\n",
      "conv2d_22 (Conv2D)              (None, 500, 23, 32)  1056        leaky_re_lu_10[0][0]             \n",
      "__________________________________________________________________________________________________\n",
      "add_5 (Add)                     (None, 500, 23, 32)  0           conv2d_20[0][0]                  \n",
      "                                                                 conv2d_22[0][0]                  \n",
      "__________________________________________________________________________________________________\n",
      "leaky_re_lu_11 (LeakyReLU)      (None, 500, 23, 32)  0           add_5[0][0]                      \n",
      "__________________________________________________________________________________________________\n",
      "conv2d_23 (Conv2D)              (None, 500, 23, 1)   33          leaky_re_lu_11[0][0]             \n",
      "__________________________________________________________________________________________________\n",
      "reshape_2 (Reshape)             (None, 500, 23)      0           conv2d_23[0][0]                  \n",
      "__________________________________________________________________________________________________\n",
      "dense_6 (Dense)                 (None, 500, 256)     6144        reshape_2[0][0]                  \n",
      "__________________________________________________________________________________________________\n",
      "dense_7 (Dense)                 (None, 500, 256)     65792       dense_6[0][0]                    \n",
      "__________________________________________________________________________________________________\n",
      "dense_8 (Dense)                 (None, 500, 3)       771         dense_7[0][0]                    \n",
      "==================================================================================================\n",
      "Total params: 207,748\n",
      "Trainable params: 207,748\n",
      "Non-trainable params: 0\n",
      "__________________________________________________________________________________________________\n"
     ]
    }
   ],
   "source": [
    "#ResNet model definition\n",
    "# ---------------------------------------------------\n",
    "\n",
    "inp = layers.Input(shape=(x_train_s.shape[1], x_train_s.shape[2], x_train_s.shape[3]))\n",
    "#m = layers.Masking(mask_value=0.0)(inp) \n",
    "m=(inp)\n",
    "m = residual_block(m, 64)  \n",
    "m = layers.Conv2D(32, kernel_size=(5, 5), activation='relu', padding='same')(m)\n",
    "#m = layers.BatchNormalization()(m) \n",
    "#m = Dropout(0.1)(m)\n",
    "m = layers.Conv2D(32, kernel_size=(5, 5), activation='relu', padding='same')(m)#not in original\n",
    "#m = layers.BatchNormalization()(m) \n",
    "#m = Dropout(0.1)(m)\n",
    "m = layers.Conv2D(32, kernel_size=(5, 5), activation='relu', padding='same')(m) \n",
    "#m = layers.BatchNormalization()(m) \n",
    "#m = Dropout(0.1)(m)\n",
    "m = residual_block(m, 32) \n",
    "m = layers.Conv2D(1, kernel_size=(1, 1), activation='relu', padding='same')(m)\n",
    "m = layers.Reshape([500, 23])(m)\n",
    "m = Dense(256, activation='relu')(m)#200\n",
    "#m = Dropout(0.2)(m)\n",
    "m = Dense(256, activation='relu')(m)#300\n",
    "#m = Dropout(0.2)(m)\n",
    "out = Dense(3, activation='softmax')(m)\n",
    "\n",
    "model3 = tf.keras.Model(inputs=inp, outputs=out)\n",
    "\n",
    "model3.summary()\n",
    "\n",
    "opt = tf.keras.optimizers.Adam(learning_rate=0.0001)\n",
    "model3.compile(\n",
    "    optimizer=opt,\n",
    "    #optimizer='Adam',\n",
    "    loss='kullback_leibler_divergence',\n",
    "    #loss='categorical_crossentropy',\n",
    "    #CCE larger loss\n",
    "    metrics=['accuracy']\n",
    ")"
   ]
  },
  {
   "cell_type": "code",
   "execution_count": null,
   "metadata": {
    "id": "laVzeTgpnJRM"
   },
   "outputs": [],
   "source": [
    "#model architecture/layout\n",
    "tf.keras.utils.plot_model(model3)\n"
   ]
  },
  {
   "cell_type": "code",
   "execution_count": 12,
   "metadata": {
    "id": "mao5eiQP0O-v",
    "outputId": "c45a2dbc-ebbc-45f0-987e-616f6836838a"
   },
   "outputs": [
    {
     "name": "stdout",
     "output_type": "stream",
     "text": [
      "Epoch 1/140\n",
      "226/226 [==============================] - 11s 50ms/step - loss: 0.4436 - accuracy: 0.2256 - val_loss: 0.4084 - val_accuracy: 0.2501\n",
      "Epoch 2/140\n",
      "226/226 [==============================] - 8s 36ms/step - loss: 0.3798 - accuracy: 0.3205 - val_loss: 0.3518 - val_accuracy: 0.8337\n",
      "Epoch 3/140\n",
      "226/226 [==============================] - 8s 36ms/step - loss: 0.3249 - accuracy: 0.8476 - val_loss: 0.2993 - val_accuracy: 0.8625\n",
      "Epoch 4/140\n",
      "226/226 [==============================] - 8s 36ms/step - loss: 0.2688 - accuracy: 0.8777 - val_loss: 0.2504 - val_accuracy: 0.8861\n",
      "Epoch 5/140\n",
      "226/226 [==============================] - 8s 36ms/step - loss: 0.2403 - accuracy: 0.8902 - val_loss: 0.2196 - val_accuracy: 0.8994\n",
      "Epoch 6/140\n",
      "226/226 [==============================] - 8s 36ms/step - loss: 0.2186 - accuracy: 0.8997 - val_loss: 0.2058 - val_accuracy: 0.9059\n",
      "Epoch 7/140\n",
      "226/226 [==============================] - 8s 36ms/step - loss: 0.2054 - accuracy: 0.9055 - val_loss: 0.1949 - val_accuracy: 0.9101\n",
      "Epoch 8/140\n",
      "226/226 [==============================] - 8s 36ms/step - loss: 0.1958 - accuracy: 0.9096 - val_loss: 0.1883 - val_accuracy: 0.9131\n",
      "Epoch 9/140\n",
      "226/226 [==============================] - 8s 36ms/step - loss: 0.1863 - accuracy: 0.9140 - val_loss: 0.1835 - val_accuracy: 0.9158\n",
      "Epoch 10/140\n",
      "226/226 [==============================] - 8s 35ms/step - loss: 0.1901 - accuracy: 0.9123 - val_loss: 0.1893 - val_accuracy: 0.9125\n",
      "Epoch 11/140\n",
      "226/226 [==============================] - 8s 35ms/step - loss: 0.1794 - accuracy: 0.9167 - val_loss: 0.1758 - val_accuracy: 0.9173\n",
      "Epoch 12/140\n",
      "226/226 [==============================] - 8s 36ms/step - loss: 0.1760 - accuracy: 0.9184 - val_loss: 0.1809 - val_accuracy: 0.9147\n",
      "Epoch 13/140\n",
      "226/226 [==============================] - 8s 36ms/step - loss: 0.1723 - accuracy: 0.9197 - val_loss: 0.1752 - val_accuracy: 0.9177\n",
      "Epoch 14/140\n",
      "226/226 [==============================] - 8s 36ms/step - loss: 0.1708 - accuracy: 0.9205 - val_loss: 0.1803 - val_accuracy: 0.9164\n",
      "Epoch 15/140\n",
      "226/226 [==============================] - 8s 36ms/step - loss: 0.1701 - accuracy: 0.9208 - val_loss: 0.1720 - val_accuracy: 0.9193\n",
      "Epoch 16/140\n",
      "226/226 [==============================] - 8s 35ms/step - loss: 0.1670 - accuracy: 0.9220 - val_loss: 0.1668 - val_accuracy: 0.9226\n",
      "Epoch 17/140\n",
      "226/226 [==============================] - 8s 35ms/step - loss: 0.1650 - accuracy: 0.9230 - val_loss: 0.1627 - val_accuracy: 0.9238\n",
      "Epoch 18/140\n",
      "226/226 [==============================] - 8s 36ms/step - loss: 0.1640 - accuracy: 0.9236 - val_loss: 0.1809 - val_accuracy: 0.9163\n",
      "Epoch 19/140\n",
      "226/226 [==============================] - 8s 36ms/step - loss: 0.1641 - accuracy: 0.9236 - val_loss: 0.1635 - val_accuracy: 0.9238\n",
      "Epoch 20/140\n",
      "226/226 [==============================] - 8s 36ms/step - loss: 0.1598 - accuracy: 0.9256 - val_loss: 0.1722 - val_accuracy: 0.9213\n",
      "Epoch 21/140\n",
      "226/226 [==============================] - 8s 36ms/step - loss: 0.1592 - accuracy: 0.9262 - val_loss: 0.1602 - val_accuracy: 0.9260\n",
      "Epoch 22/140\n",
      "226/226 [==============================] - 8s 36ms/step - loss: 0.1581 - accuracy: 0.9266 - val_loss: 0.1602 - val_accuracy: 0.9259\n",
      "Epoch 23/140\n",
      "226/226 [==============================] - 8s 36ms/step - loss: 0.1550 - accuracy: 0.9282 - val_loss: 0.1628 - val_accuracy: 0.9257\n",
      "Epoch 24/140\n",
      "226/226 [==============================] - 8s 36ms/step - loss: 0.1557 - accuracy: 0.9281 - val_loss: 0.1581 - val_accuracy: 0.9271\n",
      "Epoch 25/140\n",
      "226/226 [==============================] - 8s 36ms/step - loss: 0.1542 - accuracy: 0.9285 - val_loss: 0.1539 - val_accuracy: 0.9288\n",
      "Epoch 26/140\n",
      "226/226 [==============================] - 8s 35ms/step - loss: 0.1529 - accuracy: 0.9292 - val_loss: 0.1659 - val_accuracy: 0.9241\n",
      "Epoch 27/140\n",
      "226/226 [==============================] - 8s 35ms/step - loss: 0.1544 - accuracy: 0.9286 - val_loss: 0.1559 - val_accuracy: 0.9283\n",
      "Epoch 28/140\n",
      "226/226 [==============================] - 8s 36ms/step - loss: 0.1511 - accuracy: 0.9300 - val_loss: 0.1529 - val_accuracy: 0.9295\n",
      "Epoch 29/140\n",
      "226/226 [==============================] - 8s 36ms/step - loss: 0.1529 - accuracy: 0.9292 - val_loss: 0.1579 - val_accuracy: 0.9279\n",
      "Epoch 30/140\n",
      "226/226 [==============================] - 8s 36ms/step - loss: 0.1527 - accuracy: 0.9296 - val_loss: 0.1522 - val_accuracy: 0.9298\n",
      "Epoch 31/140\n",
      "226/226 [==============================] - 8s 36ms/step - loss: 0.1497 - accuracy: 0.9309 - val_loss: 0.1656 - val_accuracy: 0.9248\n",
      "Epoch 32/140\n",
      "226/226 [==============================] - 8s 36ms/step - loss: 0.1512 - accuracy: 0.9299 - val_loss: 0.1491 - val_accuracy: 0.9307\n",
      "Epoch 33/140\n",
      "226/226 [==============================] - 8s 36ms/step - loss: 0.1503 - accuracy: 0.9304 - val_loss: 0.1548 - val_accuracy: 0.9286\n",
      "Epoch 34/140\n",
      "226/226 [==============================] - 8s 35ms/step - loss: 0.1497 - accuracy: 0.9307 - val_loss: 0.1501 - val_accuracy: 0.9303\n",
      "Epoch 35/140\n",
      "226/226 [==============================] - 8s 35ms/step - loss: 0.1465 - accuracy: 0.9317 - val_loss: 0.1462 - val_accuracy: 0.9318\n",
      "Epoch 36/140\n",
      "226/226 [==============================] - 8s 36ms/step - loss: 0.1471 - accuracy: 0.9315 - val_loss: 0.1482 - val_accuracy: 0.9308\n",
      "Epoch 37/140\n",
      "226/226 [==============================] - 8s 36ms/step - loss: 0.1466 - accuracy: 0.9314 - val_loss: 0.1506 - val_accuracy: 0.9298\n",
      "Epoch 38/140\n",
      "226/226 [==============================] - 8s 36ms/step - loss: 0.1452 - accuracy: 0.9320 - val_loss: 0.1463 - val_accuracy: 0.9311\n",
      "Epoch 39/140\n",
      "226/226 [==============================] - 8s 36ms/step - loss: 0.1458 - accuracy: 0.9318 - val_loss: 0.1455 - val_accuracy: 0.9311\n",
      "Epoch 40/140\n",
      "226/226 [==============================] - 8s 35ms/step - loss: 0.1448 - accuracy: 0.9321 - val_loss: 0.1482 - val_accuracy: 0.9307\n",
      "Epoch 41/140\n",
      "226/226 [==============================] - 8s 36ms/step - loss: 0.1430 - accuracy: 0.9326 - val_loss: 0.1563 - val_accuracy: 0.9268\n",
      "Epoch 42/140\n",
      "226/226 [==============================] - 8s 35ms/step - loss: 0.1447 - accuracy: 0.9320 - val_loss: 0.1456 - val_accuracy: 0.9316\n",
      "Epoch 43/140\n",
      "226/226 [==============================] - 8s 36ms/step - loss: 0.1457 - accuracy: 0.9317 - val_loss: 0.1560 - val_accuracy: 0.9275\n",
      "Epoch 44/140\n",
      "226/226 [==============================] - 8s 36ms/step - loss: 0.1427 - accuracy: 0.9327 - val_loss: 0.1483 - val_accuracy: 0.9301\n",
      "Epoch 45/140\n",
      "226/226 [==============================] - 8s 36ms/step - loss: 0.1437 - accuracy: 0.9324 - val_loss: 0.1440 - val_accuracy: 0.9314\n",
      "Epoch 46/140\n",
      "226/226 [==============================] - 8s 36ms/step - loss: 0.1420 - accuracy: 0.9330 - val_loss: 0.1450 - val_accuracy: 0.9314\n",
      "Epoch 47/140\n",
      "226/226 [==============================] - 8s 36ms/step - loss: 0.1419 - accuracy: 0.9330 - val_loss: 0.1446 - val_accuracy: 0.9317\n",
      "Epoch 48/140\n",
      "226/226 [==============================] - 8s 36ms/step - loss: 0.1397 - accuracy: 0.9339 - val_loss: 0.1442 - val_accuracy: 0.9318\n",
      "Epoch 49/140\n",
      "226/226 [==============================] - 8s 35ms/step - loss: 0.1409 - accuracy: 0.9334 - val_loss: 0.1454 - val_accuracy: 0.9316\n",
      "Epoch 50/140\n",
      "226/226 [==============================] - 8s 36ms/step - loss: 0.1389 - accuracy: 0.9342 - val_loss: 0.1420 - val_accuracy: 0.9328\n",
      "Epoch 51/140\n",
      "226/226 [==============================] - 8s 35ms/step - loss: 0.1403 - accuracy: 0.9338 - val_loss: 0.1431 - val_accuracy: 0.9323\n",
      "Epoch 52/140\n",
      "226/226 [==============================] - 8s 36ms/step - loss: 0.1404 - accuracy: 0.9338 - val_loss: 0.1435 - val_accuracy: 0.9322\n",
      "Epoch 53/140\n",
      "226/226 [==============================] - 8s 36ms/step - loss: 0.1396 - accuracy: 0.9340 - val_loss: 0.1701 - val_accuracy: 0.9224\n",
      "Epoch 54/140\n",
      "226/226 [==============================] - 8s 36ms/step - loss: 0.1398 - accuracy: 0.9340 - val_loss: 0.1419 - val_accuracy: 0.9330\n",
      "Epoch 55/140\n",
      "226/226 [==============================] - 8s 36ms/step - loss: 0.1393 - accuracy: 0.9342 - val_loss: 0.1393 - val_accuracy: 0.9339\n",
      "Epoch 56/140\n",
      "226/226 [==============================] - 8s 36ms/step - loss: 0.1384 - accuracy: 0.9347 - val_loss: 0.1417 - val_accuracy: 0.9331\n",
      "Epoch 57/140\n",
      "226/226 [==============================] - 8s 36ms/step - loss: 0.1382 - accuracy: 0.9347 - val_loss: 0.1412 - val_accuracy: 0.9329\n",
      "Epoch 58/140\n",
      "226/226 [==============================] - 8s 36ms/step - loss: 0.1372 - accuracy: 0.9351 - val_loss: 0.1424 - val_accuracy: 0.9325\n",
      "Epoch 59/140\n",
      "226/226 [==============================] - 8s 36ms/step - loss: 0.1383 - accuracy: 0.9348 - val_loss: 0.1458 - val_accuracy: 0.9317\n",
      "Epoch 60/140\n",
      "226/226 [==============================] - 8s 35ms/step - loss: 0.1382 - accuracy: 0.9348 - val_loss: 0.1411 - val_accuracy: 0.9337\n",
      "Epoch 61/140\n",
      "226/226 [==============================] - 8s 35ms/step - loss: 0.1370 - accuracy: 0.9353 - val_loss: 0.1375 - val_accuracy: 0.9348\n",
      "Epoch 62/140\n",
      "226/226 [==============================] - 8s 36ms/step - loss: 0.1358 - accuracy: 0.9357 - val_loss: 0.1370 - val_accuracy: 0.9348\n",
      "Epoch 63/140\n",
      "226/226 [==============================] - 8s 36ms/step - loss: 0.1366 - accuracy: 0.9355 - val_loss: 0.1379 - val_accuracy: 0.9348\n",
      "Epoch 64/140\n",
      "226/226 [==============================] - 8s 36ms/step - loss: 0.1372 - accuracy: 0.9353 - val_loss: 0.1376 - val_accuracy: 0.9349\n",
      "Epoch 65/140\n",
      "226/226 [==============================] - 8s 35ms/step - loss: 0.1367 - accuracy: 0.9356 - val_loss: 0.1378 - val_accuracy: 0.9344\n",
      "Epoch 66/140\n",
      "226/226 [==============================] - 8s 36ms/step - loss: 0.1347 - accuracy: 0.9363 - val_loss: 0.1438 - val_accuracy: 0.9327\n",
      "Epoch 67/140\n",
      "226/226 [==============================] - 8s 36ms/step - loss: 0.1361 - accuracy: 0.9359 - val_loss: 0.1385 - val_accuracy: 0.9345\n",
      "Epoch 68/140\n",
      "226/226 [==============================] - 8s 36ms/step - loss: 0.1353 - accuracy: 0.9362 - val_loss: 0.1363 - val_accuracy: 0.9357\n",
      "Epoch 69/140\n",
      "226/226 [==============================] - 8s 36ms/step - loss: 0.1345 - accuracy: 0.9365 - val_loss: 0.1361 - val_accuracy: 0.9358\n",
      "Epoch 70/140\n",
      "226/226 [==============================] - 8s 36ms/step - loss: 0.1335 - accuracy: 0.9371 - val_loss: 0.1363 - val_accuracy: 0.9356\n",
      "Epoch 71/140\n",
      "226/226 [==============================] - 8s 35ms/step - loss: 0.1339 - accuracy: 0.9368 - val_loss: 0.1355 - val_accuracy: 0.9359\n",
      "Epoch 72/140\n",
      "226/226 [==============================] - 8s 36ms/step - loss: 0.1328 - accuracy: 0.9372 - val_loss: 0.1360 - val_accuracy: 0.9358\n",
      "Epoch 73/140\n",
      "226/226 [==============================] - 8s 36ms/step - loss: 0.1334 - accuracy: 0.9372 - val_loss: 0.1367 - val_accuracy: 0.9355\n",
      "Epoch 74/140\n",
      "226/226 [==============================] - 8s 36ms/step - loss: 0.1334 - accuracy: 0.9372 - val_loss: 0.1432 - val_accuracy: 0.9331\n",
      "Epoch 75/140\n",
      "226/226 [==============================] - 8s 36ms/step - loss: 0.1330 - accuracy: 0.9375 - val_loss: 0.1434 - val_accuracy: 0.9328\n",
      "Epoch 76/140\n",
      "226/226 [==============================] - 8s 35ms/step - loss: 0.1342 - accuracy: 0.9370 - val_loss: 0.1401 - val_accuracy: 0.9339\n",
      "Epoch 77/140\n",
      "226/226 [==============================] - 8s 36ms/step - loss: 0.1328 - accuracy: 0.9374 - val_loss: 0.1348 - val_accuracy: 0.9365\n",
      "Epoch 78/140\n",
      "226/226 [==============================] - 8s 36ms/step - loss: 0.1339 - accuracy: 0.9373 - val_loss: 0.1345 - val_accuracy: 0.9366\n",
      "Epoch 79/140\n",
      "226/226 [==============================] - 8s 36ms/step - loss: 0.1310 - accuracy: 0.9384 - val_loss: 0.1337 - val_accuracy: 0.9372\n",
      "Epoch 80/140\n",
      "226/226 [==============================] - 8s 36ms/step - loss: 0.1323 - accuracy: 0.9378 - val_loss: 0.1350 - val_accuracy: 0.9365\n",
      "Epoch 81/140\n",
      "226/226 [==============================] - 8s 36ms/step - loss: 0.1309 - accuracy: 0.9384 - val_loss: 0.1327 - val_accuracy: 0.9376\n",
      "Epoch 82/140\n",
      "226/226 [==============================] - 8s 36ms/step - loss: 0.1354 - accuracy: 0.9367 - val_loss: 0.1397 - val_accuracy: 0.9354\n",
      "Epoch 83/140\n",
      "226/226 [==============================] - 8s 36ms/step - loss: 0.1350 - accuracy: 0.9369 - val_loss: 0.1332 - val_accuracy: 0.9376\n",
      "Epoch 84/140\n",
      "226/226 [==============================] - 8s 36ms/step - loss: 0.1306 - accuracy: 0.9387 - val_loss: 0.1388 - val_accuracy: 0.9351\n",
      "Epoch 85/140\n",
      "226/226 [==============================] - 8s 36ms/step - loss: 0.1312 - accuracy: 0.9385 - val_loss: 0.1347 - val_accuracy: 0.9367\n",
      "Epoch 86/140\n",
      "226/226 [==============================] - 8s 36ms/step - loss: 0.1308 - accuracy: 0.9387 - val_loss: 0.1385 - val_accuracy: 0.9352\n",
      "Epoch 87/140\n",
      "226/226 [==============================] - 8s 36ms/step - loss: 0.1307 - accuracy: 0.9388 - val_loss: 0.1337 - val_accuracy: 0.9371\n",
      "Epoch 88/140\n",
      "226/226 [==============================] - 8s 36ms/step - loss: 0.1305 - accuracy: 0.9388 - val_loss: 0.1350 - val_accuracy: 0.9366\n",
      "Epoch 89/140\n",
      "226/226 [==============================] - 8s 36ms/step - loss: 0.1306 - accuracy: 0.9388 - val_loss: 0.1355 - val_accuracy: 0.9368\n",
      "Epoch 90/140\n",
      "226/226 [==============================] - 8s 35ms/step - loss: 0.1289 - accuracy: 0.9396 - val_loss: 0.1334 - val_accuracy: 0.9374\n",
      "Epoch 91/140\n",
      "226/226 [==============================] - 8s 35ms/step - loss: 0.1308 - accuracy: 0.9389 - val_loss: 0.1327 - val_accuracy: 0.9375\n",
      "Epoch 92/140\n",
      "226/226 [==============================] - 8s 36ms/step - loss: 0.1292 - accuracy: 0.9395 - val_loss: 0.1345 - val_accuracy: 0.9371\n",
      "Epoch 93/140\n",
      "226/226 [==============================] - 8s 36ms/step - loss: 0.1298 - accuracy: 0.9392 - val_loss: 0.1321 - val_accuracy: 0.9382\n",
      "Epoch 94/140\n",
      "226/226 [==============================] - 8s 36ms/step - loss: 0.1309 - accuracy: 0.9389 - val_loss: 0.1326 - val_accuracy: 0.9381\n",
      "Epoch 95/140\n",
      "226/226 [==============================] - 8s 36ms/step - loss: 0.1287 - accuracy: 0.9398 - val_loss: 0.1344 - val_accuracy: 0.9374\n",
      "Epoch 96/140\n",
      "226/226 [==============================] - 8s 35ms/step - loss: 0.1324 - accuracy: 0.9382 - val_loss: 0.1353 - val_accuracy: 0.9371\n",
      "Epoch 97/140\n",
      "226/226 [==============================] - 8s 36ms/step - loss: 0.1278 - accuracy: 0.9401 - val_loss: 0.1362 - val_accuracy: 0.9360\n",
      "Epoch 98/140\n",
      "226/226 [==============================] - 8s 36ms/step - loss: 0.1313 - accuracy: 0.9387 - val_loss: 0.1302 - val_accuracy: 0.9387\n",
      "Epoch 99/140\n",
      "226/226 [==============================] - 8s 35ms/step - loss: 0.1282 - accuracy: 0.9399 - val_loss: 0.1333 - val_accuracy: 0.9374\n",
      "Epoch 100/140\n",
      "226/226 [==============================] - 8s 36ms/step - loss: 0.1287 - accuracy: 0.9397 - val_loss: 0.1353 - val_accuracy: 0.9370\n",
      "Epoch 101/140\n",
      "226/226 [==============================] - 8s 36ms/step - loss: 0.1278 - accuracy: 0.9401 - val_loss: 0.1317 - val_accuracy: 0.9379\n",
      "Epoch 102/140\n",
      "226/226 [==============================] - 8s 36ms/step - loss: 0.1276 - accuracy: 0.9400 - val_loss: 0.1322 - val_accuracy: 0.9380\n",
      "Epoch 103/140\n",
      "226/226 [==============================] - 8s 36ms/step - loss: 0.1271 - accuracy: 0.9403 - val_loss: 0.1323 - val_accuracy: 0.9379\n",
      "Epoch 104/140\n",
      "226/226 [==============================] - 8s 36ms/step - loss: 0.1279 - accuracy: 0.9401 - val_loss: 0.1326 - val_accuracy: 0.9380\n",
      "Epoch 105/140\n",
      "226/226 [==============================] - 8s 36ms/step - loss: 0.1271 - accuracy: 0.9403 - val_loss: 0.1364 - val_accuracy: 0.9359\n",
      "Epoch 106/140\n",
      "226/226 [==============================] - 8s 35ms/step - loss: 0.1290 - accuracy: 0.9395 - val_loss: 0.1352 - val_accuracy: 0.9370\n",
      "Epoch 107/140\n",
      "226/226 [==============================] - 8s 35ms/step - loss: 0.1281 - accuracy: 0.9402 - val_loss: 0.1313 - val_accuracy: 0.9383\n",
      "Epoch 108/140\n",
      "226/226 [==============================] - 8s 36ms/step - loss: 0.1272 - accuracy: 0.9403 - val_loss: 0.1296 - val_accuracy: 0.9389\n",
      "Epoch 109/140\n",
      "226/226 [==============================] - 8s 36ms/step - loss: 0.1267 - accuracy: 0.9406 - val_loss: 0.1311 - val_accuracy: 0.9386\n",
      "Epoch 110/140\n",
      "226/226 [==============================] - 8s 35ms/step - loss: 0.1262 - accuracy: 0.9409 - val_loss: 0.1298 - val_accuracy: 0.9391\n",
      "Epoch 111/140\n",
      "226/226 [==============================] - 8s 36ms/step - loss: 0.1269 - accuracy: 0.9405 - val_loss: 0.1301 - val_accuracy: 0.9386\n",
      "Epoch 112/140\n",
      "226/226 [==============================] - 8s 36ms/step - loss: 0.1269 - accuracy: 0.9404 - val_loss: 0.1311 - val_accuracy: 0.9383\n",
      "Epoch 113/140\n",
      "226/226 [==============================] - 8s 36ms/step - loss: 0.1262 - accuracy: 0.9408 - val_loss: 0.1322 - val_accuracy: 0.9380\n",
      "Epoch 114/140\n",
      "226/226 [==============================] - 8s 36ms/step - loss: 0.1263 - accuracy: 0.9408 - val_loss: 0.1302 - val_accuracy: 0.9385\n",
      "Epoch 115/140\n",
      "226/226 [==============================] - 8s 36ms/step - loss: 0.1265 - accuracy: 0.9406 - val_loss: 0.1322 - val_accuracy: 0.9379\n",
      "Epoch 116/140\n",
      "226/226 [==============================] - 8s 36ms/step - loss: 0.1260 - accuracy: 0.9407 - val_loss: 0.1293 - val_accuracy: 0.9389\n",
      "Epoch 117/140\n",
      "226/226 [==============================] - 8s 36ms/step - loss: 0.1253 - accuracy: 0.9410 - val_loss: 0.1308 - val_accuracy: 0.9385\n",
      "Epoch 118/140\n",
      "226/226 [==============================] - 8s 36ms/step - loss: 0.1258 - accuracy: 0.9410 - val_loss: 0.1293 - val_accuracy: 0.9392\n",
      "Epoch 119/140\n",
      "226/226 [==============================] - 8s 36ms/step - loss: 0.1252 - accuracy: 0.9413 - val_loss: 0.1289 - val_accuracy: 0.9397\n",
      "Epoch 120/140\n",
      "226/226 [==============================] - 8s 36ms/step - loss: 0.1241 - accuracy: 0.9417 - val_loss: 0.1298 - val_accuracy: 0.9391\n",
      "Epoch 121/140\n",
      "226/226 [==============================] - 8s 36ms/step - loss: 0.1252 - accuracy: 0.9411 - val_loss: 0.1286 - val_accuracy: 0.9393\n",
      "Epoch 122/140\n",
      "226/226 [==============================] - 8s 36ms/step - loss: 0.1255 - accuracy: 0.9410 - val_loss: 0.1285 - val_accuracy: 0.9399\n",
      "Epoch 123/140\n",
      "226/226 [==============================] - 8s 35ms/step - loss: 0.1245 - accuracy: 0.9415 - val_loss: 0.1312 - val_accuracy: 0.9384\n",
      "Epoch 124/140\n",
      "226/226 [==============================] - 8s 36ms/step - loss: 0.1242 - accuracy: 0.9416 - val_loss: 0.1284 - val_accuracy: 0.9395\n",
      "Epoch 125/140\n",
      "226/226 [==============================] - 8s 36ms/step - loss: 0.1246 - accuracy: 0.9414 - val_loss: 0.1311 - val_accuracy: 0.9385\n",
      "Epoch 126/140\n",
      "226/226 [==============================] - 8s 36ms/step - loss: 0.1242 - accuracy: 0.9416 - val_loss: 0.1285 - val_accuracy: 0.9396\n",
      "Epoch 127/140\n",
      "226/226 [==============================] - 8s 36ms/step - loss: 0.1244 - accuracy: 0.9415 - val_loss: 0.1316 - val_accuracy: 0.9383\n",
      "Epoch 128/140\n",
      "226/226 [==============================] - 8s 36ms/step - loss: 0.1252 - accuracy: 0.9412 - val_loss: 0.1294 - val_accuracy: 0.9389\n",
      "Epoch 129/140\n",
      "226/226 [==============================] - 8s 36ms/step - loss: 0.1245 - accuracy: 0.9414 - val_loss: 0.1361 - val_accuracy: 0.9363\n",
      "Epoch 130/140\n",
      "226/226 [==============================] - 8s 36ms/step - loss: 0.1237 - accuracy: 0.9418 - val_loss: 0.1280 - val_accuracy: 0.9402\n",
      "Epoch 131/140\n",
      "226/226 [==============================] - 8s 36ms/step - loss: 0.1232 - accuracy: 0.9421 - val_loss: 0.1280 - val_accuracy: 0.9400\n",
      "Epoch 132/140\n",
      "226/226 [==============================] - 8s 36ms/step - loss: 0.1246 - accuracy: 0.9414 - val_loss: 0.1313 - val_accuracy: 0.9387\n",
      "Epoch 133/140\n",
      "226/226 [==============================] - 8s 36ms/step - loss: 0.1229 - accuracy: 0.9421 - val_loss: 0.1285 - val_accuracy: 0.9395\n",
      "Epoch 134/140\n",
      "226/226 [==============================] - 8s 36ms/step - loss: 0.1235 - accuracy: 0.9420 - val_loss: 0.1293 - val_accuracy: 0.9396\n",
      "Epoch 135/140\n",
      "226/226 [==============================] - 8s 36ms/step - loss: 0.1238 - accuracy: 0.9419 - val_loss: 0.1321 - val_accuracy: 0.9382\n",
      "Epoch 136/140\n",
      "226/226 [==============================] - 8s 36ms/step - loss: 0.1229 - accuracy: 0.9421 - val_loss: 0.1302 - val_accuracy: 0.9389\n",
      "Epoch 137/140\n",
      "226/226 [==============================] - 8s 36ms/step - loss: 0.1233 - accuracy: 0.9419 - val_loss: 0.1282 - val_accuracy: 0.9398\n",
      "Epoch 138/140\n",
      "226/226 [==============================] - 8s 36ms/step - loss: 0.1222 - accuracy: 0.9425 - val_loss: 0.1390 - val_accuracy: 0.9349\n",
      "Epoch 139/140\n",
      "226/226 [==============================] - 8s 35ms/step - loss: 0.1225 - accuracy: 0.9423 - val_loss: 0.1269 - val_accuracy: 0.9406\n",
      "Epoch 140/140\n",
      "226/226 [==============================] - 8s 36ms/step - loss: 0.1219 - accuracy: 0.9426 - val_loss: 0.1277 - val_accuracy: 0.9403\n"
     ]
    }
   ],
   "source": [
    "#Model training\n",
    "fit3 = model3.fit(\n",
    "  x_train_s, y_train_our,\n",
    "  epochs=140,\n",
    "  validation_split=0.1,#0.1 ok for 160epochs\n",
    "  #validation_data=(x_val_s, y_val_s),\n",
    "  #callbacks=[mc]\n",
    ")"
   ]
  },
  {
   "cell_type": "code",
   "execution_count": 13,
   "metadata": {},
   "outputs": [
    {
     "name": "stdout",
     "output_type": "stream",
     "text": [
      "Collecting matplotlib\n",
      "  Downloading matplotlib-3.3.4-cp36-cp36m-manylinux1_x86_64.whl (11.5 MB)\n",
      "\u001b[K     |████████████████████████████████| 11.5 MB 1.5 MB/s eta 0:00:01\n",
      "\u001b[?25hRequirement already satisfied: pyparsing!=2.0.4,!=2.1.2,!=2.1.6,>=2.0.3 in /usr/local/lib/python3.6/dist-packages (from matplotlib) (2.4.7)\n",
      "Collecting cycler>=0.10\n",
      "  Downloading cycler-0.10.0-py2.py3-none-any.whl (6.5 kB)\n",
      "Collecting kiwisolver>=1.0.1\n",
      "  Downloading kiwisolver-1.3.1-cp36-cp36m-manylinux1_x86_64.whl (1.1 MB)\n",
      "\u001b[K     |████████████████████████████████| 1.1 MB 6.9 MB/s eta 0:00:01\n",
      "\u001b[?25hCollecting pillow>=6.2.0\n",
      "  Downloading Pillow-8.3.2-cp36-cp36m-manylinux_2_17_x86_64.manylinux2014_x86_64.whl (3.0 MB)\n",
      "\u001b[K     |████████████████████████████████| 3.0 MB 1.5 MB/s eta 0:00:01\n",
      "\u001b[?25hRequirement already satisfied: python-dateutil>=2.1 in /usr/local/lib/python3.6/dist-packages (from matplotlib) (2.8.1)\n",
      "Requirement already satisfied: numpy>=1.15 in /usr/local/lib/python3.6/dist-packages (from matplotlib) (1.17.3)\n",
      "Requirement already satisfied: six in /usr/local/lib/python3.6/dist-packages (from cycler>=0.10->matplotlib) (1.15.0)\n",
      "Installing collected packages: cycler, kiwisolver, pillow, matplotlib\n",
      "Successfully installed cycler-0.10.0 kiwisolver-1.3.1 matplotlib-3.3.4 pillow-8.3.2\n",
      "\u001b[33mWARNING: You are using pip version 20.2.3; however, version 21.2.4 is available.\n",
      "You should consider upgrading via the '/usr/bin/python -m pip install --upgrade pip' command.\u001b[0m\n"
     ]
    }
   ],
   "source": [
    "!pip install matplotlib"
   ]
  },
  {
   "cell_type": "code",
   "execution_count": 14,
   "metadata": {},
   "outputs": [
    {
     "data": {
      "image/png": "[encoded data removed]",
      "text/plain": [
       "<Figure size 432x288 with 1 Axes>"
      ]
     },
     "metadata": {
      "needs_background": "light"
     },
     "output_type": "display_data"
    },
    {
     "data": {
      "image/png": "[encoded data removed]",
      "text/plain": [
       "<Figure size 432x288 with 1 Axes>"
      ]
     },
     "metadata": {
      "needs_background": "light"
     },
     "output_type": "display_data"
    }
   ],
   "source": [
    "#For plotting the accuracy and loss curves\n",
    "\n",
    "import matplotlib.pyplot as plt\n",
    "\n",
    "# Accuracy graph\n",
    "plt.plot(fit3.history['accuracy'])\n",
    "plt.plot(fit3.history['val_accuracy'])\n",
    "plt.title('model accuracy')\n",
    "plt.ylabel('accuracy')\n",
    "plt.xlabel('epoch')\n",
    "plt.legend(['train', 'test'], loc='upper left')\n",
    "plt.show()\n",
    "#plt.savefig('/content/drive/MyDrive/CNN_for_STR_ASSIGNMENT_DATA_and_CODES/accuracy88Accuracy.eps')\n",
    "\n",
    "# loss graph\n",
    "plt.plot(fit3.history['loss'])\n",
    "plt.plot(fit3.history['val_loss'])\n",
    "plt.title('model loss')\n",
    "plt.ylabel('loss')\n",
    "plt.xlabel('epoch')\n",
    "plt.legend(['train', 'test'], loc='upper left')\n",
    "plt.show()\n",
    "#plt.savefig('/content/drive/MyDrive/CNN_for_STR_ASSIGNMENT_DATA_and_CODES/loss88Acculoss.eps')"
   ]
  },
  {
   "cell_type": "code",
   "execution_count": 15,
   "metadata": {},
   "outputs": [
    {
     "data": {
      "image/png": "[encoded data removed]",
      "text/plain": [
       "<Figure size 432x288 with 1 Axes>"
      ]
     },
     "metadata": {
      "needs_background": "light"
     },
     "output_type": "display_data"
    },
    {
     "data": {
      "image/png": "[encoded data removed]",
      "text/plain": [
       "<Figure size 432x288 with 1 Axes>"
      ]
     },
     "metadata": {
      "needs_background": "light"
     },
     "output_type": "display_data"
    }
   ],
   "source": [
    "import matplotlib.pyplot as plt\n",
    "\n",
    "# Accuracy graph\n",
    "plt.plot(fit3.history['accuracy'])\n",
    "plt.plot(fit3.history['val_accuracy'])\n",
    "plt.title('model accuracy')\n",
    "plt.ylabel('accuracy')\n",
    "plt.xlabel('epoch')\n",
    "plt.legend(['train', 'test'], loc='upper left')\n",
    "plt.show()\n",
    "#plt.savefig('/content/drive/MyDrive/CNN_for_STR_ASSIGNMENT_DATA_and_CODES/accuracy88Accuracy.eps')\n",
    "\n",
    "# loss graph\n",
    "plt.plot(fit3.history['loss'])\n",
    "plt.plot(fit3.history['val_loss'])\n",
    "plt.title('model loss')\n",
    "plt.ylabel('loss')\n",
    "plt.xlabel('epoch')\n",
    "plt.legend(['train', 'test'], loc='upper left')\n",
    "plt.show()\n",
    "#plt.savefig('/content/drive/MyDrive/CNN_for_STR_ASSIGNMENT_DATA_and_CODES/loss88Acculoss.eps')"
   ]
  },
  {
   "cell_type": "code",
   "execution_count": 15,
   "metadata": {},
   "outputs": [
    {
     "name": "stdout",
     "output_type": "stream",
     "text": [
      "32/32 [==============================] - 1s 16ms/step - loss: 0.1273 - accuracy: 0.9402\n"
     ]
    },
    {
     "data": {
      "text/plain": [
       "[0.127341166138649, 0.9402080178260803]"
      ]
     },
     "execution_count": 15,
     "metadata": {},
     "output_type": "execute_result"
    }
   ],
   "source": [
    "#Evaluation on test set(new set)\n",
    "model3.evaluate(x_test_s, y_test_our)"
   ]
  },
  {
   "cell_type": "code",
   "execution_count": 16,
   "metadata": {},
   "outputs": [
    {
     "name": "stdout",
     "output_type": "stream",
     "text": [
      "6/6 [==============================] - 0s 40ms/step - loss: 0.1331 - accuracy: 0.9419\n"
     ]
    },
    {
     "data": {
      "text/plain": [
       "[0.13309545814990997, 0.9418941736221313]"
      ]
     },
     "execution_count": 16,
     "metadata": {},
     "output_type": "execute_result"
    }
   ],
   "source": [
    "#Evaluation on benchmark set\n",
    "model3.evaluate(x_bench, y_bench)"
   ]
  },
  {
   "cell_type": "code",
   "execution_count": 17,
   "metadata": {},
   "outputs": [
    {
     "name": "stdout",
     "output_type": "stream",
     "text": [
      "Model: \"functional_3\"\n",
      "__________________________________________________________________________________________________\n",
      "Layer (type)                    Output Shape         Param #     Connected to                     \n",
      "==================================================================================================\n",
      "input_2 (InputLayer)            [(None, 500, 23, 1)] 0                                            \n",
      "__________________________________________________________________________________________________\n",
      "conv2d_8 (Conv2D)               (None, 500, 23, 64)  640         input_2[0][0]                    \n",
      "__________________________________________________________________________________________________\n",
      "leaky_re_lu_4 (LeakyReLU)       (None, 500, 23, 64)  0           conv2d_8[0][0]                   \n",
      "__________________________________________________________________________________________________\n",
      "conv2d_9 (Conv2D)               (None, 500, 23, 64)  4160        leaky_re_lu_4[0][0]              \n",
      "__________________________________________________________________________________________________\n",
      "add_2 (Add)                     (None, 500, 23, 64)  0           input_2[0][0]                    \n",
      "                                                                 conv2d_9[0][0]                   \n",
      "__________________________________________________________________________________________________\n",
      "leaky_re_lu_5 (LeakyReLU)       (None, 500, 23, 64)  0           add_2[0][0]                      \n",
      "__________________________________________________________________________________________________\n",
      "conv2d_10 (Conv2D)              (None, 500, 23, 32)  51232       leaky_re_lu_5[0][0]              \n",
      "__________________________________________________________________________________________________\n",
      "conv2d_11 (Conv2D)              (None, 500, 23, 32)  25632       conv2d_10[0][0]                  \n",
      "__________________________________________________________________________________________________\n",
      "conv2d_12 (Conv2D)              (None, 500, 23, 32)  25632       conv2d_11[0][0]                  \n",
      "__________________________________________________________________________________________________\n",
      "conv2d_13 (Conv2D)              (None, 500, 23, 32)  9248        conv2d_12[0][0]                  \n",
      "__________________________________________________________________________________________________\n",
      "leaky_re_lu_6 (LeakyReLU)       (None, 500, 23, 32)  0           conv2d_13[0][0]                  \n",
      "__________________________________________________________________________________________________\n",
      "conv2d_14 (Conv2D)              (None, 500, 23, 32)  1056        leaky_re_lu_6[0][0]              \n",
      "__________________________________________________________________________________________________\n",
      "add_3 (Add)                     (None, 500, 23, 32)  0           conv2d_12[0][0]                  \n",
      "                                                                 conv2d_14[0][0]                  \n",
      "__________________________________________________________________________________________________\n",
      "leaky_re_lu_7 (LeakyReLU)       (None, 500, 23, 32)  0           add_3[0][0]                      \n",
      "__________________________________________________________________________________________________\n",
      "conv2d_15 (Conv2D)              (None, 500, 23, 1)   33          leaky_re_lu_7[0][0]              \n",
      "__________________________________________________________________________________________________\n",
      "reshape_1 (Reshape)             (None, 500, 23)      0           conv2d_15[0][0]                  \n",
      "__________________________________________________________________________________________________\n",
      "lstm (LSTM)                     (None, 500, 32)      7168        reshape_1[0][0]                  \n",
      "__________________________________________________________________________________________________\n",
      "dense_3 (Dense)                 (None, 500, 256)     8448        lstm[0][0]                       \n",
      "__________________________________________________________________________________________________\n",
      "dense_4 (Dense)                 (None, 500, 256)     65792       dense_3[0][0]                    \n",
      "__________________________________________________________________________________________________\n",
      "dense_5 (Dense)                 (None, 500, 3)       771         dense_4[0][0]                    \n",
      "==================================================================================================\n",
      "Total params: 199,812\n",
      "Trainable params: 199,812\n",
      "Non-trainable params: 0\n",
      "__________________________________________________________________________________________________\n"
     ]
    }
   ],
   "source": [
    "# ------------------------ResNet-LSTM model definition---------------------------\n",
    "\n",
    "inp = layers.Input(shape=(x_train_s.shape[1], x_train_s.shape[2], x_train_s.shape[3]))\n",
    "#m = layers.Masking(mask_value=0.0)(inp)#original\n",
    "m=(inp)\n",
    "m = residual_block(m, 64) #original 64\n",
    "m = layers.Conv2D(32, kernel_size=(5, 5), activation='relu', padding='same')(m)\n",
    "#m = layers.BatchNormalization()(m)# was not there in original\n",
    "#m = Dropout(0.1)(m)\n",
    "m = layers.Conv2D(32, kernel_size=(5, 5), activation='relu', padding='same')(m)#not in original\n",
    "#m = layers.BatchNormalization()(m)# was not there in original\n",
    "#m = Dropout(0.1)(m)\n",
    "m = layers.Conv2D(32, kernel_size=(5, 5), activation='relu', padding='same')(m)#not in original, in between a sudden change when I add this\n",
    "#m = layers.BatchNormalization()(m)# was not there in original\n",
    "#m = Dropout(0.1)(m)\n",
    "m = residual_block(m, 32) #original 32\n",
    "#m = layers.Conv2D(32, kernel_size=(5, 5), activation='relu', padding='same')(m)#not in original\n",
    "m = layers.Conv2D(1, kernel_size=(1, 1), activation='relu', padding='same')(m)\n",
    "m = layers.Reshape([500, 23])(m)\n",
    "m = layers.LSTM(32, return_sequences=True)(m)\n",
    "#m = layers.Reshape([500, 23])(m)\n",
    "\n",
    "#m = layers.LSTM(32, input_shape=(500,23), return_sequences=True),\n",
    "m = Dense(256, activation='relu')(m)#200\n",
    "#m = Dropout(0.2)(m)\n",
    "m = Dense(256, activation='relu')(m)#300\n",
    "#m = Dropout(0.2)(m)\n",
    "out = Dense(3, activation='softmax')(m)\n",
    "\n",
    "model7 = tf.keras.Model(inputs=inp, outputs=out)\n",
    "\n",
    "model7.summary()\n",
    "\n",
    "opt = tf.keras.optimizers.Adam(learning_rate=0.0001)\n",
    "model7.compile(\n",
    "    optimizer=opt,\n",
    "    #optimizer='Adam',\n",
    "    loss='kullback_leibler_divergence',\n",
    "    #loss='categorical_crossentropy',\n",
    "    #CCE larger loss\n",
    "    metrics=['accuracy']\n",
    ")"
   ]
  },
  {
   "cell_type": "code",
   "execution_count": 18,
   "metadata": {},
   "outputs": [
    {
     "name": "stdout",
     "output_type": "stream",
     "text": [
      "Epoch 1/120\n",
      "226/226 [==============================] - 13s 59ms/step - loss: 0.4688 - accuracy: 0.1774 - val_loss: 0.4676 - val_accuracy: 0.1818\n",
      "Epoch 2/120\n",
      "226/226 [==============================] - 12s 55ms/step - loss: 0.4245 - accuracy: 0.5523 - val_loss: 0.3850 - val_accuracy: 0.8117\n",
      "Epoch 3/120\n",
      "226/226 [==============================] - 13s 56ms/step - loss: 0.3386 - accuracy: 0.8388 - val_loss: 0.2927 - val_accuracy: 0.8665\n",
      "Epoch 4/120\n",
      "226/226 [==============================] - 13s 56ms/step - loss: 0.2574 - accuracy: 0.8830 - val_loss: 0.2419 - val_accuracy: 0.8908\n",
      "Epoch 5/120\n",
      "226/226 [==============================] - 13s 55ms/step - loss: 0.2219 - accuracy: 0.8994 - val_loss: 0.2089 - val_accuracy: 0.9057\n",
      "Epoch 6/120\n",
      "226/226 [==============================] - 13s 56ms/step - loss: 0.1993 - accuracy: 0.9095 - val_loss: 0.2068 - val_accuracy: 0.9065\n",
      "Epoch 7/120\n",
      "226/226 [==============================] - 13s 55ms/step - loss: 0.1902 - accuracy: 0.9137 - val_loss: 0.1842 - val_accuracy: 0.9157\n",
      "Epoch 8/120\n",
      "226/226 [==============================] - 13s 56ms/step - loss: 0.1868 - accuracy: 0.9153 - val_loss: 0.1773 - val_accuracy: 0.9191\n",
      "Epoch 9/120\n",
      "226/226 [==============================] - 13s 56ms/step - loss: 0.1773 - accuracy: 0.9189 - val_loss: 0.1723 - val_accuracy: 0.9213\n",
      "Epoch 10/120\n",
      "226/226 [==============================] - 13s 55ms/step - loss: 0.1708 - accuracy: 0.9217 - val_loss: 0.1760 - val_accuracy: 0.9200\n",
      "Epoch 11/120\n",
      "226/226 [==============================] - 13s 56ms/step - loss: 0.1703 - accuracy: 0.9220 - val_loss: 0.1647 - val_accuracy: 0.9244\n",
      "Epoch 12/120\n",
      "226/226 [==============================] - 13s 56ms/step - loss: 0.1653 - accuracy: 0.9239 - val_loss: 0.2064 - val_accuracy: 0.9077\n",
      "Epoch 13/120\n",
      "226/226 [==============================] - 13s 56ms/step - loss: 0.1687 - accuracy: 0.9229 - val_loss: 0.1681 - val_accuracy: 0.9235\n",
      "Epoch 14/120\n",
      "226/226 [==============================] - 13s 56ms/step - loss: 0.1639 - accuracy: 0.9247 - val_loss: 0.1600 - val_accuracy: 0.9260\n",
      "Epoch 15/120\n",
      "226/226 [==============================] - 13s 56ms/step - loss: 0.1630 - accuracy: 0.9252 - val_loss: 0.1631 - val_accuracy: 0.9257\n",
      "Epoch 16/120\n",
      "226/226 [==============================] - 13s 56ms/step - loss: 0.1625 - accuracy: 0.9255 - val_loss: 0.1633 - val_accuracy: 0.9253\n",
      "Epoch 17/120\n",
      "226/226 [==============================] - 13s 56ms/step - loss: 0.1579 - accuracy: 0.9274 - val_loss: 0.1586 - val_accuracy: 0.9268\n",
      "Epoch 18/120\n",
      "226/226 [==============================] - 12s 55ms/step - loss: 0.1606 - accuracy: 0.9263 - val_loss: 0.1613 - val_accuracy: 0.9257\n",
      "Epoch 19/120\n",
      "226/226 [==============================] - 13s 56ms/step - loss: 0.1566 - accuracy: 0.9280 - val_loss: 0.1604 - val_accuracy: 0.9262\n",
      "Epoch 20/120\n",
      "226/226 [==============================] - 13s 56ms/step - loss: 0.1538 - accuracy: 0.9294 - val_loss: 0.1535 - val_accuracy: 0.9290\n",
      "Epoch 21/120\n",
      "226/226 [==============================] - 13s 56ms/step - loss: 0.1528 - accuracy: 0.9296 - val_loss: 0.1576 - val_accuracy: 0.9281\n",
      "Epoch 22/120\n",
      "226/226 [==============================] - 12s 55ms/step - loss: 0.1500 - accuracy: 0.9309 - val_loss: 0.1522 - val_accuracy: 0.9299\n",
      "Epoch 23/120\n",
      "226/226 [==============================] - 13s 55ms/step - loss: 0.1509 - accuracy: 0.9304 - val_loss: 0.1497 - val_accuracy: 0.9309\n",
      "Epoch 24/120\n",
      "226/226 [==============================] - 13s 56ms/step - loss: 0.1532 - accuracy: 0.9293 - val_loss: 0.1673 - val_accuracy: 0.9245\n",
      "Epoch 25/120\n",
      "226/226 [==============================] - 13s 56ms/step - loss: 0.1508 - accuracy: 0.9305 - val_loss: 0.1515 - val_accuracy: 0.9299\n",
      "Epoch 26/120\n",
      "226/226 [==============================] - 13s 56ms/step - loss: 0.1467 - accuracy: 0.9322 - val_loss: 0.1526 - val_accuracy: 0.9299\n",
      "Epoch 27/120\n",
      "226/226 [==============================] - 13s 56ms/step - loss: 0.1507 - accuracy: 0.9305 - val_loss: 0.1490 - val_accuracy: 0.9307\n",
      "Epoch 28/120\n",
      "226/226 [==============================] - 13s 56ms/step - loss: 0.1454 - accuracy: 0.9326 - val_loss: 0.1468 - val_accuracy: 0.9315\n",
      "Epoch 29/120\n",
      "226/226 [==============================] - 13s 56ms/step - loss: 0.1469 - accuracy: 0.9320 - val_loss: 0.1462 - val_accuracy: 0.9322\n",
      "Epoch 30/120\n",
      "226/226 [==============================] - 12s 55ms/step - loss: 0.1443 - accuracy: 0.9331 - val_loss: 0.1465 - val_accuracy: 0.9321\n",
      "Epoch 31/120\n",
      "226/226 [==============================] - 13s 55ms/step - loss: 0.1465 - accuracy: 0.9322 - val_loss: 0.1606 - val_accuracy: 0.9273\n",
      "Epoch 32/120\n",
      "226/226 [==============================] - 13s 56ms/step - loss: 0.1456 - accuracy: 0.9326 - val_loss: 0.1481 - val_accuracy: 0.9309\n",
      "Epoch 33/120\n",
      "226/226 [==============================] - 13s 56ms/step - loss: 0.1442 - accuracy: 0.9331 - val_loss: 0.1485 - val_accuracy: 0.9311\n",
      "Epoch 34/120\n",
      "226/226 [==============================] - 13s 56ms/step - loss: 0.1429 - accuracy: 0.9337 - val_loss: 0.1442 - val_accuracy: 0.9326\n",
      "Epoch 35/120\n",
      "226/226 [==============================] - 13s 56ms/step - loss: 0.1414 - accuracy: 0.9344 - val_loss: 0.1425 - val_accuracy: 0.9331\n",
      "Epoch 36/120\n",
      "226/226 [==============================] - 13s 56ms/step - loss: 0.1406 - accuracy: 0.9344 - val_loss: 0.1470 - val_accuracy: 0.9316\n",
      "Epoch 37/120\n",
      "226/226 [==============================] - 13s 56ms/step - loss: 0.1413 - accuracy: 0.9343 - val_loss: 0.1443 - val_accuracy: 0.9329\n",
      "Epoch 38/120\n",
      "226/226 [==============================] - 13s 56ms/step - loss: 0.1401 - accuracy: 0.9348 - val_loss: 0.1400 - val_accuracy: 0.9345\n",
      "Epoch 39/120\n",
      "226/226 [==============================] - 13s 56ms/step - loss: 0.1416 - accuracy: 0.9344 - val_loss: 0.1413 - val_accuracy: 0.9338\n",
      "Epoch 40/120\n",
      "226/226 [==============================] - 13s 56ms/step - loss: 0.1376 - accuracy: 0.9359 - val_loss: 0.1387 - val_accuracy: 0.9348\n",
      "Epoch 41/120\n",
      "226/226 [==============================] - 13s 56ms/step - loss: 0.1395 - accuracy: 0.9353 - val_loss: 0.1425 - val_accuracy: 0.9334\n",
      "Epoch 42/120\n",
      "226/226 [==============================] - 13s 56ms/step - loss: 0.1385 - accuracy: 0.9355 - val_loss: 0.1407 - val_accuracy: 0.9342\n",
      "Epoch 43/120\n",
      "226/226 [==============================] - 13s 56ms/step - loss: 0.1377 - accuracy: 0.9360 - val_loss: 0.1400 - val_accuracy: 0.9339\n",
      "Epoch 44/120\n",
      "226/226 [==============================] - 13s 55ms/step - loss: 0.1425 - accuracy: 0.9341 - val_loss: 0.1379 - val_accuracy: 0.9354\n",
      "Epoch 45/120\n",
      "226/226 [==============================] - 13s 55ms/step - loss: 0.1373 - accuracy: 0.9360 - val_loss: 0.1383 - val_accuracy: 0.9355\n",
      "Epoch 46/120\n",
      "226/226 [==============================] - 13s 56ms/step - loss: 0.1359 - accuracy: 0.9365 - val_loss: 0.1377 - val_accuracy: 0.9351\n",
      "Epoch 47/120\n",
      "226/226 [==============================] - 13s 56ms/step - loss: 0.1354 - accuracy: 0.9368 - val_loss: 0.1393 - val_accuracy: 0.9348\n",
      "Epoch 48/120\n",
      "226/226 [==============================] - 13s 55ms/step - loss: 0.1344 - accuracy: 0.9372 - val_loss: 0.1384 - val_accuracy: 0.9351\n",
      "Epoch 49/120\n",
      "226/226 [==============================] - 13s 56ms/step - loss: 0.1352 - accuracy: 0.9369 - val_loss: 0.1377 - val_accuracy: 0.9352\n",
      "Epoch 50/120\n",
      "226/226 [==============================] - 13s 56ms/step - loss: 0.1369 - accuracy: 0.9361 - val_loss: 0.1478 - val_accuracy: 0.9319\n",
      "Epoch 51/120\n",
      "226/226 [==============================] - 12s 55ms/step - loss: 0.1368 - accuracy: 0.9362 - val_loss: 0.1368 - val_accuracy: 0.9358\n",
      "Epoch 52/120\n",
      "226/226 [==============================] - 13s 56ms/step - loss: 0.1341 - accuracy: 0.9374 - val_loss: 0.1417 - val_accuracy: 0.9337\n",
      "Epoch 53/120\n",
      "226/226 [==============================] - 13s 56ms/step - loss: 0.1335 - accuracy: 0.9375 - val_loss: 0.1378 - val_accuracy: 0.9357\n",
      "Epoch 54/120\n",
      "226/226 [==============================] - 13s 55ms/step - loss: 0.1328 - accuracy: 0.9378 - val_loss: 0.1350 - val_accuracy: 0.9358\n",
      "Epoch 55/120\n",
      "226/226 [==============================] - 13s 55ms/step - loss: 0.1324 - accuracy: 0.9381 - val_loss: 0.1352 - val_accuracy: 0.9364\n",
      "Epoch 56/120\n",
      "226/226 [==============================] - 13s 56ms/step - loss: 0.1324 - accuracy: 0.9381 - val_loss: 0.1355 - val_accuracy: 0.9362\n",
      "Epoch 57/120\n",
      "226/226 [==============================] - 12s 55ms/step - loss: 0.1335 - accuracy: 0.9375 - val_loss: 0.1380 - val_accuracy: 0.9352\n",
      "Epoch 58/120\n",
      "226/226 [==============================] - 13s 56ms/step - loss: 0.1315 - accuracy: 0.9384 - val_loss: 0.1438 - val_accuracy: 0.9332\n",
      "Epoch 59/120\n",
      "226/226 [==============================] - 13s 56ms/step - loss: 0.1312 - accuracy: 0.9385 - val_loss: 0.1352 - val_accuracy: 0.9363\n",
      "Epoch 60/120\n",
      "226/226 [==============================] - 13s 56ms/step - loss: 0.1324 - accuracy: 0.9380 - val_loss: 0.1369 - val_accuracy: 0.9355\n",
      "Epoch 61/120\n",
      "226/226 [==============================] - 13s 56ms/step - loss: 0.1318 - accuracy: 0.9382 - val_loss: 0.1363 - val_accuracy: 0.9358\n",
      "Epoch 62/120\n",
      "226/226 [==============================] - 12s 55ms/step - loss: 0.1330 - accuracy: 0.9379 - val_loss: 0.1458 - val_accuracy: 0.9325\n",
      "Epoch 63/120\n",
      "226/226 [==============================] - 13s 56ms/step - loss: 0.1310 - accuracy: 0.9386 - val_loss: 0.1365 - val_accuracy: 0.9354\n",
      "Epoch 64/120\n",
      "226/226 [==============================] - 13s 56ms/step - loss: 0.1302 - accuracy: 0.9389 - val_loss: 0.1333 - val_accuracy: 0.9370\n",
      "Epoch 65/120\n",
      "226/226 [==============================] - 12s 55ms/step - loss: 0.1300 - accuracy: 0.9391 - val_loss: 0.1510 - val_accuracy: 0.9316\n",
      "Epoch 66/120\n",
      "226/226 [==============================] - 13s 56ms/step - loss: 0.1322 - accuracy: 0.9383 - val_loss: 0.1337 - val_accuracy: 0.9369\n",
      "Epoch 67/120\n",
      "226/226 [==============================] - 13s 56ms/step - loss: 0.1289 - accuracy: 0.9395 - val_loss: 0.1330 - val_accuracy: 0.9373\n",
      "Epoch 68/120\n",
      "226/226 [==============================] - 13s 55ms/step - loss: 0.1305 - accuracy: 0.9388 - val_loss: 0.1384 - val_accuracy: 0.9354\n",
      "Epoch 69/120\n",
      "226/226 [==============================] - 13s 56ms/step - loss: 0.1282 - accuracy: 0.9398 - val_loss: 0.1326 - val_accuracy: 0.9372\n",
      "Epoch 70/120\n",
      "226/226 [==============================] - 13s 56ms/step - loss: 0.1286 - accuracy: 0.9396 - val_loss: 0.1331 - val_accuracy: 0.9371\n",
      "Epoch 71/120\n",
      "226/226 [==============================] - 13s 56ms/step - loss: 0.1288 - accuracy: 0.9395 - val_loss: 0.1374 - val_accuracy: 0.9354\n",
      "Epoch 72/120\n",
      "226/226 [==============================] - 13s 56ms/step - loss: 0.1298 - accuracy: 0.9392 - val_loss: 0.1342 - val_accuracy: 0.9363\n",
      "Epoch 73/120\n",
      "226/226 [==============================] - 13s 55ms/step - loss: 0.1294 - accuracy: 0.9391 - val_loss: 0.1338 - val_accuracy: 0.9367\n",
      "Epoch 74/120\n",
      "226/226 [==============================] - 13s 56ms/step - loss: 0.1274 - accuracy: 0.9401 - val_loss: 0.1312 - val_accuracy: 0.9380\n",
      "Epoch 75/120\n",
      "226/226 [==============================] - 13s 56ms/step - loss: 0.1267 - accuracy: 0.9405 - val_loss: 0.1311 - val_accuracy: 0.9379\n",
      "Epoch 76/120\n",
      "226/226 [==============================] - 13s 56ms/step - loss: 0.1272 - accuracy: 0.9402 - val_loss: 0.1317 - val_accuracy: 0.9378\n",
      "Epoch 77/120\n",
      "226/226 [==============================] - 13s 56ms/step - loss: 0.1267 - accuracy: 0.9405 - val_loss: 0.1333 - val_accuracy: 0.9376\n",
      "Epoch 78/120\n",
      "226/226 [==============================] - 13s 56ms/step - loss: 0.1272 - accuracy: 0.9401 - val_loss: 0.1304 - val_accuracy: 0.9386\n",
      "Epoch 79/120\n",
      "226/226 [==============================] - 13s 56ms/step - loss: 0.1282 - accuracy: 0.9398 - val_loss: 0.1355 - val_accuracy: 0.9361\n",
      "Epoch 80/120\n",
      "226/226 [==============================] - 13s 56ms/step - loss: 0.1271 - accuracy: 0.9403 - val_loss: 0.1311 - val_accuracy: 0.9380\n",
      "Epoch 81/120\n",
      "226/226 [==============================] - 13s 56ms/step - loss: 0.1257 - accuracy: 0.9408 - val_loss: 0.1320 - val_accuracy: 0.9377\n",
      "Epoch 82/120\n",
      "226/226 [==============================] - 13s 56ms/step - loss: 0.1252 - accuracy: 0.9412 - val_loss: 0.1325 - val_accuracy: 0.9371\n",
      "Epoch 83/120\n",
      "226/226 [==============================] - 13s 56ms/step - loss: 0.1250 - accuracy: 0.9412 - val_loss: 0.1306 - val_accuracy: 0.9382\n",
      "Epoch 84/120\n",
      "226/226 [==============================] - 13s 55ms/step - loss: 0.1263 - accuracy: 0.9408 - val_loss: 0.1342 - val_accuracy: 0.9366\n",
      "Epoch 85/120\n",
      "226/226 [==============================] - 13s 55ms/step - loss: 0.1262 - accuracy: 0.9407 - val_loss: 0.1324 - val_accuracy: 0.9377\n",
      "Epoch 86/120\n",
      "226/226 [==============================] - 13s 56ms/step - loss: 0.1256 - accuracy: 0.9411 - val_loss: 0.1293 - val_accuracy: 0.9388\n",
      "Epoch 87/120\n",
      "226/226 [==============================] - 13s 56ms/step - loss: 0.1253 - accuracy: 0.9413 - val_loss: 0.1288 - val_accuracy: 0.9391\n",
      "Epoch 88/120\n",
      "226/226 [==============================] - 13s 55ms/step - loss: 0.1242 - accuracy: 0.9417 - val_loss: 0.1291 - val_accuracy: 0.9393\n",
      "Epoch 89/120\n",
      "226/226 [==============================] - 13s 56ms/step - loss: 0.1245 - accuracy: 0.9415 - val_loss: 0.1320 - val_accuracy: 0.9381\n",
      "Epoch 90/120\n",
      "226/226 [==============================] - 13s 56ms/step - loss: 0.1238 - accuracy: 0.9419 - val_loss: 0.1305 - val_accuracy: 0.9382\n",
      "Epoch 91/120\n",
      "226/226 [==============================] - 13s 56ms/step - loss: 0.1245 - accuracy: 0.9417 - val_loss: 0.1307 - val_accuracy: 0.9386\n",
      "Epoch 92/120\n",
      "226/226 [==============================] - 13s 56ms/step - loss: 0.1251 - accuracy: 0.9415 - val_loss: 0.1318 - val_accuracy: 0.9382\n",
      "Epoch 93/120\n",
      "226/226 [==============================] - 12s 55ms/step - loss: 0.1244 - accuracy: 0.9420 - val_loss: 0.1298 - val_accuracy: 0.9390\n",
      "Epoch 94/120\n",
      "226/226 [==============================] - 13s 56ms/step - loss: 0.1234 - accuracy: 0.9423 - val_loss: 0.1301 - val_accuracy: 0.9388\n",
      "Epoch 95/120\n",
      "226/226 [==============================] - 12s 55ms/step - loss: 0.1253 - accuracy: 0.9415 - val_loss: 0.1304 - val_accuracy: 0.9390\n",
      "Epoch 96/120\n",
      "226/226 [==============================] - 13s 55ms/step - loss: 0.1231 - accuracy: 0.9425 - val_loss: 0.1279 - val_accuracy: 0.9394\n",
      "Epoch 97/120\n",
      "226/226 [==============================] - 13s 56ms/step - loss: 0.1221 - accuracy: 0.9429 - val_loss: 0.1292 - val_accuracy: 0.9392\n",
      "Epoch 98/120\n",
      "226/226 [==============================] - 13s 56ms/step - loss: 0.1230 - accuracy: 0.9424 - val_loss: 0.1298 - val_accuracy: 0.9390\n",
      "Epoch 99/120\n",
      "226/226 [==============================] - 13s 55ms/step - loss: 0.1225 - accuracy: 0.9427 - val_loss: 0.1300 - val_accuracy: 0.9388\n",
      "Epoch 100/120\n",
      "226/226 [==============================] - 13s 56ms/step - loss: 0.1216 - accuracy: 0.9431 - val_loss: 0.1299 - val_accuracy: 0.9386\n",
      "Epoch 101/120\n",
      "226/226 [==============================] - 13s 56ms/step - loss: 0.1225 - accuracy: 0.9428 - val_loss: 0.1352 - val_accuracy: 0.9363\n",
      "Epoch 102/120\n",
      "226/226 [==============================] - 13s 56ms/step - loss: 0.1219 - accuracy: 0.9430 - val_loss: 0.1312 - val_accuracy: 0.9385\n",
      "Epoch 103/120\n",
      "226/226 [==============================] - 13s 56ms/step - loss: 0.1210 - accuracy: 0.9434 - val_loss: 0.1314 - val_accuracy: 0.9384\n",
      "Epoch 104/120\n",
      "226/226 [==============================] - 12s 55ms/step - loss: 0.1207 - accuracy: 0.9436 - val_loss: 0.1290 - val_accuracy: 0.9397\n",
      "Epoch 105/120\n",
      "226/226 [==============================] - 13s 56ms/step - loss: 0.1213 - accuracy: 0.9434 - val_loss: 0.1307 - val_accuracy: 0.9390\n",
      "Epoch 106/120\n",
      "226/226 [==============================] - 13s 56ms/step - loss: 0.1208 - accuracy: 0.9436 - val_loss: 0.1306 - val_accuracy: 0.9386\n",
      "Epoch 107/120\n",
      "226/226 [==============================] - 13s 56ms/step - loss: 0.1217 - accuracy: 0.9432 - val_loss: 0.1314 - val_accuracy: 0.9384\n",
      "Epoch 108/120\n",
      "226/226 [==============================] - 13s 56ms/step - loss: 0.1208 - accuracy: 0.9436 - val_loss: 0.1271 - val_accuracy: 0.9404\n",
      "Epoch 109/120\n",
      "226/226 [==============================] - 13s 56ms/step - loss: 0.1221 - accuracy: 0.9431 - val_loss: 0.1298 - val_accuracy: 0.9394\n",
      "Epoch 110/120\n",
      "226/226 [==============================] - 13s 56ms/step - loss: 0.1215 - accuracy: 0.9432 - val_loss: 0.1274 - val_accuracy: 0.9403\n",
      "Epoch 111/120\n",
      "226/226 [==============================] - 13s 56ms/step - loss: 0.1200 - accuracy: 0.9439 - val_loss: 0.1269 - val_accuracy: 0.9404\n",
      "Epoch 112/120\n",
      "226/226 [==============================] - 13s 56ms/step - loss: 0.1191 - accuracy: 0.9444 - val_loss: 0.1267 - val_accuracy: 0.9406\n",
      "Epoch 113/120\n",
      "226/226 [==============================] - 13s 56ms/step - loss: 0.1194 - accuracy: 0.9442 - val_loss: 0.1264 - val_accuracy: 0.9406\n",
      "Epoch 114/120\n",
      "226/226 [==============================] - 13s 55ms/step - loss: 0.1193 - accuracy: 0.9443 - val_loss: 0.1287 - val_accuracy: 0.9400\n",
      "Epoch 115/120\n",
      "226/226 [==============================] - 13s 56ms/step - loss: 0.1219 - accuracy: 0.9432 - val_loss: 0.1265 - val_accuracy: 0.9408\n",
      "Epoch 116/120\n",
      "226/226 [==============================] - 13s 55ms/step - loss: 0.1189 - accuracy: 0.9445 - val_loss: 0.1306 - val_accuracy: 0.9386\n",
      "Epoch 117/120\n",
      "226/226 [==============================] - 13s 55ms/step - loss: 0.1186 - accuracy: 0.9446 - val_loss: 0.1261 - val_accuracy: 0.9413\n",
      "Epoch 118/120\n",
      "226/226 [==============================] - 13s 56ms/step - loss: 0.1186 - accuracy: 0.9448 - val_loss: 0.1255 - val_accuracy: 0.9413\n",
      "Epoch 119/120\n",
      "226/226 [==============================] - 13s 56ms/step - loss: 0.1184 - accuracy: 0.9449 - val_loss: 0.1260 - val_accuracy: 0.9410\n",
      "Epoch 120/120\n",
      "226/226 [==============================] - 13s 56ms/step - loss: 0.1176 - accuracy: 0.9452 - val_loss: 0.1259 - val_accuracy: 0.9413\n"
     ]
    }
   ],
   "source": [
    "fit7 = model7.fit(\n",
    "  x_train_s, y_train_our,\n",
    "  epochs=120,\n",
    "  validation_split=0.1,#0.1 ok for 160epochs\n",
    "  #validation_data=(x_val_s, y_val_s),\n",
    "  #callbacks=[mc]\n",
    ")"
   ]
  },
  {
   "cell_type": "code",
   "execution_count": 19,
   "metadata": {},
   "outputs": [
    {
     "data": {
      "image/png": "[encoded data removed]",
      "text/plain": [
       "<Figure size 432x288 with 1 Axes>"
      ]
     },
     "metadata": {
      "needs_background": "light"
     },
     "output_type": "display_data"
    },
    {
     "data": {
      "image/png": "[encoded data removed]",
      "text/plain": [
       "<Figure size 432x288 with 1 Axes>"
      ]
     },
     "metadata": {
      "needs_background": "light"
     },
     "output_type": "display_data"
    }
   ],
   "source": [
    "import matplotlib.pyplot as plt\n",
    "\n",
    "# Accuracy graph\n",
    "plt.plot(fit7.history['accuracy'])\n",
    "plt.plot(fit7.history['val_accuracy'])\n",
    "plt.title('model accuracy')\n",
    "plt.ylabel('accuracy')\n",
    "plt.xlabel('epoch')\n",
    "plt.legend(['train', 'test'], loc='upper left')\n",
    "plt.show()\n",
    "#plt.savefig('/content/drive/MyDrive/CNN_for_STR_ASSIGNMENT_DATA_and_CODES/accuracy88Accuracy.eps')\n",
    "\n",
    "# loss graph\n",
    "plt.plot(fit7.history['loss'])\n",
    "plt.plot(fit7.history['val_loss'])\n",
    "plt.title('model loss')\n",
    "plt.ylabel('loss')\n",
    "plt.xlabel('epoch')\n",
    "plt.legend(['train', 'test'], loc='upper left')\n",
    "plt.show()\n",
    "#plt.savefig('/content/drive/MyDrive/CNN_for_STR_ASSIGNMENT_DATA_and_CODES/loss88Acculoss.eps')"
   ]
  },
  {
   "cell_type": "code",
   "execution_count": 20,
   "metadata": {},
   "outputs": [
    {
     "name": "stdout",
     "output_type": "stream",
     "text": [
      "32/32 [==============================] - 1s 20ms/step - loss: 0.1254 - accuracy: 0.9418\n"
     ]
    },
    {
     "data": {
      "text/plain": [
       "[0.12537510693073273, 0.9418060183525085]"
      ]
     },
     "execution_count": 20,
     "metadata": {},
     "output_type": "execute_result"
    }
   ],
   "source": [
    "model7.evaluate(x_test_s, y_test_our)"
   ]
  },
  {
   "cell_type": "code",
   "execution_count": 21,
   "metadata": {},
   "outputs": [
    {
     "name": "stdout",
     "output_type": "stream",
     "text": [
      "6/6 [==============================] - 0s 16ms/step - loss: 0.1340 - accuracy: 0.9430\n"
     ]
    },
    {
     "data": {
      "text/plain": [
       "[0.13398157060146332, 0.9430370330810547]"
      ]
     },
     "execution_count": 21,
     "metadata": {},
     "output_type": "execute_result"
    }
   ],
   "source": [
    "model7.evaluate(x_bench, y_bench)"
   ]
  },
  {
   "cell_type": "code",
   "execution_count": 23,
   "metadata": {},
   "outputs": [],
   "source": [
    "x_train_s = x_train_s.reshape(x_train_s.shape[0], 500, 23)\n",
    "#x_val_s = x_val_s.reshape(x_val_s.shape[0], 500, 23)\n",
    "x_test_s = x_test_s.reshape(x_test_s.shape[0], 500, 23)"
   ]
  },
  {
   "cell_type": "code",
   "execution_count": 26,
   "metadata": {},
   "outputs": [
    {
     "name": "stdout",
     "output_type": "stream",
     "text": [
      "Model: \"sequential_3\"\n",
      "_________________________________________________________________\n",
      "Layer (type)                 Output Shape              Param #   \n",
      "=================================================================\n",
      "lstm_4 (LSTM)                (None, 500, 64)           22528     \n",
      "_________________________________________________________________\n",
      "dense_18 (Dense)             (None, 500, 1024)         66560     \n",
      "_________________________________________________________________\n",
      "dropout_9 (Dropout)          (None, 500, 1024)         0         \n",
      "_________________________________________________________________\n",
      "dense_19 (Dense)             (None, 500, 512)          524800    \n",
      "_________________________________________________________________\n",
      "dropout_10 (Dropout)         (None, 500, 512)          0         \n",
      "_________________________________________________________________\n",
      "dense_20 (Dense)             (None, 500, 256)          131328    \n",
      "_________________________________________________________________\n",
      "dropout_11 (Dropout)         (None, 500, 256)          0         \n",
      "_________________________________________________________________\n",
      "time_distributed_3 (TimeDist (None, 500, 3)            771       \n",
      "=================================================================\n",
      "Total params: 745,987\n",
      "Trainable params: 745,987\n",
      "Non-trainable params: 0\n",
      "_________________________________________________________________\n"
     ]
    }
   ],
   "source": [
    "#Using LSTM_1:\n",
    "\n",
    "model8 = Sequential([\n",
    "    layers.LSTM(64, input_shape=(500,23), return_sequences=True),\n",
    "  #layers.Bidirectional(LSTM(hid_units,  activation = \"tanh\", return_sequences=True), merge_mode=\"concat\",input_shape=(500,23)),\n",
    "    Dense(1024, activation='relu'),\n",
    "    Dropout(0.6),\n",
    "     Dense(512, activation='relu'),\n",
    "    Dropout(0.6),\n",
    "    Dense(256, activation='relu'),\n",
    "    Dropout(0.6),\n",
    "     layers.TimeDistributed(Dense(3, activation = \"softmax\"))\n",
    "])\n",
    "\n",
    "model8.summary()\n",
    "\n",
    "\n",
    "model8.compile(\n",
    "    optimizer='adam',\n",
    "\n",
    "   loss='kullback_leibler_divergence',\n",
    "    metrics=['accuracy']\n",
    ")"
   ]
  },
  {
   "cell_type": "code",
   "execution_count": 27,
   "metadata": {},
   "outputs": [
    {
     "name": "stdout",
     "output_type": "stream",
     "text": [
      "Epoch 1/140\n",
      "201/201 [==============================] - 9s 46ms/step - loss: 0.4694 - accuracy: 0.1877 - val_loss: 0.4726 - val_accuracy: 0.1813\n",
      "Epoch 2/140\n",
      "201/201 [==============================] - 8s 42ms/step - loss: 0.4521 - accuracy: 0.6595 - val_loss: 0.4460 - val_accuracy: 0.2492\n",
      "Epoch 3/140\n",
      "201/201 [==============================] - 8s 42ms/step - loss: 0.4391 - accuracy: 0.4623 - val_loss: 0.4382 - val_accuracy: 0.2497\n",
      "Epoch 4/140\n",
      "201/201 [==============================] - 8s 42ms/step - loss: 0.4298 - accuracy: 0.3407 - val_loss: 0.4318 - val_accuracy: 0.2682\n",
      "Epoch 5/140\n",
      "201/201 [==============================] - 8s 42ms/step - loss: 0.4203 - accuracy: 0.5500 - val_loss: 0.4212 - val_accuracy: 0.7698\n",
      "Epoch 6/140\n",
      "201/201 [==============================] - 8s 42ms/step - loss: 0.4160 - accuracy: 0.5926 - val_loss: 0.4217 - val_accuracy: 0.7719\n",
      "Epoch 7/140\n",
      "201/201 [==============================] - 8s 42ms/step - loss: 0.4126 - accuracy: 0.6184 - val_loss: 0.4182 - val_accuracy: 0.7737\n",
      "Epoch 8/140\n",
      "201/201 [==============================] - 9s 43ms/step - loss: 0.4104 - accuracy: 0.7420 - val_loss: 0.4131 - val_accuracy: 0.7769\n",
      "Epoch 9/140\n",
      "201/201 [==============================] - 8s 42ms/step - loss: 0.4072 - accuracy: 0.6962 - val_loss: 0.4103 - val_accuracy: 0.7876\n",
      "Epoch 10/140\n",
      "201/201 [==============================] - 9s 43ms/step - loss: 0.4058 - accuracy: 0.7222 - val_loss: 0.4101 - val_accuracy: 0.7651\n",
      "Epoch 11/140\n",
      "201/201 [==============================] - 9s 43ms/step - loss: 0.4040 - accuracy: 0.6339 - val_loss: 0.4121 - val_accuracy: 0.7732\n",
      "Epoch 12/140\n",
      "201/201 [==============================] - 8s 42ms/step - loss: 0.4016 - accuracy: 0.6790 - val_loss: 0.4090 - val_accuracy: 0.7139\n",
      "Epoch 13/140\n",
      "201/201 [==============================] - 9s 42ms/step - loss: 0.4011 - accuracy: 0.6178 - val_loss: 0.4065 - val_accuracy: 0.7386\n",
      "Epoch 14/140\n",
      "201/201 [==============================] - 9s 43ms/step - loss: 0.3980 - accuracy: 0.6651 - val_loss: 0.4053 - val_accuracy: 0.5331\n",
      "Epoch 15/140\n",
      "201/201 [==============================] - 9s 42ms/step - loss: 0.3947 - accuracy: 0.6069 - val_loss: 0.3996 - val_accuracy: 0.7797\n",
      "Epoch 16/140\n",
      "201/201 [==============================] - 8s 42ms/step - loss: 0.3941 - accuracy: 0.6771 - val_loss: 0.3981 - val_accuracy: 0.7178\n",
      "Epoch 17/140\n",
      "201/201 [==============================] - 8s 42ms/step - loss: 0.3906 - accuracy: 0.5723 - val_loss: 0.3982 - val_accuracy: 0.3425\n",
      "Epoch 18/140\n",
      "201/201 [==============================] - 9s 43ms/step - loss: 0.3894 - accuracy: 0.7344 - val_loss: 0.3987 - val_accuracy: 0.7979\n",
      "Epoch 19/140\n",
      "201/201 [==============================] - 8s 42ms/step - loss: 0.3872 - accuracy: 0.7782 - val_loss: 0.3907 - val_accuracy: 0.8006\n",
      "Epoch 20/140\n",
      "201/201 [==============================] - 8s 42ms/step - loss: 0.3825 - accuracy: 0.7864 - val_loss: 0.3904 - val_accuracy: 0.8009\n",
      "Epoch 21/140\n",
      "201/201 [==============================] - 9s 43ms/step - loss: 0.3798 - accuracy: 0.8083 - val_loss: 0.3805 - val_accuracy: 0.8062\n",
      "Epoch 22/140\n",
      "201/201 [==============================] - 8s 42ms/step - loss: 0.3750 - accuracy: 0.8106 - val_loss: 0.3769 - val_accuracy: 0.8086\n",
      "Epoch 23/140\n",
      "201/201 [==============================] - 8s 42ms/step - loss: 0.3702 - accuracy: 0.8122 - val_loss: 0.3694 - val_accuracy: 0.8114\n",
      "Epoch 24/140\n",
      "201/201 [==============================] - 8s 42ms/step - loss: 0.3641 - accuracy: 0.8145 - val_loss: 0.3629 - val_accuracy: 0.8153\n",
      "Epoch 25/140\n",
      "201/201 [==============================] - 9s 43ms/step - loss: 0.3567 - accuracy: 0.8177 - val_loss: 0.3606 - val_accuracy: 0.8146\n",
      "Epoch 26/140\n",
      "201/201 [==============================] - 9s 42ms/step - loss: 0.3506 - accuracy: 0.8213 - val_loss: 0.3458 - val_accuracy: 0.8243\n",
      "Epoch 27/140\n",
      "201/201 [==============================] - 8s 42ms/step - loss: 0.3426 - accuracy: 0.8251 - val_loss: 0.3390 - val_accuracy: 0.8260\n",
      "Epoch 28/140\n",
      "201/201 [==============================] - 8s 42ms/step - loss: 0.3361 - accuracy: 0.8289 - val_loss: 0.3335 - val_accuracy: 0.8287\n",
      "Epoch 29/140\n",
      "201/201 [==============================] - 8s 42ms/step - loss: 0.3314 - accuracy: 0.8318 - val_loss: 0.3250 - val_accuracy: 0.8345\n",
      "Epoch 30/140\n",
      "201/201 [==============================] - 8s 42ms/step - loss: 0.3267 - accuracy: 0.8350 - val_loss: 0.3277 - val_accuracy: 0.8326\n",
      "Epoch 31/140\n",
      "201/201 [==============================] - 8s 42ms/step - loss: 0.3229 - accuracy: 0.8370 - val_loss: 0.3235 - val_accuracy: 0.8362\n",
      "Epoch 32/140\n",
      "201/201 [==============================] - 8s 42ms/step - loss: 0.3203 - accuracy: 0.8386 - val_loss: 0.3217 - val_accuracy: 0.8375\n",
      "Epoch 33/140\n",
      "201/201 [==============================] - 8s 42ms/step - loss: 0.3175 - accuracy: 0.8399 - val_loss: 0.3157 - val_accuracy: 0.8396\n",
      "Epoch 34/140\n",
      "201/201 [==============================] - 9s 43ms/step - loss: 0.3148 - accuracy: 0.8411 - val_loss: 0.3137 - val_accuracy: 0.8412\n",
      "Epoch 35/140\n",
      "201/201 [==============================] - 8s 42ms/step - loss: 0.3134 - accuracy: 0.8422 - val_loss: 0.3133 - val_accuracy: 0.8402\n",
      "Epoch 36/140\n",
      "201/201 [==============================] - 9s 42ms/step - loss: 0.3122 - accuracy: 0.8422 - val_loss: 0.3100 - val_accuracy: 0.8430\n",
      "Epoch 37/140\n",
      "201/201 [==============================] - 8s 42ms/step - loss: 0.3102 - accuracy: 0.8442 - val_loss: 0.3087 - val_accuracy: 0.8442\n",
      "Epoch 38/140\n",
      "201/201 [==============================] - 8s 42ms/step - loss: 0.3087 - accuracy: 0.8451 - val_loss: 0.3063 - val_accuracy: 0.8459\n",
      "Epoch 39/140\n",
      "201/201 [==============================] - 8s 42ms/step - loss: 0.3079 - accuracy: 0.8454 - val_loss: 0.3046 - val_accuracy: 0.8463\n",
      "Epoch 40/140\n",
      "201/201 [==============================] - 8s 42ms/step - loss: 0.3062 - accuracy: 0.8458 - val_loss: 0.3065 - val_accuracy: 0.8455\n",
      "Epoch 41/140\n",
      "201/201 [==============================] - 8s 42ms/step - loss: 0.3052 - accuracy: 0.8469 - val_loss: 0.3060 - val_accuracy: 0.8434\n",
      "Epoch 42/140\n",
      "201/201 [==============================] - 9s 42ms/step - loss: 0.3053 - accuracy: 0.8464 - val_loss: 0.3109 - val_accuracy: 0.8444\n",
      "Epoch 43/140\n",
      "201/201 [==============================] - 9s 42ms/step - loss: 0.3034 - accuracy: 0.8480 - val_loss: 0.3077 - val_accuracy: 0.8461\n",
      "Epoch 44/140\n",
      "201/201 [==============================] - 8s 42ms/step - loss: 0.3029 - accuracy: 0.8481 - val_loss: 0.2998 - val_accuracy: 0.8479\n",
      "Epoch 45/140\n",
      "201/201 [==============================] - 8s 41ms/step - loss: 0.3017 - accuracy: 0.8491 - val_loss: 0.3039 - val_accuracy: 0.8476\n",
      "Epoch 46/140\n",
      "201/201 [==============================] - 8s 42ms/step - loss: 0.3010 - accuracy: 0.8493 - val_loss: 0.3067 - val_accuracy: 0.8474\n",
      "Epoch 47/140\n",
      "201/201 [==============================] - 9s 42ms/step - loss: 0.3005 - accuracy: 0.8498 - val_loss: 0.3014 - val_accuracy: 0.8465\n",
      "Epoch 48/140\n",
      "201/201 [==============================] - 9s 42ms/step - loss: 0.3002 - accuracy: 0.8504 - val_loss: 0.3000 - val_accuracy: 0.8499\n",
      "Epoch 49/140\n",
      "201/201 [==============================] - 8s 42ms/step - loss: 0.2984 - accuracy: 0.8514 - val_loss: 0.3018 - val_accuracy: 0.8489\n",
      "Epoch 50/140\n",
      "201/201 [==============================] - 8s 42ms/step - loss: 0.2987 - accuracy: 0.8515 - val_loss: 0.2974 - val_accuracy: 0.8504\n",
      "Epoch 51/140\n",
      "201/201 [==============================] - 9s 42ms/step - loss: 0.2983 - accuracy: 0.8520 - val_loss: 0.3011 - val_accuracy: 0.8491\n",
      "Epoch 52/140\n",
      "201/201 [==============================] - 8s 42ms/step - loss: 0.2976 - accuracy: 0.8525 - val_loss: 0.3001 - val_accuracy: 0.8500\n",
      "Epoch 53/140\n",
      "201/201 [==============================] - 8s 42ms/step - loss: 0.2972 - accuracy: 0.8526 - val_loss: 0.2971 - val_accuracy: 0.8522\n",
      "Epoch 54/140\n",
      "201/201 [==============================] - 8s 42ms/step - loss: 0.2962 - accuracy: 0.8533 - val_loss: 0.2966 - val_accuracy: 0.8527\n",
      "Epoch 55/140\n",
      "201/201 [==============================] - 9s 43ms/step - loss: 0.2955 - accuracy: 0.8541 - val_loss: 0.2998 - val_accuracy: 0.8509\n",
      "Epoch 56/140\n",
      "201/201 [==============================] - 8s 42ms/step - loss: 0.2975 - accuracy: 0.8529 - val_loss: 0.2986 - val_accuracy: 0.8512\n",
      "Epoch 57/140\n",
      "201/201 [==============================] - 8s 42ms/step - loss: 0.2961 - accuracy: 0.8538 - val_loss: 0.2985 - val_accuracy: 0.8513\n",
      "Epoch 58/140\n",
      "201/201 [==============================] - 8s 42ms/step - loss: 0.2951 - accuracy: 0.8543 - val_loss: 0.2984 - val_accuracy: 0.8508\n",
      "Epoch 59/140\n",
      "201/201 [==============================] - 8s 42ms/step - loss: 0.2952 - accuracy: 0.8545 - val_loss: 0.2991 - val_accuracy: 0.8514\n",
      "Epoch 60/140\n",
      "201/201 [==============================] - 8s 42ms/step - loss: 0.2945 - accuracy: 0.8548 - val_loss: 0.2931 - val_accuracy: 0.8545\n",
      "Epoch 61/140\n",
      "201/201 [==============================] - 9s 42ms/step - loss: 0.2926 - accuracy: 0.8560 - val_loss: 0.2930 - val_accuracy: 0.8532\n",
      "Epoch 62/140\n",
      "201/201 [==============================] - 9s 42ms/step - loss: 0.2934 - accuracy: 0.8554 - val_loss: 0.2945 - val_accuracy: 0.8542\n",
      "Epoch 63/140\n",
      "201/201 [==============================] - 9s 42ms/step - loss: 0.2923 - accuracy: 0.8564 - val_loss: 0.2950 - val_accuracy: 0.8533\n",
      "Epoch 64/140\n",
      "201/201 [==============================] - 8s 42ms/step - loss: 0.2923 - accuracy: 0.8560 - val_loss: 0.2932 - val_accuracy: 0.8545\n",
      "Epoch 65/140\n",
      "201/201 [==============================] - 8s 42ms/step - loss: 0.2918 - accuracy: 0.8565 - val_loss: 0.2937 - val_accuracy: 0.8527\n",
      "Epoch 66/140\n",
      "201/201 [==============================] - 9s 42ms/step - loss: 0.2914 - accuracy: 0.8565 - val_loss: 0.2940 - val_accuracy: 0.8546\n",
      "Epoch 67/140\n",
      "201/201 [==============================] - 9s 42ms/step - loss: 0.2914 - accuracy: 0.8569 - val_loss: 0.2956 - val_accuracy: 0.8532\n",
      "Epoch 68/140\n",
      "201/201 [==============================] - 9s 43ms/step - loss: 0.2901 - accuracy: 0.8576 - val_loss: 0.2939 - val_accuracy: 0.8549\n",
      "Epoch 69/140\n",
      "201/201 [==============================] - 8s 42ms/step - loss: 0.2899 - accuracy: 0.8575 - val_loss: 0.2954 - val_accuracy: 0.8538\n",
      "Epoch 70/140\n",
      "201/201 [==============================] - 9s 42ms/step - loss: 0.2899 - accuracy: 0.8576 - val_loss: 0.2911 - val_accuracy: 0.8553\n",
      "Epoch 71/140\n",
      "201/201 [==============================] - 8s 42ms/step - loss: 0.2889 - accuracy: 0.8579 - val_loss: 0.2950 - val_accuracy: 0.8525\n",
      "Epoch 72/140\n",
      "201/201 [==============================] - 8s 42ms/step - loss: 0.2891 - accuracy: 0.8579 - val_loss: 0.2894 - val_accuracy: 0.8568\n",
      "Epoch 73/140\n",
      "201/201 [==============================] - 8s 42ms/step - loss: 0.2887 - accuracy: 0.8584 - val_loss: 0.2913 - val_accuracy: 0.8564\n",
      "Epoch 74/140\n",
      "201/201 [==============================] - 8s 42ms/step - loss: 0.2885 - accuracy: 0.8584 - val_loss: 0.2908 - val_accuracy: 0.8560\n",
      "Epoch 75/140\n",
      "201/201 [==============================] - 8s 42ms/step - loss: 0.2875 - accuracy: 0.8591 - val_loss: 0.2917 - val_accuracy: 0.8553\n",
      "Epoch 76/140\n",
      "201/201 [==============================] - 8s 42ms/step - loss: 0.2880 - accuracy: 0.8590 - val_loss: 0.2897 - val_accuracy: 0.8575\n",
      "Epoch 77/140\n",
      "201/201 [==============================] - 9s 42ms/step - loss: 0.2882 - accuracy: 0.8585 - val_loss: 0.2945 - val_accuracy: 0.8547\n",
      "Epoch 78/140\n",
      "201/201 [==============================] - 8s 42ms/step - loss: 0.2880 - accuracy: 0.8587 - val_loss: 0.2928 - val_accuracy: 0.8546\n",
      "Epoch 79/140\n",
      "201/201 [==============================] - 8s 42ms/step - loss: 0.2866 - accuracy: 0.8594 - val_loss: 0.2893 - val_accuracy: 0.8558\n",
      "Epoch 80/140\n",
      "201/201 [==============================] - 8s 42ms/step - loss: 0.2865 - accuracy: 0.8599 - val_loss: 0.2906 - val_accuracy: 0.8564\n",
      "Epoch 81/140\n",
      "201/201 [==============================] - 9s 42ms/step - loss: 0.2867 - accuracy: 0.8595 - val_loss: 0.2927 - val_accuracy: 0.8553\n",
      "Epoch 82/140\n",
      "201/201 [==============================] - 8s 42ms/step - loss: 0.2862 - accuracy: 0.8598 - val_loss: 0.2898 - val_accuracy: 0.8568\n",
      "Epoch 83/140\n",
      "201/201 [==============================] - 8s 42ms/step - loss: 0.2855 - accuracy: 0.8603 - val_loss: 0.2907 - val_accuracy: 0.8565\n",
      "Epoch 84/140\n",
      "201/201 [==============================] - 9s 42ms/step - loss: 0.2856 - accuracy: 0.8602 - val_loss: 0.2898 - val_accuracy: 0.8567\n",
      "Epoch 85/140\n",
      "201/201 [==============================] - 9s 42ms/step - loss: 0.2857 - accuracy: 0.8606 - val_loss: 0.2898 - val_accuracy: 0.8571\n",
      "Epoch 86/140\n",
      "201/201 [==============================] - 8s 42ms/step - loss: 0.2838 - accuracy: 0.8615 - val_loss: 0.2863 - val_accuracy: 0.8585\n",
      "Epoch 87/140\n",
      "201/201 [==============================] - 8s 42ms/step - loss: 0.2846 - accuracy: 0.8611 - val_loss: 0.2889 - val_accuracy: 0.8572\n",
      "Epoch 88/140\n",
      "201/201 [==============================] - 9s 43ms/step - loss: 0.2845 - accuracy: 0.8612 - val_loss: 0.2895 - val_accuracy: 0.8574\n",
      "Epoch 89/140\n",
      "201/201 [==============================] - 9s 43ms/step - loss: 0.2840 - accuracy: 0.8614 - val_loss: 0.2896 - val_accuracy: 0.8568\n",
      "Epoch 90/140\n",
      "201/201 [==============================] - 8s 41ms/step - loss: 0.2838 - accuracy: 0.8615 - val_loss: 0.2873 - val_accuracy: 0.8587\n",
      "Epoch 91/140\n",
      "201/201 [==============================] - 9s 42ms/step - loss: 0.2832 - accuracy: 0.8617 - val_loss: 0.2869 - val_accuracy: 0.8585\n",
      "Epoch 92/140\n",
      "201/201 [==============================] - 8s 42ms/step - loss: 0.2836 - accuracy: 0.8617 - val_loss: 0.2892 - val_accuracy: 0.8583\n",
      "Epoch 93/140\n",
      "201/201 [==============================] - 8s 42ms/step - loss: 0.2836 - accuracy: 0.8617 - val_loss: 0.2886 - val_accuracy: 0.8572\n",
      "Epoch 94/140\n",
      "201/201 [==============================] - 9s 43ms/step - loss: 0.2827 - accuracy: 0.8623 - val_loss: 0.2910 - val_accuracy: 0.8563\n",
      "Epoch 95/140\n",
      "201/201 [==============================] - 9s 42ms/step - loss: 0.2828 - accuracy: 0.8623 - val_loss: 0.2849 - val_accuracy: 0.8600\n",
      "Epoch 96/140\n",
      "201/201 [==============================] - 8s 42ms/step - loss: 0.2821 - accuracy: 0.8627 - val_loss: 0.2856 - val_accuracy: 0.8593\n",
      "Epoch 97/140\n",
      "201/201 [==============================] - 8s 42ms/step - loss: 0.2824 - accuracy: 0.8627 - val_loss: 0.2862 - val_accuracy: 0.8589\n",
      "Epoch 98/140\n",
      "201/201 [==============================] - 9s 42ms/step - loss: 0.2825 - accuracy: 0.8623 - val_loss: 0.2845 - val_accuracy: 0.8597\n",
      "Epoch 99/140\n",
      "201/201 [==============================] - 8s 42ms/step - loss: 0.2816 - accuracy: 0.8632 - val_loss: 0.2854 - val_accuracy: 0.8592\n",
      "Epoch 100/140\n",
      "201/201 [==============================] - 9s 42ms/step - loss: 0.2811 - accuracy: 0.8634 - val_loss: 0.2833 - val_accuracy: 0.8617\n",
      "Epoch 101/140\n",
      "201/201 [==============================] - 8s 42ms/step - loss: 0.2809 - accuracy: 0.8635 - val_loss: 0.2885 - val_accuracy: 0.8574\n",
      "Epoch 102/140\n",
      "201/201 [==============================] - 8s 42ms/step - loss: 0.2811 - accuracy: 0.8633 - val_loss: 0.2872 - val_accuracy: 0.8602\n",
      "Epoch 103/140\n",
      "201/201 [==============================] - 8s 41ms/step - loss: 0.2808 - accuracy: 0.8637 - val_loss: 0.2835 - val_accuracy: 0.8609\n",
      "Epoch 104/140\n",
      "201/201 [==============================] - 9s 43ms/step - loss: 0.2810 - accuracy: 0.8635 - val_loss: 0.2890 - val_accuracy: 0.8576\n",
      "Epoch 105/140\n",
      "201/201 [==============================] - 9s 43ms/step - loss: 0.2815 - accuracy: 0.8631 - val_loss: 0.2896 - val_accuracy: 0.8577\n",
      "Epoch 106/140\n",
      "201/201 [==============================] - 8s 42ms/step - loss: 0.2807 - accuracy: 0.8637 - val_loss: 0.2885 - val_accuracy: 0.8576\n",
      "Epoch 107/140\n",
      "201/201 [==============================] - 9s 42ms/step - loss: 0.2801 - accuracy: 0.8639 - val_loss: 0.2868 - val_accuracy: 0.8592\n",
      "Epoch 108/140\n",
      "201/201 [==============================] - 8s 42ms/step - loss: 0.2793 - accuracy: 0.8646 - val_loss: 0.2842 - val_accuracy: 0.8605\n",
      "Epoch 109/140\n",
      "201/201 [==============================] - 9s 42ms/step - loss: 0.2799 - accuracy: 0.8640 - val_loss: 0.2855 - val_accuracy: 0.8605\n",
      "Epoch 110/140\n",
      "201/201 [==============================] - 9s 42ms/step - loss: 0.2797 - accuracy: 0.8641 - val_loss: 0.2855 - val_accuracy: 0.8599\n",
      "Epoch 111/140\n",
      "201/201 [==============================] - 9s 42ms/step - loss: 0.2791 - accuracy: 0.8648 - val_loss: 0.2868 - val_accuracy: 0.8599\n",
      "Epoch 112/140\n",
      "201/201 [==============================] - 8s 42ms/step - loss: 0.2793 - accuracy: 0.8646 - val_loss: 0.2848 - val_accuracy: 0.8606\n",
      "Epoch 113/140\n",
      "201/201 [==============================] - 8s 42ms/step - loss: 0.2791 - accuracy: 0.8646 - val_loss: 0.2839 - val_accuracy: 0.8618\n",
      "Epoch 114/140\n",
      "201/201 [==============================] - 9s 42ms/step - loss: 0.2789 - accuracy: 0.8648 - val_loss: 0.2805 - val_accuracy: 0.8628\n",
      "Epoch 115/140\n",
      "201/201 [==============================] - 8s 42ms/step - loss: 0.2779 - accuracy: 0.8653 - val_loss: 0.2835 - val_accuracy: 0.8625\n",
      "Epoch 116/140\n",
      "201/201 [==============================] - 8s 42ms/step - loss: 0.2787 - accuracy: 0.8651 - val_loss: 0.2821 - val_accuracy: 0.8629\n",
      "Epoch 117/140\n",
      "201/201 [==============================] - 8s 42ms/step - loss: 0.2784 - accuracy: 0.8652 - val_loss: 0.2838 - val_accuracy: 0.8615\n",
      "Epoch 118/140\n",
      "201/201 [==============================] - 8s 42ms/step - loss: 0.2781 - accuracy: 0.8653 - val_loss: 0.2834 - val_accuracy: 0.8606\n",
      "Epoch 119/140\n",
      "201/201 [==============================] - 8s 42ms/step - loss: 0.2780 - accuracy: 0.8652 - val_loss: 0.2824 - val_accuracy: 0.8618\n",
      "Epoch 120/140\n",
      "201/201 [==============================] - 9s 42ms/step - loss: 0.2780 - accuracy: 0.8654 - val_loss: 0.2818 - val_accuracy: 0.8618\n",
      "Epoch 121/140\n",
      "201/201 [==============================] - 9s 42ms/step - loss: 0.2778 - accuracy: 0.8654 - val_loss: 0.2817 - val_accuracy: 0.8626\n",
      "Epoch 122/140\n",
      "201/201 [==============================] - 8s 42ms/step - loss: 0.2773 - accuracy: 0.8657 - val_loss: 0.2836 - val_accuracy: 0.8624\n",
      "Epoch 123/140\n",
      "201/201 [==============================] - 9s 42ms/step - loss: 0.2774 - accuracy: 0.8658 - val_loss: 0.2819 - val_accuracy: 0.8629\n",
      "Epoch 124/140\n",
      "201/201 [==============================] - 8s 42ms/step - loss: 0.2765 - accuracy: 0.8664 - val_loss: 0.2806 - val_accuracy: 0.8628\n",
      "Epoch 125/140\n",
      "201/201 [==============================] - 8s 42ms/step - loss: 0.2762 - accuracy: 0.8662 - val_loss: 0.2798 - val_accuracy: 0.8631\n",
      "Epoch 126/140\n",
      "201/201 [==============================] - 9s 42ms/step - loss: 0.2767 - accuracy: 0.8659 - val_loss: 0.2818 - val_accuracy: 0.8632\n",
      "Epoch 127/140\n",
      "201/201 [==============================] - 9s 42ms/step - loss: 0.2770 - accuracy: 0.8659 - val_loss: 0.2823 - val_accuracy: 0.8619\n",
      "Epoch 128/140\n",
      "201/201 [==============================] - 8s 42ms/step - loss: 0.2770 - accuracy: 0.8660 - val_loss: 0.2822 - val_accuracy: 0.8624\n",
      "Epoch 129/140\n",
      "201/201 [==============================] - 9s 42ms/step - loss: 0.2764 - accuracy: 0.8663 - val_loss: 0.2829 - val_accuracy: 0.8611\n",
      "Epoch 130/140\n",
      "201/201 [==============================] - 9s 42ms/step - loss: 0.2766 - accuracy: 0.8660 - val_loss: 0.2836 - val_accuracy: 0.8613\n",
      "Epoch 131/140\n",
      "201/201 [==============================] - 8s 42ms/step - loss: 0.2755 - accuracy: 0.8666 - val_loss: 0.2820 - val_accuracy: 0.8628\n",
      "Epoch 132/140\n",
      "201/201 [==============================] - 9s 42ms/step - loss: 0.2757 - accuracy: 0.8667 - val_loss: 0.2857 - val_accuracy: 0.8616\n",
      "Epoch 133/140\n",
      "201/201 [==============================] - 9s 42ms/step - loss: 0.2760 - accuracy: 0.8664 - val_loss: 0.2840 - val_accuracy: 0.8618\n",
      "Epoch 134/140\n",
      "201/201 [==============================] - 8s 42ms/step - loss: 0.2754 - accuracy: 0.8666 - val_loss: 0.2805 - val_accuracy: 0.8629\n",
      "Epoch 135/140\n",
      "201/201 [==============================] - 8s 42ms/step - loss: 0.2755 - accuracy: 0.8666 - val_loss: 0.2808 - val_accuracy: 0.8632\n",
      "Epoch 136/140\n",
      "201/201 [==============================] - 8s 42ms/step - loss: 0.2751 - accuracy: 0.8666 - val_loss: 0.2809 - val_accuracy: 0.8634\n",
      "Epoch 137/140\n",
      "201/201 [==============================] - 8s 42ms/step - loss: 0.2755 - accuracy: 0.8666 - val_loss: 0.2800 - val_accuracy: 0.8629\n",
      "Epoch 138/140\n",
      "201/201 [==============================] - 8s 42ms/step - loss: 0.2750 - accuracy: 0.8668 - val_loss: 0.2792 - val_accuracy: 0.8631\n",
      "Epoch 139/140\n",
      "201/201 [==============================] - 8s 42ms/step - loss: 0.2750 - accuracy: 0.8670 - val_loss: 0.2832 - val_accuracy: 0.8611\n",
      "Epoch 140/140\n",
      "201/201 [==============================] - 8s 42ms/step - loss: 0.2748 - accuracy: 0.8669 - val_loss: 0.2783 - val_accuracy: 0.8638\n"
     ]
    }
   ],
   "source": [
    "fit8 = model8.fit(\n",
    "  x_train_s, y_train_our,\n",
    "  epochs=140,\n",
    "  validation_split=0.2,#0.1 ok for 160epochs\n",
    "  #validation_data=(x_val_s, y_val_s),\n",
    "  #callbacks=[mc]\n",
    ")"
   ]
  },
  {
   "cell_type": "code",
   "execution_count": 28,
   "metadata": {},
   "outputs": [],
   "source": [
    "#Reshaping for LSTM\n",
    "x_bench = x_bench.reshape(189, 500, 23)"
   ]
  },
  {
   "cell_type": "code",
   "execution_count": 29,
   "metadata": {},
   "outputs": [
    {
     "name": "stdout",
     "output_type": "stream",
     "text": [
      "32/32 [==============================] - 1s 16ms/step - loss: 0.2723 - accuracy: 0.8663\n"
     ]
    },
    {
     "data": {
      "text/plain": [
       "[0.27232226729393005, 0.8662539720535278]"
      ]
     },
     "execution_count": 29,
     "metadata": {},
     "output_type": "execute_result"
    }
   ],
   "source": [
    "model8.evaluate(x_test_s, y_test_our)"
   ]
  },
  {
   "cell_type": "code",
   "execution_count": 30,
   "metadata": {},
   "outputs": [
    {
     "name": "stdout",
     "output_type": "stream",
     "text": [
      "32/32 [==============================] - 1s 18ms/step - loss: 0.2723 - accuracy: 0.8663\n"
     ]
    },
    {
     "data": {
      "text/plain": [
       "[0.27232226729393005, 0.8662539720535278]"
      ]
     },
     "execution_count": 30,
     "metadata": {},
     "output_type": "execute_result"
    }
   ],
   "source": [
    "model8.evaluate(x_test_s, y_test_our)"
   ]
  },
  {
   "cell_type": "code",
   "execution_count": 31,
   "metadata": {},
   "outputs": [
    {
     "data": {
      "image/png": "[encoded data removed]",
      "text/plain": [
       "<Figure size 432x288 with 1 Axes>"
      ]
     },
     "metadata": {
      "needs_background": "light"
     },
     "output_type": "display_data"
    },
    {
     "data": {
      "image/png": "[encoded data removed]",
      "text/plain": [
       "<Figure size 432x288 with 1 Axes>"
      ]
     },
     "metadata": {
      "needs_background": "light"
     },
     "output_type": "display_data"
    }
   ],
   "source": [
    "import matplotlib.pyplot as plt\n",
    "\n",
    "# Accuracy graph\n",
    "plt.plot(fit8.history['accuracy'])\n",
    "plt.plot(fit8.history['val_accuracy'])\n",
    "plt.title('model accuracy')\n",
    "plt.ylabel('accuracy')\n",
    "plt.xlabel('epoch')\n",
    "plt.legend(['train', 'test'], loc='upper left')\n",
    "plt.show()\n",
    "#plt.savefig('/content/drive/MyDrive/CNN_for_STR_ASSIGNMENT_DATA_and_CODES/accuracy88Accuracy.eps')\n",
    "\n",
    "# loss graph\n",
    "plt.plot(fit8.history['loss'])\n",
    "plt.plot(fit8.history['val_loss'])\n",
    "plt.title('model loss')\n",
    "plt.ylabel('loss')\n",
    "plt.xlabel('epoch')\n",
    "plt.legend(['train', 'test'], loc='upper left')\n",
    "plt.show()\n",
    "#plt.savefig('/content/drive/MyDrive/CNN_for_STR_ASSIGNMENT_DATA_and_CODES/loss88Acculoss.eps')"
   ]
  },
  {
   "cell_type": "code",
   "execution_count": 32,
   "metadata": {},
   "outputs": [
    {
     "name": "stdout",
     "output_type": "stream",
     "text": [
      "6/6 [==============================] - 0s 15ms/step - loss: 0.2464 - accuracy: 0.8781\n"
     ]
    },
    {
     "data": {
      "text/plain": [
       "[0.24643921852111816, 0.8781375885009766]"
      ]
     },
     "execution_count": 32,
     "metadata": {},
     "output_type": "execute_result"
    }
   ],
   "source": [
    "model8.evaluate(x_bench, y_bench)"
   ]
  },
  {
   "cell_type": "code",
   "execution_count": 37,
   "metadata": {},
   "outputs": [
    {
     "name": "stdout",
     "output_type": "stream",
     "text": [
      "Model: \"sequential_5\"\n",
      "_________________________________________________________________\n",
      "Layer (type)                 Output Shape              Param #   \n",
      "=================================================================\n",
      "lstm_6 (LSTM)                (None, 500, 64)           22528     \n",
      "_________________________________________________________________\n",
      "dense_26 (Dense)             (None, 500, 1024)         66560     \n",
      "_________________________________________________________________\n",
      "dropout_15 (Dropout)         (None, 500, 1024)         0         \n",
      "_________________________________________________________________\n",
      "dense_27 (Dense)             (None, 500, 512)          524800    \n",
      "_________________________________________________________________\n",
      "dropout_16 (Dropout)         (None, 500, 512)          0         \n",
      "_________________________________________________________________\n",
      "dense_28 (Dense)             (None, 500, 256)          131328    \n",
      "_________________________________________________________________\n",
      "dropout_17 (Dropout)         (None, 500, 256)          0         \n",
      "_________________________________________________________________\n",
      "time_distributed_5 (TimeDist (None, 500, 3)            771       \n",
      "=================================================================\n",
      "Total params: 745,987\n",
      "Trainable params: 745,987\n",
      "Non-trainable params: 0\n",
      "_________________________________________________________________\n"
     ]
    }
   ],
   "source": [
    "#Using LSTM_2:\n",
    "\n",
    "model9 = Sequential([\n",
    "    layers.LSTM(64, input_shape=(500,23), return_sequences=True),\n",
    "  #layers.Bidirectional(LSTM(hid_units,  activation = \"tanh\", return_sequences=True), merge_mode=\"concat\",input_shape=(500,23)),\n",
    "    Dense(1024, activation='relu'),\n",
    "    Dropout(0.6),\n",
    "     Dense(512, activation='relu'),\n",
    "    Dropout(0.6),\n",
    "    Dense(256, activation='relu'),\n",
    "    Dropout(0.6),\n",
    "     layers.TimeDistributed(Dense(3, activation = \"softmax\"))\n",
    "])\n",
    "\n",
    "model9.summary()\n",
    "\n",
    "\n",
    "model9.compile(\n",
    "    optimizer='adam',\n",
    "\n",
    "   loss='categorical_crossentropy',\n",
    "    metrics=['accuracy']\n",
    ")"
   ]
  },
  {
   "cell_type": "code",
   "execution_count": 38,
   "metadata": {},
   "outputs": [
    {
     "name": "stdout",
     "output_type": "stream",
     "text": [
      "Epoch 1/140\n",
      "226/226 [==============================] - 9s 41ms/step - loss: 0.4702 - accuracy: 0.1866 - val_loss: 0.4711 - val_accuracy: 0.1736\n",
      "Epoch 2/140\n",
      "226/226 [==============================] - 9s 39ms/step - loss: 0.4557 - accuracy: 0.6040 - val_loss: 0.4445 - val_accuracy: 0.7573\n",
      "Epoch 3/140\n",
      "226/226 [==============================] - 9s 38ms/step - loss: 0.4364 - accuracy: 0.7276 - val_loss: 0.4328 - val_accuracy: 0.7542\n",
      "Epoch 4/140\n",
      "226/226 [==============================] - 9s 39ms/step - loss: 0.4255 - accuracy: 0.6742 - val_loss: 0.4200 - val_accuracy: 0.7747\n",
      "Epoch 5/140\n",
      "226/226 [==============================] - 9s 39ms/step - loss: 0.4187 - accuracy: 0.7636 - val_loss: 0.4154 - val_accuracy: 0.7795\n",
      "Epoch 6/140\n",
      "226/226 [==============================] - 9s 38ms/step - loss: 0.4144 - accuracy: 0.7763 - val_loss: 0.4132 - val_accuracy: 0.7762\n",
      "Epoch 7/140\n",
      "226/226 [==============================] - 9s 39ms/step - loss: 0.4119 - accuracy: 0.7767 - val_loss: 0.4109 - val_accuracy: 0.7880\n",
      "Epoch 8/140\n",
      "226/226 [==============================] - 9s 39ms/step - loss: 0.4101 - accuracy: 0.7837 - val_loss: 0.4082 - val_accuracy: 0.7854\n",
      "Epoch 9/140\n",
      "226/226 [==============================] - 9s 39ms/step - loss: 0.4073 - accuracy: 0.7698 - val_loss: 0.4067 - val_accuracy: 0.7591\n",
      "Epoch 10/140\n",
      "226/226 [==============================] - 9s 39ms/step - loss: 0.4056 - accuracy: 0.7208 - val_loss: 0.4063 - val_accuracy: 0.6789\n",
      "Epoch 11/140\n",
      "226/226 [==============================] - 9s 38ms/step - loss: 0.4021 - accuracy: 0.6756 - val_loss: 0.4033 - val_accuracy: 0.6734\n",
      "Epoch 12/140\n",
      "226/226 [==============================] - 9s 39ms/step - loss: 0.3994 - accuracy: 0.7651 - val_loss: 0.4016 - val_accuracy: 0.7992\n",
      "Epoch 13/140\n",
      "226/226 [==============================] - 9s 39ms/step - loss: 0.3967 - accuracy: 0.8008 - val_loss: 0.3967 - val_accuracy: 0.7996\n",
      "Epoch 14/140\n",
      "226/226 [==============================] - 9s 39ms/step - loss: 0.3933 - accuracy: 0.8021 - val_loss: 0.3962 - val_accuracy: 0.8004\n",
      "Epoch 15/140\n",
      "226/226 [==============================] - 9s 39ms/step - loss: 0.3894 - accuracy: 0.8042 - val_loss: 0.3908 - val_accuracy: 0.8030\n",
      "Epoch 16/140\n",
      "226/226 [==============================] - 9s 38ms/step - loss: 0.3854 - accuracy: 0.8064 - val_loss: 0.3873 - val_accuracy: 0.8058\n",
      "Epoch 17/140\n",
      "226/226 [==============================] - 9s 38ms/step - loss: 0.3806 - accuracy: 0.8090 - val_loss: 0.3803 - val_accuracy: 0.8085\n",
      "Epoch 18/140\n",
      "226/226 [==============================] - 9s 39ms/step - loss: 0.3745 - accuracy: 0.8121 - val_loss: 0.3744 - val_accuracy: 0.8105\n",
      "Epoch 19/140\n",
      "226/226 [==============================] - 9s 38ms/step - loss: 0.3684 - accuracy: 0.8147 - val_loss: 0.3659 - val_accuracy: 0.8159\n",
      "Epoch 20/140\n",
      "226/226 [==============================] - 9s 40ms/step - loss: 0.3597 - accuracy: 0.8188 - val_loss: 0.3550 - val_accuracy: 0.8200\n",
      "Epoch 21/140\n",
      "226/226 [==============================] - 9s 38ms/step - loss: 0.3510 - accuracy: 0.8232 - val_loss: 0.3449 - val_accuracy: 0.8251\n",
      "Epoch 22/140\n",
      "226/226 [==============================] - 9s 38ms/step - loss: 0.3418 - accuracy: 0.8278 - val_loss: 0.3347 - val_accuracy: 0.8305\n",
      "Epoch 23/140\n",
      "226/226 [==============================] - 9s 38ms/step - loss: 0.3362 - accuracy: 0.8312 - val_loss: 0.3279 - val_accuracy: 0.8344\n",
      "Epoch 24/140\n",
      "226/226 [==============================] - 9s 38ms/step - loss: 0.3270 - accuracy: 0.8368 - val_loss: 0.3279 - val_accuracy: 0.8362\n",
      "Epoch 25/140\n",
      "226/226 [==============================] - 9s 38ms/step - loss: 0.3235 - accuracy: 0.8388 - val_loss: 0.3200 - val_accuracy: 0.8401\n",
      "Epoch 26/140\n",
      "226/226 [==============================] - 9s 39ms/step - loss: 0.3191 - accuracy: 0.8415 - val_loss: 0.3134 - val_accuracy: 0.8446\n",
      "Epoch 27/140\n",
      "226/226 [==============================] - 9s 39ms/step - loss: 0.3158 - accuracy: 0.8436 - val_loss: 0.3128 - val_accuracy: 0.8437\n",
      "Epoch 28/140\n",
      "226/226 [==============================] - 9s 38ms/step - loss: 0.3131 - accuracy: 0.8454 - val_loss: 0.3103 - val_accuracy: 0.8447\n",
      "Epoch 29/140\n",
      "226/226 [==============================] - 9s 39ms/step - loss: 0.3121 - accuracy: 0.8463 - val_loss: 0.3098 - val_accuracy: 0.8449\n",
      "Epoch 30/140\n",
      "226/226 [==============================] - 9s 38ms/step - loss: 0.3095 - accuracy: 0.8477 - val_loss: 0.3056 - val_accuracy: 0.8486\n",
      "Epoch 31/140\n",
      "226/226 [==============================] - 9s 38ms/step - loss: 0.3079 - accuracy: 0.8489 - val_loss: 0.3052 - val_accuracy: 0.8486\n",
      "Epoch 32/140\n",
      "226/226 [==============================] - 9s 38ms/step - loss: 0.3061 - accuracy: 0.8500 - val_loss: 0.3016 - val_accuracy: 0.8507\n",
      "Epoch 33/140\n",
      "226/226 [==============================] - 9s 39ms/step - loss: 0.3049 - accuracy: 0.8506 - val_loss: 0.3016 - val_accuracy: 0.8501\n",
      "Epoch 34/140\n",
      "226/226 [==============================] - 9s 39ms/step - loss: 0.3039 - accuracy: 0.8516 - val_loss: 0.2992 - val_accuracy: 0.8516\n",
      "Epoch 35/140\n",
      "226/226 [==============================] - 9s 39ms/step - loss: 0.3028 - accuracy: 0.8521 - val_loss: 0.3009 - val_accuracy: 0.8513\n",
      "Epoch 36/140\n",
      "226/226 [==============================] - 9s 39ms/step - loss: 0.3008 - accuracy: 0.8534 - val_loss: 0.2988 - val_accuracy: 0.8527\n",
      "Epoch 37/140\n",
      "226/226 [==============================] - 9s 39ms/step - loss: 0.3005 - accuracy: 0.8534 - val_loss: 0.2989 - val_accuracy: 0.8531\n",
      "Epoch 38/140\n",
      "226/226 [==============================] - 9s 39ms/step - loss: 0.2987 - accuracy: 0.8545 - val_loss: 0.2965 - val_accuracy: 0.8538\n",
      "Epoch 39/140\n",
      "226/226 [==============================] - 9s 39ms/step - loss: 0.2993 - accuracy: 0.8542 - val_loss: 0.2975 - val_accuracy: 0.8545\n",
      "Epoch 40/140\n",
      "226/226 [==============================] - 9s 39ms/step - loss: 0.2977 - accuracy: 0.8554 - val_loss: 0.2946 - val_accuracy: 0.8543\n",
      "Epoch 41/140\n",
      "226/226 [==============================] - 9s 39ms/step - loss: 0.2966 - accuracy: 0.8560 - val_loss: 0.2968 - val_accuracy: 0.8547\n",
      "Epoch 42/140\n",
      "226/226 [==============================] - 9s 39ms/step - loss: 0.2971 - accuracy: 0.8560 - val_loss: 0.2935 - val_accuracy: 0.8557\n",
      "Epoch 43/140\n",
      "226/226 [==============================] - 9s 38ms/step - loss: 0.2958 - accuracy: 0.8566 - val_loss: 0.2957 - val_accuracy: 0.8558\n",
      "Epoch 44/140\n",
      "226/226 [==============================] - 9s 39ms/step - loss: 0.2945 - accuracy: 0.8574 - val_loss: 0.2915 - val_accuracy: 0.8572\n",
      "Epoch 45/140\n",
      "226/226 [==============================] - 9s 39ms/step - loss: 0.2941 - accuracy: 0.8575 - val_loss: 0.2937 - val_accuracy: 0.8552\n",
      "Epoch 46/140\n",
      "226/226 [==============================] - 9s 39ms/step - loss: 0.2937 - accuracy: 0.8579 - val_loss: 0.2934 - val_accuracy: 0.8557\n",
      "Epoch 47/140\n",
      "226/226 [==============================] - 9s 39ms/step - loss: 0.2934 - accuracy: 0.8579 - val_loss: 0.2918 - val_accuracy: 0.8582\n",
      "Epoch 48/140\n",
      "226/226 [==============================] - 9s 39ms/step - loss: 0.2934 - accuracy: 0.8582 - val_loss: 0.2928 - val_accuracy: 0.8569\n",
      "Epoch 49/140\n",
      "226/226 [==============================] - 9s 39ms/step - loss: 0.2920 - accuracy: 0.8588 - val_loss: 0.2924 - val_accuracy: 0.8568\n",
      "Epoch 50/140\n",
      "226/226 [==============================] - 9s 39ms/step - loss: 0.2919 - accuracy: 0.8587 - val_loss: 0.2906 - val_accuracy: 0.8584\n",
      "Epoch 51/140\n",
      "226/226 [==============================] - 9s 38ms/step - loss: 0.2913 - accuracy: 0.8592 - val_loss: 0.2900 - val_accuracy: 0.8580\n",
      "Epoch 52/140\n",
      "226/226 [==============================] - 9s 39ms/step - loss: 0.2906 - accuracy: 0.8596 - val_loss: 0.2893 - val_accuracy: 0.8588\n",
      "Epoch 53/140\n",
      "226/226 [==============================] - 9s 38ms/step - loss: 0.2901 - accuracy: 0.8599 - val_loss: 0.2911 - val_accuracy: 0.8581\n",
      "Epoch 54/140\n",
      "226/226 [==============================] - 9s 39ms/step - loss: 0.2895 - accuracy: 0.8604 - val_loss: 0.2903 - val_accuracy: 0.8589\n",
      "Epoch 55/140\n",
      "226/226 [==============================] - 9s 39ms/step - loss: 0.2889 - accuracy: 0.8607 - val_loss: 0.2876 - val_accuracy: 0.8593\n",
      "Epoch 56/140\n",
      "226/226 [==============================] - 9s 38ms/step - loss: 0.2891 - accuracy: 0.8605 - val_loss: 0.2877 - val_accuracy: 0.8590\n",
      "Epoch 57/140\n",
      "226/226 [==============================] - 9s 39ms/step - loss: 0.2883 - accuracy: 0.8610 - val_loss: 0.2881 - val_accuracy: 0.8593\n",
      "Epoch 58/140\n",
      "226/226 [==============================] - 9s 39ms/step - loss: 0.2882 - accuracy: 0.8611 - val_loss: 0.2875 - val_accuracy: 0.8601\n",
      "Epoch 59/140\n",
      "226/226 [==============================] - 9s 39ms/step - loss: 0.2876 - accuracy: 0.8613 - val_loss: 0.2884 - val_accuracy: 0.8592\n",
      "Epoch 60/140\n",
      "226/226 [==============================] - 9s 39ms/step - loss: 0.2869 - accuracy: 0.8617 - val_loss: 0.2874 - val_accuracy: 0.8600\n",
      "Epoch 61/140\n",
      "226/226 [==============================] - 9s 38ms/step - loss: 0.2874 - accuracy: 0.8616 - val_loss: 0.2865 - val_accuracy: 0.8599\n",
      "Epoch 62/140\n",
      "226/226 [==============================] - 9s 39ms/step - loss: 0.2864 - accuracy: 0.8617 - val_loss: 0.2865 - val_accuracy: 0.8600\n",
      "Epoch 63/140\n",
      "226/226 [==============================] - 9s 39ms/step - loss: 0.2856 - accuracy: 0.8622 - val_loss: 0.2871 - val_accuracy: 0.8599\n",
      "Epoch 64/140\n",
      "226/226 [==============================] - 9s 39ms/step - loss: 0.2858 - accuracy: 0.8623 - val_loss: 0.2839 - val_accuracy: 0.8614\n",
      "Epoch 65/140\n",
      "226/226 [==============================] - 9s 39ms/step - loss: 0.2849 - accuracy: 0.8629 - val_loss: 0.2825 - val_accuracy: 0.8620\n",
      "Epoch 66/140\n",
      "226/226 [==============================] - 9s 39ms/step - loss: 0.2855 - accuracy: 0.8626 - val_loss: 0.2868 - val_accuracy: 0.8604\n",
      "Epoch 67/140\n",
      "226/226 [==============================] - 9s 38ms/step - loss: 0.2846 - accuracy: 0.8632 - val_loss: 0.2876 - val_accuracy: 0.8598\n",
      "Epoch 68/140\n",
      "226/226 [==============================] - 9s 39ms/step - loss: 0.2841 - accuracy: 0.8633 - val_loss: 0.2876 - val_accuracy: 0.8600\n",
      "Epoch 69/140\n",
      "226/226 [==============================] - 9s 39ms/step - loss: 0.2835 - accuracy: 0.8636 - val_loss: 0.2853 - val_accuracy: 0.8599\n",
      "Epoch 70/140\n",
      "226/226 [==============================] - 9s 39ms/step - loss: 0.2838 - accuracy: 0.8634 - val_loss: 0.2832 - val_accuracy: 0.8617\n",
      "Epoch 71/140\n",
      "226/226 [==============================] - 9s 39ms/step - loss: 0.2828 - accuracy: 0.8640 - val_loss: 0.2809 - val_accuracy: 0.8628\n",
      "Epoch 72/140\n",
      "226/226 [==============================] - 9s 39ms/step - loss: 0.2837 - accuracy: 0.8636 - val_loss: 0.2831 - val_accuracy: 0.8616\n",
      "Epoch 73/140\n",
      "226/226 [==============================] - 9s 39ms/step - loss: 0.2831 - accuracy: 0.8638 - val_loss: 0.2816 - val_accuracy: 0.8632\n",
      "Epoch 74/140\n",
      "226/226 [==============================] - 9s 38ms/step - loss: 0.2820 - accuracy: 0.8642 - val_loss: 0.2827 - val_accuracy: 0.8614\n",
      "Epoch 75/140\n",
      "226/226 [==============================] - 9s 38ms/step - loss: 0.2830 - accuracy: 0.8639 - val_loss: 0.2854 - val_accuracy: 0.8607\n",
      "Epoch 76/140\n",
      "226/226 [==============================] - 9s 39ms/step - loss: 0.2816 - accuracy: 0.8643 - val_loss: 0.2825 - val_accuracy: 0.8624\n",
      "Epoch 77/140\n",
      "226/226 [==============================] - 9s 38ms/step - loss: 0.2821 - accuracy: 0.8645 - val_loss: 0.2831 - val_accuracy: 0.8615\n",
      "Epoch 78/140\n",
      "226/226 [==============================] - 9s 40ms/step - loss: 0.2810 - accuracy: 0.8650 - val_loss: 0.2849 - val_accuracy: 0.8612\n",
      "Epoch 79/140\n",
      "226/226 [==============================] - 9s 39ms/step - loss: 0.2817 - accuracy: 0.8646 - val_loss: 0.2814 - val_accuracy: 0.8623\n",
      "Epoch 80/140\n",
      "226/226 [==============================] - 9s 39ms/step - loss: 0.2819 - accuracy: 0.8646 - val_loss: 0.2845 - val_accuracy: 0.8601\n",
      "Epoch 81/140\n",
      "226/226 [==============================] - 9s 39ms/step - loss: 0.2813 - accuracy: 0.8648 - val_loss: 0.2811 - val_accuracy: 0.8622\n",
      "Epoch 82/140\n",
      "226/226 [==============================] - 9s 39ms/step - loss: 0.2808 - accuracy: 0.8652 - val_loss: 0.2808 - val_accuracy: 0.8632\n",
      "Epoch 83/140\n",
      "226/226 [==============================] - 9s 39ms/step - loss: 0.2800 - accuracy: 0.8653 - val_loss: 0.2808 - val_accuracy: 0.8623\n",
      "Epoch 84/140\n",
      "226/226 [==============================] - 9s 39ms/step - loss: 0.2796 - accuracy: 0.8656 - val_loss: 0.2812 - val_accuracy: 0.8621\n",
      "Epoch 85/140\n",
      "226/226 [==============================] - 9s 38ms/step - loss: 0.2794 - accuracy: 0.8656 - val_loss: 0.2829 - val_accuracy: 0.8617\n",
      "Epoch 86/140\n",
      "226/226 [==============================] - 9s 39ms/step - loss: 0.2798 - accuracy: 0.8656 - val_loss: 0.2809 - val_accuracy: 0.8622\n",
      "Epoch 87/140\n",
      "226/226 [==============================] - 9s 39ms/step - loss: 0.2787 - accuracy: 0.8661 - val_loss: 0.2801 - val_accuracy: 0.8635\n",
      "Epoch 88/140\n",
      "226/226 [==============================] - 9s 39ms/step - loss: 0.2788 - accuracy: 0.8659 - val_loss: 0.2789 - val_accuracy: 0.8629\n",
      "Epoch 89/140\n",
      "226/226 [==============================] - 9s 38ms/step - loss: 0.2790 - accuracy: 0.8660 - val_loss: 0.2815 - val_accuracy: 0.8625\n",
      "Epoch 90/140\n",
      "226/226 [==============================] - 9s 39ms/step - loss: 0.2788 - accuracy: 0.8665 - val_loss: 0.2795 - val_accuracy: 0.8637\n",
      "Epoch 91/140\n",
      "226/226 [==============================] - 9s 39ms/step - loss: 0.2843 - accuracy: 0.8636 - val_loss: 0.2783 - val_accuracy: 0.8651\n",
      "Epoch 92/140\n",
      "226/226 [==============================] - 9s 39ms/step - loss: 0.2780 - accuracy: 0.8665 - val_loss: 0.2773 - val_accuracy: 0.8655\n",
      "Epoch 93/140\n",
      "226/226 [==============================] - 9s 39ms/step - loss: 0.2779 - accuracy: 0.8668 - val_loss: 0.2788 - val_accuracy: 0.8641\n",
      "Epoch 94/140\n",
      "226/226 [==============================] - 9s 39ms/step - loss: 0.2773 - accuracy: 0.8672 - val_loss: 0.2781 - val_accuracy: 0.8643\n",
      "Epoch 95/140\n",
      "226/226 [==============================] - 9s 39ms/step - loss: 0.2777 - accuracy: 0.8670 - val_loss: 0.2776 - val_accuracy: 0.8647\n",
      "Epoch 96/140\n",
      "226/226 [==============================] - 9s 38ms/step - loss: 0.2780 - accuracy: 0.8669 - val_loss: 0.2765 - val_accuracy: 0.8643\n",
      "Epoch 97/140\n",
      "226/226 [==============================] - 9s 38ms/step - loss: 0.2777 - accuracy: 0.8667 - val_loss: 0.2875 - val_accuracy: 0.8591\n",
      "Epoch 98/140\n",
      "226/226 [==============================] - 9s 38ms/step - loss: 0.2775 - accuracy: 0.8668 - val_loss: 0.2757 - val_accuracy: 0.8660\n",
      "Epoch 99/140\n",
      "226/226 [==============================] - 9s 38ms/step - loss: 0.2845 - accuracy: 0.8632 - val_loss: 0.2828 - val_accuracy: 0.8616\n",
      "Epoch 100/140\n",
      "226/226 [==============================] - 9s 39ms/step - loss: 0.2789 - accuracy: 0.8656 - val_loss: 0.2788 - val_accuracy: 0.8642\n",
      "Epoch 101/140\n",
      "226/226 [==============================] - 9s 38ms/step - loss: 0.2769 - accuracy: 0.8668 - val_loss: 0.2768 - val_accuracy: 0.8648\n",
      "Epoch 102/140\n",
      "226/226 [==============================] - 9s 38ms/step - loss: 0.2761 - accuracy: 0.8673 - val_loss: 0.2747 - val_accuracy: 0.8657\n",
      "Epoch 103/140\n",
      "226/226 [==============================] - 9s 39ms/step - loss: 0.2756 - accuracy: 0.8677 - val_loss: 0.2752 - val_accuracy: 0.8654\n",
      "Epoch 104/140\n",
      "226/226 [==============================] - 9s 38ms/step - loss: 0.2754 - accuracy: 0.8679 - val_loss: 0.2762 - val_accuracy: 0.8648\n",
      "Epoch 105/140\n",
      "226/226 [==============================] - 9s 38ms/step - loss: 0.2751 - accuracy: 0.8678 - val_loss: 0.2776 - val_accuracy: 0.8643\n",
      "Epoch 106/140\n",
      "226/226 [==============================] - 9s 39ms/step - loss: 0.2760 - accuracy: 0.8677 - val_loss: 0.2751 - val_accuracy: 0.8651\n",
      "Epoch 107/140\n",
      "226/226 [==============================] - 9s 39ms/step - loss: 0.2751 - accuracy: 0.8679 - val_loss: 0.2749 - val_accuracy: 0.8659\n",
      "Epoch 108/140\n",
      "226/226 [==============================] - 9s 38ms/step - loss: 0.2752 - accuracy: 0.8680 - val_loss: 0.2745 - val_accuracy: 0.8663\n",
      "Epoch 109/140\n",
      "226/226 [==============================] - 9s 39ms/step - loss: 0.2754 - accuracy: 0.8677 - val_loss: 0.2819 - val_accuracy: 0.8624\n",
      "Epoch 110/140\n",
      "226/226 [==============================] - 9s 38ms/step - loss: 0.2751 - accuracy: 0.8680 - val_loss: 0.2775 - val_accuracy: 0.8648\n",
      "Epoch 111/140\n",
      "226/226 [==============================] - 9s 39ms/step - loss: 0.2742 - accuracy: 0.8685 - val_loss: 0.2757 - val_accuracy: 0.8650\n",
      "Epoch 112/140\n",
      "226/226 [==============================] - 9s 39ms/step - loss: 0.2744 - accuracy: 0.8682 - val_loss: 0.2749 - val_accuracy: 0.8657\n",
      "Epoch 113/140\n",
      "226/226 [==============================] - 9s 39ms/step - loss: 0.2745 - accuracy: 0.8683 - val_loss: 0.2781 - val_accuracy: 0.8644\n",
      "Epoch 114/140\n",
      "226/226 [==============================] - 9s 38ms/step - loss: 0.2741 - accuracy: 0.8684 - val_loss: 0.2766 - val_accuracy: 0.8661\n",
      "Epoch 115/140\n",
      "226/226 [==============================] - 9s 39ms/step - loss: 0.2739 - accuracy: 0.8687 - val_loss: 0.2746 - val_accuracy: 0.8659\n",
      "Epoch 116/140\n",
      "226/226 [==============================] - 9s 39ms/step - loss: 0.2735 - accuracy: 0.8688 - val_loss: 0.2759 - val_accuracy: 0.8660\n",
      "Epoch 117/140\n",
      "226/226 [==============================] - 9s 39ms/step - loss: 0.2737 - accuracy: 0.8687 - val_loss: 0.2779 - val_accuracy: 0.8651\n",
      "Epoch 118/140\n",
      "226/226 [==============================] - 9s 39ms/step - loss: 0.2735 - accuracy: 0.8687 - val_loss: 0.2774 - val_accuracy: 0.8649\n",
      "Epoch 119/140\n",
      "226/226 [==============================] - 9s 38ms/step - loss: 0.2734 - accuracy: 0.8690 - val_loss: 0.2754 - val_accuracy: 0.8663\n",
      "Epoch 120/140\n",
      "226/226 [==============================] - 9s 38ms/step - loss: 0.2730 - accuracy: 0.8691 - val_loss: 0.2755 - val_accuracy: 0.8659\n",
      "Epoch 121/140\n",
      "226/226 [==============================] - 9s 38ms/step - loss: 0.2728 - accuracy: 0.8689 - val_loss: 0.2739 - val_accuracy: 0.8665\n",
      "Epoch 122/140\n",
      "226/226 [==============================] - 9s 39ms/step - loss: 0.2732 - accuracy: 0.8689 - val_loss: 0.2742 - val_accuracy: 0.8666\n",
      "Epoch 123/140\n",
      "226/226 [==============================] - 9s 39ms/step - loss: 0.2728 - accuracy: 0.8694 - val_loss: 0.2782 - val_accuracy: 0.8651\n",
      "Epoch 124/140\n",
      "226/226 [==============================] - 9s 38ms/step - loss: 0.2724 - accuracy: 0.8694 - val_loss: 0.2763 - val_accuracy: 0.8651\n",
      "Epoch 125/140\n",
      "226/226 [==============================] - 9s 39ms/step - loss: 0.2727 - accuracy: 0.8691 - val_loss: 0.2745 - val_accuracy: 0.8663\n",
      "Epoch 126/140\n",
      "226/226 [==============================] - 9s 39ms/step - loss: 0.2724 - accuracy: 0.8693 - val_loss: 0.2758 - val_accuracy: 0.8656\n",
      "Epoch 127/140\n",
      "226/226 [==============================] - 9s 38ms/step - loss: 0.2723 - accuracy: 0.8693 - val_loss: 0.2740 - val_accuracy: 0.8671\n",
      "Epoch 128/140\n",
      "226/226 [==============================] - 9s 38ms/step - loss: 0.2720 - accuracy: 0.8695 - val_loss: 0.2761 - val_accuracy: 0.8652\n",
      "Epoch 129/140\n",
      "226/226 [==============================] - 9s 39ms/step - loss: 0.2718 - accuracy: 0.8698 - val_loss: 0.2746 - val_accuracy: 0.8664\n",
      "Epoch 130/140\n",
      "226/226 [==============================] - 9s 38ms/step - loss: 0.2717 - accuracy: 0.8698 - val_loss: 0.2736 - val_accuracy: 0.8669\n",
      "Epoch 131/140\n",
      "226/226 [==============================] - 9s 38ms/step - loss: 0.2723 - accuracy: 0.8695 - val_loss: 0.2766 - val_accuracy: 0.8656\n",
      "Epoch 132/140\n",
      "226/226 [==============================] - 9s 38ms/step - loss: 0.2715 - accuracy: 0.8697 - val_loss: 0.2731 - val_accuracy: 0.8674\n",
      "Epoch 133/140\n",
      "226/226 [==============================] - 9s 38ms/step - loss: 0.2713 - accuracy: 0.8700 - val_loss: 0.2750 - val_accuracy: 0.8663\n",
      "Epoch 134/140\n",
      "226/226 [==============================] - 9s 39ms/step - loss: 0.2711 - accuracy: 0.8701 - val_loss: 0.2725 - val_accuracy: 0.8675\n",
      "Epoch 135/140\n",
      "226/226 [==============================] - 9s 39ms/step - loss: 0.2712 - accuracy: 0.8699 - val_loss: 0.2753 - val_accuracy: 0.8663\n",
      "Epoch 136/140\n",
      "226/226 [==============================] - 9s 39ms/step - loss: 0.2715 - accuracy: 0.8697 - val_loss: 0.2730 - val_accuracy: 0.8675\n",
      "Epoch 137/140\n",
      "226/226 [==============================] - 9s 38ms/step - loss: 0.2706 - accuracy: 0.8704 - val_loss: 0.2760 - val_accuracy: 0.8654\n",
      "Epoch 138/140\n",
      "226/226 [==============================] - 9s 39ms/step - loss: 0.2712 - accuracy: 0.8699 - val_loss: 0.2726 - val_accuracy: 0.8671\n",
      "Epoch 139/140\n",
      "226/226 [==============================] - 9s 39ms/step - loss: 0.2708 - accuracy: 0.8699 - val_loss: 0.2732 - val_accuracy: 0.8671\n",
      "Epoch 140/140\n",
      "226/226 [==============================] - 9s 38ms/step - loss: 0.2705 - accuracy: 0.8704 - val_loss: 0.2745 - val_accuracy: 0.8664\n"
     ]
    }
   ],
   "source": [
    "fit9 = model9.fit(\n",
    "  x_train_s, y_train_our,\n",
    "  epochs=140,\n",
    "  validation_split=0.1,#0.1 ok for 160epochs\n",
    "  #validation_data=(x_val_s, y_val_s),\n",
    "  #callbacks=[mc]\n",
    ")"
   ]
  },
  {
   "cell_type": "code",
   "execution_count": 39,
   "metadata": {},
   "outputs": [
    {
     "data": {
      "image/png": "[encoded data removed]",
      "text/plain": [
       "<Figure size 432x288 with 1 Axes>"
      ]
     },
     "metadata": {
      "needs_background": "light"
     },
     "output_type": "display_data"
    },
    {
     "data": {
      "image/png": "[encoded data removed]",
      "text/plain": [
       "<Figure size 432x288 with 1 Axes>"
      ]
     },
     "metadata": {
      "needs_background": "light"
     },
     "output_type": "display_data"
    }
   ],
   "source": [
    "import matplotlib.pyplot as plt\n",
    "\n",
    "# Accuracy graph\n",
    "plt.plot(fit9.history['accuracy'])\n",
    "plt.plot(fit9.history['val_accuracy'])\n",
    "plt.title('model accuracy')\n",
    "plt.ylabel('accuracy')\n",
    "plt.xlabel('epoch')\n",
    "plt.legend(['train', 'test'], loc='upper left')\n",
    "plt.show()\n",
    "#plt.savefig('/content/drive/MyDrive/CNN_for_STR_ASSIGNMENT_DATA_and_CODES/accuracy88Accuracy.eps')\n",
    "\n",
    "# loss graph\n",
    "plt.plot(fit9.history['loss'])\n",
    "plt.plot(fit9.history['val_loss'])\n",
    "plt.title('model loss')\n",
    "plt.ylabel('loss')\n",
    "plt.xlabel('epoch')\n",
    "plt.legend(['train', 'test'], loc='upper left')\n",
    "plt.show()\n",
    "#plt.savefig('/content/drive/MyDrive/CNN_for_STR_ASSIGNMENT_DATA_and_CODES/loss88Acculoss.eps')"
   ]
  },
  {
   "cell_type": "code",
   "execution_count": 35,
   "metadata": {},
   "outputs": [
    {
     "data": {
      "image/png": "[encoded data removed]",
      "text/plain": [
       "<Figure size 432x288 with 1 Axes>"
      ]
     },
     "metadata": {
      "needs_background": "light"
     },
     "output_type": "display_data"
    },
    {
     "data": {
      "image/png": "[encoded data removed]",
      "text/plain": [
       "<Figure size 432x288 with 1 Axes>"
      ]
     },
     "metadata": {
      "needs_background": "light"
     },
     "output_type": "display_data"
    }
   ],
   "source": [
    "#old one\n",
    "import matplotlib.pyplot as plt\n",
    "\n",
    "# Accuracy graph\n",
    "plt.plot(fit9.history['accuracy'])\n",
    "plt.plot(fit9.history['val_accuracy'])\n",
    "plt.title('model accuracy')\n",
    "plt.ylabel('accuracy')\n",
    "plt.xlabel('epoch')\n",
    "plt.legend(['train', 'test'], loc='upper left')\n",
    "plt.show()\n",
    "#plt.savefig('/content/drive/MyDrive/CNN_for_STR_ASSIGNMENT_DATA_and_CODES/accuracy88Accuracy.eps')\n",
    "\n",
    "# loss graph\n",
    "plt.plot(fit9.history['loss'])\n",
    "plt.plot(fit9.history['val_loss'])\n",
    "plt.title('model loss')\n",
    "plt.ylabel('loss')\n",
    "plt.xlabel('epoch')\n",
    "plt.legend(['train', 'test'], loc='upper left')\n",
    "plt.show()\n",
    "#plt.savefig('/content/drive/MyDrive/CNN_for_STR_ASSIGNMENT_DATA_and_CODES/loss88Acculoss.eps')"
   ]
  },
  {
   "cell_type": "code",
   "execution_count": null,
   "metadata": {
    "id": "mH6aCJKd0O-v",
    "outputId": "fd9040ee-ad24-4b8c-fab3-e562fbf8ec36"
   },
   "outputs": [
    {
     "data": {
      "image/png": "[encoded data removed]",
      "text/plain": [
       "<Figure size 432x288 with 1 Axes>"
      ]
     },
     "metadata": {
      "needs_background": "light",
      "tags": []
     },
     "output_type": "display_data"
    },
    {
     "data": {
      "image/png": "[encoded data removed]",
      "text/plain": [
       "<Figure size 432x288 with 1 Axes>"
      ]
     },
     "metadata": {
      "needs_background": "light",
      "tags": []
     },
     "output_type": "display_data"
    }
   ],
   "source": [
    "#old one\n",
    "import matplotlib.pyplot as plt\n",
    "\n",
    "# Accuracy graph\n",
    "plt.plot(fit3.history['accuracy'])\n",
    "plt.plot(fit3.history['val_accuracy'])\n",
    "plt.title('model accuracy')\n",
    "plt.ylabel('accuracy')\n",
    "plt.xlabel('epoch')\n",
    "plt.legend(['train', 'test'], loc='upper left')\n",
    "plt.show()\n",
    "#plt.savefig('/content/drive/MyDrive/CNN_for_STR_ASSIGNMENT_DATA_and_CODES/accuracy88Accuracy.eps')\n",
    "\n",
    "# loss graph\n",
    "plt.plot(fit3.history['loss'])\n",
    "plt.plot(fit3.history['val_loss'])\n",
    "plt.title('model loss')\n",
    "plt.ylabel('loss')\n",
    "plt.xlabel('epoch')\n",
    "plt.legend(['train', 'test'], loc='upper left')\n",
    "plt.show()\n",
    "#plt.savefig('/content/drive/MyDrive/CNN_for_STR_ASSIGNMENT_DATA_and_CODES/loss88Acculoss.eps')"
   ]
  },
  {
   "cell_type": "code",
   "execution_count": null,
   "metadata": {
    "id": "gL2TPD4n0O-w",
    "outputId": "4457baf7-6c4b-4a65-db84-65c31a2fb074"
   },
   "outputs": [
    {
     "name": "stdout",
     "output_type": "stream",
     "text": [
      "32/32 [==============================] - 1s 17ms/step - loss: 0.1244 - accuracy: 0.9413\n"
     ]
    },
    {
     "data": {
      "text/plain": [
       "[0.12441632151603699, 0.9412940144538879]"
      ]
     },
     "execution_count": 12,
     "metadata": {
      "tags": []
     },
     "output_type": "execute_result"
    }
   ],
   "source": [
    "#ResNet Model old one\n",
    "model3.evaluate(x_test_s, y_test_our)"
   ]
  },
  {
   "cell_type": "code",
   "execution_count": null,
   "metadata": {
    "id": "r8WRfiHJ0O-w",
    "outputId": "9e39e710-62b2-495d-925a-1b0a2f8ae950"
   },
   "outputs": [
    {
     "name": "stdout",
     "output_type": "stream",
     "text": [
      "6/6 [==============================] - 0s 47ms/step - loss: 0.1306 - accuracy: 0.9426\n"
     ]
    },
    {
     "data": {
      "text/plain": [
       "[0.1306268870830536, 0.9425714015960693]"
      ]
     },
     "execution_count": 13,
     "metadata": {
      "tags": []
     },
     "output_type": "execute_result"
    }
   ],
   "source": [
    "#ResNet Model old one\n",
    "model3.evaluate(x_bench, y_bench)"
   ]
  },
  {
   "cell_type": "code",
   "execution_count": null,
   "metadata": {
    "colab": {
     "base_uri": "https://localhost:8080/"
    },
    "id": "3317ml-MfRAe",
    "outputId": "be16f915-80fe-45c6-ff0d-5d0ff48afdaa"
   },
   "outputs": [],
   "source": [
    "model3.save('ResNETForStructureAssignment94JulyAccuracymodel')\n",
    "model3.save_weights('ResNETForStructureAssignmentWeights94JulyAccuracymodel.h5')"
   ]
  },
  {
   "cell_type": "code",
   "execution_count": null,
   "metadata": {
    "colab": {
     "base_uri": "https://localhost:8080/"
    },
    "id": "2APtS2yosTTx",
    "outputId": "450f734b-d064-4b56-c99e-cc4378ec70c7"
   },
   "outputs": [
    {
     "name": "stdout",
     "output_type": "stream",
     "text": [
      "WARNING:tensorflow:From /usr/local/lib/python3.6/dist-packages/tensorflow/python/training/tracking/tracking.py:111: Model.state_updates (from tensorflow.python.keras.engine.training) is deprecated and will be removed in a future version.\n",
      "Instructions for updating:\n",
      "This property should not be used in TensorFlow 2.0, as updates are applied automatically.\n",
      "WARNING:tensorflow:From /usr/local/lib/python3.6/dist-packages/tensorflow/python/training/tracking/tracking.py:111: Layer.updates (from tensorflow.python.keras.engine.base_layer) is deprecated and will be removed in a future version.\n",
      "Instructions for updating:\n",
      "This property should not be used in TensorFlow 2.0, as updates are applied automatically.\n",
      "INFO:tensorflow:Assets written to: ResNETForStructureAssignment94JulyAccuracymodel2/assets\n"
     ]
    }
   ],
   "source": [
    "model3.save('ResNETForStructureAssignment94JulyAccuracymodel2')\n",
    "model3.save_weights('ResNETForStructureAssignmentWeights94JulyAccuracymodel2.h5')\n",
    "#saved one 94.51,94.20,94.32,94.44(160 epochs)\n",
    "#+60 94.84,94.37,94.39,94.45"
   ]
  },
  {
   "cell_type": "code",
   "execution_count": 6,
   "metadata": {
    "id": "cKjS15n6mpkf"
   },
   "outputs": [],
   "source": [
    "#from keras.models import load_model\n",
    "#saved_model2 = load_model('/content/drive/MyDrive/CNN_for_STR_ASSIGNMENT_DATA_and_CODES/ResNETForStructureAssignmentWeights94JulyAccuracymodel2')"
   ]
  },
  {
   "cell_type": "code",
   "execution_count": 22,
   "metadata": {},
   "outputs": [],
   "source": [
    "from keras.models import load_model\n",
    "saved_model = load_model('ResNETForStructureAssignment94JulyAccuracy')"
   ]
  },
  {
   "cell_type": "code",
   "execution_count": 23,
   "metadata": {},
   "outputs": [
    {
     "name": "stdout",
     "output_type": "stream",
     "text": [
      "Model: \"functional_1\"\n",
      "__________________________________________________________________________________________________\n",
      "Layer (type)                    Output Shape         Param #     Connected to                     \n",
      "==================================================================================================\n",
      "input_1 (InputLayer)            [(None, 500, 23, 1)] 0                                            \n",
      "__________________________________________________________________________________________________\n",
      "conv2d (Conv2D)                 (None, 500, 23, 64)  1664        input_1[0][0]                    \n",
      "__________________________________________________________________________________________________\n",
      "leaky_re_lu (LeakyReLU)         (None, 500, 23, 64)  0           conv2d[0][0]                     \n",
      "__________________________________________________________________________________________________\n",
      "conv2d_1 (Conv2D)               (None, 500, 23, 64)  4160        leaky_re_lu[0][0]                \n",
      "__________________________________________________________________________________________________\n",
      "batch_normalization (BatchNorma (None, 500, 23, 64)  256         conv2d_1[0][0]                   \n",
      "__________________________________________________________________________________________________\n",
      "add (Add)                       (None, 500, 23, 64)  0           input_1[0][0]                    \n",
      "                                                                 batch_normalization[0][0]        \n",
      "__________________________________________________________________________________________________\n",
      "leaky_re_lu_1 (LeakyReLU)       (None, 500, 23, 64)  0           add[0][0]                        \n",
      "__________________________________________________________________________________________________\n",
      "conv2d_2 (Conv2D)               (None, 500, 23, 32)  51232       leaky_re_lu_1[0][0]              \n",
      "__________________________________________________________________________________________________\n",
      "conv2d_3 (Conv2D)               (None, 500, 23, 32)  25632       conv2d_2[0][0]                   \n",
      "__________________________________________________________________________________________________\n",
      "conv2d_4 (Conv2D)               (None, 500, 23, 32)  25632       conv2d_3[0][0]                   \n",
      "__________________________________________________________________________________________________\n",
      "leaky_re_lu_2 (LeakyReLU)       (None, 500, 23, 32)  0           conv2d_4[0][0]                   \n",
      "__________________________________________________________________________________________________\n",
      "conv2d_5 (Conv2D)               (None, 500, 23, 32)  1056        leaky_re_lu_2[0][0]              \n",
      "__________________________________________________________________________________________________\n",
      "batch_normalization_1 (BatchNor (None, 500, 23, 32)  128         conv2d_5[0][0]                   \n",
      "__________________________________________________________________________________________________\n",
      "add_1 (Add)                     (None, 500, 23, 32)  0           conv2d_3[0][0]                   \n",
      "                                                                 batch_normalization_1[0][0]      \n",
      "__________________________________________________________________________________________________\n",
      "leaky_re_lu_3 (LeakyReLU)       (None, 500, 23, 32)  0           add_1[0][0]                      \n",
      "__________________________________________________________________________________________________\n",
      "conv2d_6 (Conv2D)               (None, 500, 23, 1)   33          leaky_re_lu_3[0][0]              \n",
      "__________________________________________________________________________________________________\n",
      "reshape (Reshape)               (None, 500, 23)      0           conv2d_6[0][0]                   \n",
      "__________________________________________________________________________________________________\n",
      "dense (Dense)                   (None, 500, 256)     6144        reshape[0][0]                    \n",
      "__________________________________________________________________________________________________\n",
      "dense_1 (Dense)                 (None, 500, 256)     65792       dense[0][0]                      \n",
      "__________________________________________________________________________________________________\n",
      "dense_2 (Dense)                 (None, 500, 3)       771         dense_1[0][0]                    \n",
      "==================================================================================================\n",
      "Total params: 182,500\n",
      "Trainable params: 182,308\n",
      "Non-trainable params: 192\n",
      "__________________________________________________________________________________________________\n"
     ]
    }
   ],
   "source": [
    "saved_model.summary()"
   ]
  },
  {
   "cell_type": "code",
   "execution_count": 11,
   "metadata": {
    "colab": {
     "base_uri": "https://localhost:8080/"
    },
    "id": "mgOz5HQX1HWo",
    "outputId": "2cdd77c2-19b0-41fe-e392-2ccb1b60772a"
   },
   "outputs": [
    {
     "name": "stdout",
     "output_type": "stream",
     "text": [
      "Model: \"functional_1\"\n",
      "__________________________________________________________________________________________________\n",
      "Layer (type)                    Output Shape         Param #     Connected to                     \n",
      "==================================================================================================\n",
      "input_1 (InputLayer)            [(None, 500, 23, 1)] 0                                            \n",
      "__________________________________________________________________________________________________\n",
      "conv2d (Conv2D)                 (None, 500, 23, 64)  1664        input_1[0][0]                    \n",
      "__________________________________________________________________________________________________\n",
      "leaky_re_lu (LeakyReLU)         (None, 500, 23, 64)  0           conv2d[0][0]                     \n",
      "__________________________________________________________________________________________________\n",
      "conv2d_1 (Conv2D)               (None, 500, 23, 64)  4160        leaky_re_lu[0][0]                \n",
      "__________________________________________________________________________________________________\n",
      "batch_normalization (BatchNorma (None, 500, 23, 64)  256         conv2d_1[0][0]                   \n",
      "__________________________________________________________________________________________________\n",
      "add (Add)                       (None, 500, 23, 64)  0           input_1[0][0]                    \n",
      "                                                                 batch_normalization[0][0]        \n",
      "__________________________________________________________________________________________________\n",
      "leaky_re_lu_1 (LeakyReLU)       (None, 500, 23, 64)  0           add[0][0]                        \n",
      "__________________________________________________________________________________________________\n",
      "conv2d_2 (Conv2D)               (None, 500, 23, 32)  51232       leaky_re_lu_1[0][0]              \n",
      "__________________________________________________________________________________________________\n",
      "conv2d_3 (Conv2D)               (None, 500, 23, 32)  25632       conv2d_2[0][0]                   \n",
      "__________________________________________________________________________________________________\n",
      "conv2d_4 (Conv2D)               (None, 500, 23, 32)  25632       conv2d_3[0][0]                   \n",
      "__________________________________________________________________________________________________\n",
      "conv2d_5 (Conv2D)               (None, 500, 23, 32)  25632       conv2d_4[0][0]                   \n",
      "__________________________________________________________________________________________________\n",
      "leaky_re_lu_2 (LeakyReLU)       (None, 500, 23, 32)  0           conv2d_5[0][0]                   \n",
      "__________________________________________________________________________________________________\n",
      "conv2d_6 (Conv2D)               (None, 500, 23, 32)  1056        leaky_re_lu_2[0][0]              \n",
      "__________________________________________________________________________________________________\n",
      "batch_normalization_1 (BatchNor (None, 500, 23, 32)  128         conv2d_6[0][0]                   \n",
      "__________________________________________________________________________________________________\n",
      "add_1 (Add)                     (None, 500, 23, 32)  0           conv2d_4[0][0]                   \n",
      "                                                                 batch_normalization_1[0][0]      \n",
      "__________________________________________________________________________________________________\n",
      "leaky_re_lu_3 (LeakyReLU)       (None, 500, 23, 32)  0           add_1[0][0]                      \n",
      "__________________________________________________________________________________________________\n",
      "conv2d_7 (Conv2D)               (None, 500, 23, 1)   33          leaky_re_lu_3[0][0]              \n",
      "__________________________________________________________________________________________________\n",
      "reshape (Reshape)               (None, 500, 23)      0           conv2d_7[0][0]                   \n",
      "__________________________________________________________________________________________________\n",
      "dense (Dense)                   (None, 500, 256)     6144        reshape[0][0]                    \n",
      "__________________________________________________________________________________________________\n",
      "dense_1 (Dense)                 (None, 500, 256)     65792       dense[0][0]                      \n",
      "__________________________________________________________________________________________________\n",
      "dense_2 (Dense)                 (None, 500, 3)       771         dense_1[0][0]                    \n",
      "==================================================================================================\n",
      "Total params: 208,132\n",
      "Trainable params: 207,940\n",
      "Non-trainable params: 192\n",
      "__________________________________________________________________________________________________\n"
     ]
    }
   ],
   "source": [
    "saved_model2.summary()#saved model 2"
   ]
  },
  {
   "cell_type": "code",
   "execution_count": 24,
   "metadata": {},
   "outputs": [
    {
     "name": "stdout",
     "output_type": "stream",
     "text": [
      "32/32 [==============================] - 1s 30ms/step - loss: 0.1149 - accuracy: 0.9470\n"
     ]
    },
    {
     "data": {
      "text/plain": [
       "[0.11489629000425339, 0.9469699859619141]"
      ]
     },
     "execution_count": 24,
     "metadata": {},
     "output_type": "execute_result"
    }
   ],
   "source": [
    "#ResNet model 94.70 and 94.44 (comparable to ResNet-LSTM)\n",
    "saved_model.evaluate(x_test_s, y_test_our)"
   ]
  },
  {
   "cell_type": "code",
   "execution_count": 25,
   "metadata": {},
   "outputs": [
    {
     "name": "stdout",
     "output_type": "stream",
     "text": [
      "6/6 [==============================] - 0s 75ms/step - loss: 0.1317 - accuracy: 0.9444\n"
     ]
    },
    {
     "data": {
      "text/plain": [
       "[0.1316612958908081, 0.9443915486335754]"
      ]
     },
     "execution_count": 25,
     "metadata": {},
     "output_type": "execute_result"
    }
   ],
   "source": [
    "#ResNet model 94.70 and 94.44 (comparable to ResNet-LSTM)\n",
    "saved_model.evaluate(x_bench, y_bench)"
   ]
  },
  {
   "cell_type": "code",
   "execution_count": 19,
   "metadata": {},
   "outputs": [
    {
     "name": "stdout",
     "output_type": "stream",
     "text": [
      "32/32 [==============================] - 5s 162ms/step - loss: 0.1133 - accuracy: 0.9460\n"
     ]
    },
    {
     "data": {
      "text/plain": [
       "[0.11331114917993546, 0.9460060000419617]"
      ]
     },
     "execution_count": 19,
     "metadata": {},
     "output_type": "execute_result"
    }
   ],
   "source": [
    "#ResNet model2 94.70 and 94.44 (comparable to ResNet-LSTM)\n",
    "saved_model2.evaluate(x_test_s, y_test_our)"
   ]
  },
  {
   "cell_type": "code",
   "execution_count": 20,
   "metadata": {},
   "outputs": [
    {
     "name": "stdout",
     "output_type": "stream",
     "text": [
      "6/6 [==============================] - 1s 114ms/step - loss: 0.1306 - accuracy: 0.9426\n"
     ]
    },
    {
     "data": {
      "text/plain": [
       "[0.1306268870830536, 0.9425714015960693]"
      ]
     },
     "execution_count": 20,
     "metadata": {},
     "output_type": "execute_result"
    }
   ],
   "source": [
    "#ResNet model2 94.70 and 94.44 (comparable to ResNet-LSTM)\n",
    "saved_model2.evaluate(x_bench, y_bench)"
   ]
  },
  {
   "cell_type": "code",
   "execution_count": 34,
   "metadata": {},
   "outputs": [
    {
     "name": "stdout",
     "output_type": "stream",
     "text": [
      "Model: \"functional_3\"\n",
      "__________________________________________________________________________________________________\n",
      "Layer (type)                    Output Shape         Param #     Connected to                     \n",
      "==================================================================================================\n",
      "input_2 (InputLayer)            [(None, 500, 23, 1)] 0                                            \n",
      "__________________________________________________________________________________________________\n",
      "conv2d_8 (Conv2D)               (None, 500, 23, 64)  1664        input_2[0][0]                    \n",
      "__________________________________________________________________________________________________\n",
      "leaky_re_lu_4 (LeakyReLU)       (None, 500, 23, 64)  0           conv2d_8[0][0]                   \n",
      "__________________________________________________________________________________________________\n",
      "conv2d_9 (Conv2D)               (None, 500, 23, 64)  4160        leaky_re_lu_4[0][0]              \n",
      "__________________________________________________________________________________________________\n",
      "batch_normalization_2 (BatchNor (None, 500, 23, 64)  256         conv2d_9[0][0]                   \n",
      "__________________________________________________________________________________________________\n",
      "add_2 (Add)                     (None, 500, 23, 64)  0           input_2[0][0]                    \n",
      "                                                                 batch_normalization_2[0][0]      \n",
      "__________________________________________________________________________________________________\n",
      "leaky_re_lu_5 (LeakyReLU)       (None, 500, 23, 64)  0           add_2[0][0]                      \n",
      "__________________________________________________________________________________________________\n",
      "conv2d_10 (Conv2D)              (None, 500, 23, 32)  51232       leaky_re_lu_5[0][0]              \n",
      "__________________________________________________________________________________________________\n",
      "conv2d_11 (Conv2D)              (None, 500, 23, 32)  25632       conv2d_10[0][0]                  \n",
      "__________________________________________________________________________________________________\n",
      "conv2d_12 (Conv2D)              (None, 500, 23, 32)  25632       conv2d_11[0][0]                  \n",
      "__________________________________________________________________________________________________\n",
      "conv2d_13 (Conv2D)              (None, 500, 23, 32)  25632       conv2d_12[0][0]                  \n",
      "__________________________________________________________________________________________________\n",
      "leaky_re_lu_6 (LeakyReLU)       (None, 500, 23, 32)  0           conv2d_13[0][0]                  \n",
      "__________________________________________________________________________________________________\n",
      "conv2d_14 (Conv2D)              (None, 500, 23, 32)  1056        leaky_re_lu_6[0][0]              \n",
      "__________________________________________________________________________________________________\n",
      "batch_normalization_3 (BatchNor (None, 500, 23, 32)  128         conv2d_14[0][0]                  \n",
      "__________________________________________________________________________________________________\n",
      "add_3 (Add)                     (None, 500, 23, 32)  0           conv2d_12[0][0]                  \n",
      "                                                                 batch_normalization_3[0][0]      \n",
      "__________________________________________________________________________________________________\n",
      "leaky_re_lu_7 (LeakyReLU)       (None, 500, 23, 32)  0           add_3[0][0]                      \n",
      "__________________________________________________________________________________________________\n",
      "conv2d_15 (Conv2D)              (None, 500, 23, 1)   33          leaky_re_lu_7[0][0]              \n",
      "__________________________________________________________________________________________________\n",
      "reshape_1 (Reshape)             (None, 500, 23)      0           conv2d_15[0][0]                  \n",
      "__________________________________________________________________________________________________\n",
      "lstm_1 (LSTM)                   (None, 500, 32)      7168        reshape_1[0][0]                  \n",
      "__________________________________________________________________________________________________\n",
      "dense_3 (Dense)                 (None, 500, 256)     8448        lstm_1[0][0]                     \n",
      "__________________________________________________________________________________________________\n",
      "dense_4 (Dense)                 (None, 500, 256)     65792       dense_3[0][0]                    \n",
      "__________________________________________________________________________________________________\n",
      "dense_5 (Dense)                 (None, 500, 3)       771         dense_4[0][0]                    \n",
      "==================================================================================================\n",
      "Total params: 217,604\n",
      "Trainable params: 217,412\n",
      "Non-trainable params: 192\n",
      "__________________________________________________________________________________________________\n"
     ]
    }
   ],
   "source": [
    "# ------------------------ResNet-LSTM---------------------------\n",
    "\n",
    "inp = layers.Input(shape=(x_train_s.shape[1], x_train_s.shape[2], x_train_s.shape[3]))\n",
    "#m = layers.Masking(mask_value=0.0)(inp)#original\n",
    "m=(inp)\n",
    "m = residual_block(m, 64) #original 64\n",
    "m = layers.Conv2D(32, kernel_size=(5, 5), activation='relu', padding='same')(m)\n",
    "#m = layers.BatchNormalization()(m)# was not there in original\n",
    "#m = Dropout(0.1)(m)\n",
    "m = layers.Conv2D(32, kernel_size=(5, 5), activation='relu', padding='same')(m)#not in original\n",
    "#m = layers.BatchNormalization()(m)# was not there in original\n",
    "#m = Dropout(0.1)(m)\n",
    "m = layers.Conv2D(32, kernel_size=(5, 5), activation='relu', padding='same')(m)#not in original, in between a sudden change when I add this\n",
    "#m = layers.BatchNormalization()(m)# was not there in original\n",
    "#m = Dropout(0.1)(m)\n",
    "m = residual_block(m, 32) #original 32\n",
    "#m = layers.Conv2D(32, kernel_size=(5, 5), activation='relu', padding='same')(m)#not in original\n",
    "m = layers.Conv2D(1, kernel_size=(1, 1), activation='relu', padding='same')(m)\n",
    "m = layers.Reshape([500, 23])(m)\n",
    "m = layers.LSTM(32, return_sequences=True)(m)\n",
    "#m = layers.Reshape([500, 23])(m)\n",
    "\n",
    "#m = layers.LSTM(32, input_shape=(500,23), return_sequences=True),\n",
    "m = Dense(256, activation='relu')(m)#200\n",
    "#m = Dropout(0.2)(m)\n",
    "m = Dense(256, activation='relu')(m)#300\n",
    "#m = Dropout(0.2)(m)\n",
    "out = Dense(3, activation='softmax')(m)\n",
    "\n",
    "model15 = tf.keras.Model(inputs=inp, outputs=out)\n",
    "\n",
    "model15.summary()\n",
    "\n",
    "opt = keras.optimizers.Nadam(learning_rate=0.0001)\n",
    "model15.compile(\n",
    "    optimizer=opt,\n",
    "    #optimizer='Adam',\n",
    "    loss='kullback_leibler_divergence',\n",
    "    #loss='categorical_crossentropy',\n",
    "    #CCE larger loss\n",
    "    metrics=['accuracy']\n",
    ")"
   ]
  },
  {
   "cell_type": "code",
   "execution_count": 28,
   "metadata": {},
   "outputs": [
    {
     "name": "stdout",
     "output_type": "stream",
     "text": [
      "Epoch 1/140\n",
      "226/226 [==============================] - 24s 108ms/step - loss: 0.4697 - accuracy: 0.1803 - val_loss: 0.4664 - val_accuracy: 0.1785\n",
      "Epoch 2/140\n",
      "226/226 [==============================] - 22s 99ms/step - loss: 0.4681 - accuracy: 0.1816 - val_loss: 0.4641 - val_accuracy: 0.1768\n",
      "Epoch 3/140\n",
      "226/226 [==============================] - 22s 99ms/step - loss: 0.4103 - accuracy: 0.5121 - val_loss: 0.4763 - val_accuracy: 0.7524\n",
      "Epoch 4/140\n",
      "226/226 [==============================] - 22s 98ms/step - loss: 0.2852 - accuracy: 0.8461 - val_loss: 0.2605 - val_accuracy: 0.8774\n",
      "Epoch 5/140\n",
      "226/226 [==============================] - 22s 98ms/step - loss: 0.2239 - accuracy: 0.8956 - val_loss: 0.2120 - val_accuracy: 0.9043\n",
      "Epoch 6/140\n",
      "226/226 [==============================] - 22s 98ms/step - loss: 0.2016 - accuracy: 0.9072 - val_loss: 0.1931 - val_accuracy: 0.9125\n",
      "Epoch 7/140\n",
      "226/226 [==============================] - 22s 96ms/step - loss: 0.1880 - accuracy: 0.9145 - val_loss: 0.1754 - val_accuracy: 0.9200\n",
      "Epoch 8/140\n",
      "226/226 [==============================] - 21s 95ms/step - loss: 0.1795 - accuracy: 0.9187 - val_loss: 0.1739 - val_accuracy: 0.9205\n",
      "Epoch 9/140\n",
      "226/226 [==============================] - 21s 94ms/step - loss: 0.1735 - accuracy: 0.9219 - val_loss: 0.1731 - val_accuracy: 0.9233\n",
      "Epoch 10/140\n",
      "226/226 [==============================] - 22s 97ms/step - loss: 0.1697 - accuracy: 0.9239 - val_loss: 0.1754 - val_accuracy: 0.9214\n",
      "Epoch 11/140\n",
      "226/226 [==============================] - 22s 97ms/step - loss: 0.1648 - accuracy: 0.9258 - val_loss: 0.1669 - val_accuracy: 0.9235\n",
      "Epoch 12/140\n",
      "226/226 [==============================] - 22s 97ms/step - loss: 0.1636 - accuracy: 0.9266 - val_loss: 0.1674 - val_accuracy: 0.9230\n",
      "Epoch 13/140\n",
      "226/226 [==============================] - 22s 98ms/step - loss: 0.1603 - accuracy: 0.9280 - val_loss: 0.1606 - val_accuracy: 0.9280\n",
      "Epoch 14/140\n",
      "226/226 [==============================] - 22s 98ms/step - loss: 0.1622 - accuracy: 0.9272 - val_loss: 0.1558 - val_accuracy: 0.9295\n",
      "Epoch 15/140\n",
      "226/226 [==============================] - 22s 98ms/step - loss: 0.1586 - accuracy: 0.9287 - val_loss: 0.1576 - val_accuracy: 0.9285\n",
      "Epoch 16/140\n",
      "226/226 [==============================] - 22s 97ms/step - loss: 0.1541 - accuracy: 0.9305 - val_loss: 0.1533 - val_accuracy: 0.9306\n",
      "Epoch 17/140\n",
      "226/226 [==============================] - 22s 97ms/step - loss: 0.1524 - accuracy: 0.9310 - val_loss: 0.1528 - val_accuracy: 0.9307\n",
      "Epoch 18/140\n",
      "226/226 [==============================] - 21s 94ms/step - loss: 0.1528 - accuracy: 0.9310 - val_loss: 0.1498 - val_accuracy: 0.9321\n",
      "Epoch 19/140\n",
      "226/226 [==============================] - 21s 94ms/step - loss: 0.1503 - accuracy: 0.9319 - val_loss: 0.1475 - val_accuracy: 0.9332\n",
      "Epoch 20/140\n",
      "226/226 [==============================] - 22s 96ms/step - loss: 0.1490 - accuracy: 0.9327 - val_loss: 0.1481 - val_accuracy: 0.9326\n",
      "Epoch 21/140\n",
      "226/226 [==============================] - 22s 98ms/step - loss: 0.1464 - accuracy: 0.9335 - val_loss: 0.1843 - val_accuracy: 0.9207\n",
      "Epoch 22/140\n",
      "226/226 [==============================] - 22s 98ms/step - loss: 0.1480 - accuracy: 0.9328 - val_loss: 0.1591 - val_accuracy: 0.9277\n",
      "Epoch 23/140\n",
      "226/226 [==============================] - 22s 98ms/step - loss: 0.1454 - accuracy: 0.9339 - val_loss: 0.1439 - val_accuracy: 0.9346\n",
      "Epoch 24/140\n",
      "226/226 [==============================] - 22s 97ms/step - loss: 0.1490 - accuracy: 0.9328 - val_loss: 0.1475 - val_accuracy: 0.9332\n",
      "Epoch 25/140\n",
      "226/226 [==============================] - 22s 99ms/step - loss: 0.1465 - accuracy: 0.9335 - val_loss: 0.1594 - val_accuracy: 0.9280\n",
      "Epoch 26/140\n",
      "226/226 [==============================] - 22s 98ms/step - loss: 0.1439 - accuracy: 0.9347 - val_loss: 0.1445 - val_accuracy: 0.9341\n",
      "Epoch 27/140\n",
      "226/226 [==============================] - 22s 97ms/step - loss: 0.1432 - accuracy: 0.9349 - val_loss: 0.1415 - val_accuracy: 0.9354\n",
      "Epoch 28/140\n",
      "226/226 [==============================] - 21s 94ms/step - loss: 0.1404 - accuracy: 0.9359 - val_loss: 0.1436 - val_accuracy: 0.9347\n",
      "Epoch 29/140\n",
      "226/226 [==============================] - 21s 95ms/step - loss: 0.1396 - accuracy: 0.9362 - val_loss: 0.1414 - val_accuracy: 0.9348\n",
      "Epoch 30/140\n",
      "226/226 [==============================] - 22s 97ms/step - loss: 0.1418 - accuracy: 0.9355 - val_loss: 0.1421 - val_accuracy: 0.9356\n",
      "Epoch 31/140\n",
      "226/226 [==============================] - 22s 98ms/step - loss: 0.1381 - accuracy: 0.9371 - val_loss: 0.1424 - val_accuracy: 0.9349\n",
      "Epoch 32/140\n",
      "226/226 [==============================] - 22s 98ms/step - loss: 0.1375 - accuracy: 0.9372 - val_loss: 0.1408 - val_accuracy: 0.9353\n",
      "Epoch 33/140\n",
      "226/226 [==============================] - 22s 97ms/step - loss: 0.1409 - accuracy: 0.9363 - val_loss: 0.1428 - val_accuracy: 0.9348\n",
      "Epoch 34/140\n",
      "226/226 [==============================] - 22s 98ms/step - loss: 0.1359 - accuracy: 0.9380 - val_loss: 0.1500 - val_accuracy: 0.9315\n",
      "Epoch 35/140\n",
      "226/226 [==============================] - 22s 98ms/step - loss: 0.1371 - accuracy: 0.9379 - val_loss: 0.1382 - val_accuracy: 0.9369\n",
      "Epoch 36/140\n",
      "226/226 [==============================] - 22s 98ms/step - loss: 0.1360 - accuracy: 0.9381 - val_loss: 0.1377 - val_accuracy: 0.9371\n",
      "Epoch 37/140\n",
      "226/226 [==============================] - 22s 97ms/step - loss: 0.1340 - accuracy: 0.9391 - val_loss: 0.1363 - val_accuracy: 0.9372\n",
      "Epoch 38/140\n",
      "226/226 [==============================] - 21s 94ms/step - loss: 0.1337 - accuracy: 0.9391 - val_loss: 0.1363 - val_accuracy: 0.9381\n",
      "Epoch 39/140\n",
      "226/226 [==============================] - 21s 95ms/step - loss: 0.1340 - accuracy: 0.9389 - val_loss: 0.1340 - val_accuracy: 0.9389\n",
      "Epoch 40/140\n",
      "226/226 [==============================] - 22s 99ms/step - loss: 0.1333 - accuracy: 0.9395 - val_loss: 0.1372 - val_accuracy: 0.9367\n",
      "Epoch 41/140\n",
      "226/226 [==============================] - 22s 99ms/step - loss: 0.1319 - accuracy: 0.9398 - val_loss: 0.1353 - val_accuracy: 0.9382\n",
      "Epoch 42/140\n",
      "226/226 [==============================] - 22s 98ms/step - loss: 0.1315 - accuracy: 0.9399 - val_loss: 0.1327 - val_accuracy: 0.9395\n",
      "Epoch 43/140\n",
      "226/226 [==============================] - 22s 98ms/step - loss: 0.1305 - accuracy: 0.9405 - val_loss: 0.1345 - val_accuracy: 0.9382\n",
      "Epoch 44/140\n",
      "226/226 [==============================] - 22s 98ms/step - loss: 0.1312 - accuracy: 0.9402 - val_loss: 0.1334 - val_accuracy: 0.9389\n",
      "Epoch 45/140\n",
      "226/226 [==============================] - 22s 97ms/step - loss: 0.1303 - accuracy: 0.9406 - val_loss: 0.1308 - val_accuracy: 0.9402\n",
      "Epoch 46/140\n",
      "226/226 [==============================] - 22s 96ms/step - loss: 0.1300 - accuracy: 0.9409 - val_loss: 0.1379 - val_accuracy: 0.9374\n",
      "Epoch 47/140\n",
      "226/226 [==============================] - 21s 94ms/step - loss: 0.1292 - accuracy: 0.9414 - val_loss: 0.1312 - val_accuracy: 0.9397\n",
      "Epoch 48/140\n",
      "226/226 [==============================] - 21s 94ms/step - loss: 0.1280 - accuracy: 0.9416 - val_loss: 0.1362 - val_accuracy: 0.9379\n",
      "Epoch 49/140\n",
      "226/226 [==============================] - 22s 97ms/step - loss: 0.1288 - accuracy: 0.9415 - val_loss: 0.1312 - val_accuracy: 0.9401\n",
      "Epoch 50/140\n",
      "226/226 [==============================] - 22s 98ms/step - loss: 0.1277 - accuracy: 0.9417 - val_loss: 0.1309 - val_accuracy: 0.9401\n",
      "Epoch 51/140\n",
      "226/226 [==============================] - 22s 98ms/step - loss: 0.1274 - accuracy: 0.9418 - val_loss: 0.1310 - val_accuracy: 0.9398\n",
      "Epoch 52/140\n",
      "226/226 [==============================] - 22s 98ms/step - loss: 0.1272 - accuracy: 0.9418 - val_loss: 0.1332 - val_accuracy: 0.9390\n",
      "Epoch 53/140\n",
      "226/226 [==============================] - 22s 97ms/step - loss: 0.1259 - accuracy: 0.9423 - val_loss: 0.1328 - val_accuracy: 0.9392\n",
      "Epoch 54/140\n",
      "226/226 [==============================] - 22s 97ms/step - loss: 0.1260 - accuracy: 0.9423 - val_loss: 0.1378 - val_accuracy: 0.9368\n",
      "Epoch 55/140\n",
      "226/226 [==============================] - 22s 97ms/step - loss: 0.1268 - accuracy: 0.9421 - val_loss: 0.1302 - val_accuracy: 0.9403\n",
      "Epoch 56/140\n",
      "226/226 [==============================] - 22s 96ms/step - loss: 0.1263 - accuracy: 0.9426 - val_loss: 0.1330 - val_accuracy: 0.9396\n",
      "Epoch 57/140\n",
      "226/226 [==============================] - 21s 94ms/step - loss: 0.1256 - accuracy: 0.9428 - val_loss: 0.1373 - val_accuracy: 0.9373\n",
      "Epoch 58/140\n",
      "226/226 [==============================] - 21s 94ms/step - loss: 0.1241 - accuracy: 0.9434 - val_loss: 0.1266 - val_accuracy: 0.9422\n",
      "Epoch 59/140\n",
      "226/226 [==============================] - 22s 96ms/step - loss: 0.1238 - accuracy: 0.9434 - val_loss: 0.1310 - val_accuracy: 0.9403\n",
      "Epoch 60/140\n",
      "226/226 [==============================] - 22s 98ms/step - loss: 0.1233 - accuracy: 0.9434 - val_loss: 0.1289 - val_accuracy: 0.9406\n",
      "Epoch 61/140\n",
      "226/226 [==============================] - 22s 98ms/step - loss: 0.1226 - accuracy: 0.9440 - val_loss: 0.1315 - val_accuracy: 0.9398\n",
      "Epoch 62/140\n",
      "226/226 [==============================] - 22s 98ms/step - loss: 0.1222 - accuracy: 0.9441 - val_loss: 0.1287 - val_accuracy: 0.9412\n",
      "Epoch 63/140\n",
      "226/226 [==============================] - 22s 97ms/step - loss: 0.1226 - accuracy: 0.9439 - val_loss: 0.1286 - val_accuracy: 0.9410\n",
      "Epoch 64/140\n",
      "226/226 [==============================] - 22s 98ms/step - loss: 0.1216 - accuracy: 0.9445 - val_loss: 0.1275 - val_accuracy: 0.9416\n",
      "Epoch 65/140\n",
      "226/226 [==============================] - 22s 97ms/step - loss: 0.1215 - accuracy: 0.9445 - val_loss: 0.1257 - val_accuracy: 0.9423\n",
      "Epoch 66/140\n",
      "226/226 [==============================] - 22s 96ms/step - loss: 0.1205 - accuracy: 0.9450 - val_loss: 0.1241 - val_accuracy: 0.9429\n",
      "Epoch 67/140\n",
      "226/226 [==============================] - 21s 94ms/step - loss: 0.1203 - accuracy: 0.9451 - val_loss: 0.1262 - val_accuracy: 0.9429\n",
      "Epoch 68/140\n",
      "226/226 [==============================] - 21s 94ms/step - loss: 0.1208 - accuracy: 0.9449 - val_loss: 0.1278 - val_accuracy: 0.9413\n",
      "Epoch 69/140\n",
      "226/226 [==============================] - 21s 95ms/step - loss: 0.1197 - accuracy: 0.9453 - val_loss: 0.1294 - val_accuracy: 0.9409\n",
      "Epoch 70/140\n",
      "226/226 [==============================] - 22s 98ms/step - loss: 0.1193 - accuracy: 0.9454 - val_loss: 0.1268 - val_accuracy: 0.9421\n",
      "Epoch 71/140\n",
      "226/226 [==============================] - 22s 98ms/step - loss: 0.1195 - accuracy: 0.9454 - val_loss: 0.1392 - val_accuracy: 0.9370\n",
      "Epoch 72/140\n",
      "226/226 [==============================] - 22s 98ms/step - loss: 0.1184 - accuracy: 0.9459 - val_loss: 0.1260 - val_accuracy: 0.9422\n",
      "Epoch 73/140\n",
      "226/226 [==============================] - 22s 99ms/step - loss: 0.1181 - accuracy: 0.9460 - val_loss: 0.1393 - val_accuracy: 0.9373\n",
      "Epoch 74/140\n",
      "226/226 [==============================] - 22s 99ms/step - loss: 0.1190 - accuracy: 0.9456 - val_loss: 0.1343 - val_accuracy: 0.9390\n",
      "Epoch 75/140\n",
      "226/226 [==============================] - 22s 98ms/step - loss: 0.1176 - accuracy: 0.9463 - val_loss: 0.1238 - val_accuracy: 0.9434\n",
      "Epoch 76/140\n",
      "226/226 [==============================] - 21s 94ms/step - loss: 0.1192 - accuracy: 0.9457 - val_loss: 0.1236 - val_accuracy: 0.9432\n",
      "Epoch 77/140\n",
      "226/226 [==============================] - 21s 94ms/step - loss: 0.1171 - accuracy: 0.9464 - val_loss: 0.1252 - val_accuracy: 0.9428\n",
      "Epoch 78/140\n",
      "226/226 [==============================] - 22s 96ms/step - loss: 0.1162 - accuracy: 0.9468 - val_loss: 0.1270 - val_accuracy: 0.9423\n",
      "Epoch 79/140\n",
      "226/226 [==============================] - 22s 97ms/step - loss: 0.1169 - accuracy: 0.9467 - val_loss: 0.1224 - val_accuracy: 0.9446\n",
      "Epoch 80/140\n",
      "226/226 [==============================] - 22s 99ms/step - loss: 0.1159 - accuracy: 0.9471 - val_loss: 0.1222 - val_accuracy: 0.9443\n",
      "Epoch 81/140\n",
      "226/226 [==============================] - 22s 98ms/step - loss: 0.1168 - accuracy: 0.9467 - val_loss: 0.1294 - val_accuracy: 0.9412\n",
      "Epoch 82/140\n",
      "226/226 [==============================] - 22s 99ms/step - loss: 0.1149 - accuracy: 0.9473 - val_loss: 0.1211 - val_accuracy: 0.9441\n",
      "Epoch 83/140\n",
      "226/226 [==============================] - 22s 98ms/step - loss: 0.1148 - accuracy: 0.9474 - val_loss: 0.1223 - val_accuracy: 0.9438\n",
      "Epoch 84/140\n",
      "226/226 [==============================] - 22s 98ms/step - loss: 0.1146 - accuracy: 0.9473 - val_loss: 0.1230 - val_accuracy: 0.9436\n",
      "Epoch 85/140\n",
      "226/226 [==============================] - 22s 96ms/step - loss: 0.1145 - accuracy: 0.9474 - val_loss: 0.1232 - val_accuracy: 0.9436\n",
      "Epoch 86/140\n",
      "226/226 [==============================] - 21s 95ms/step - loss: 0.1140 - accuracy: 0.9478 - val_loss: 0.1208 - val_accuracy: 0.9445\n",
      "Epoch 87/140\n",
      "226/226 [==============================] - 21s 95ms/step - loss: 0.1137 - accuracy: 0.9478 - val_loss: 0.1209 - val_accuracy: 0.9446\n",
      "Epoch 88/140\n",
      "226/226 [==============================] - 21s 95ms/step - loss: 0.1130 - accuracy: 0.9482 - val_loss: 0.1210 - val_accuracy: 0.9442\n",
      "Epoch 89/140\n",
      "226/226 [==============================] - 21s 95ms/step - loss: 0.1168 - accuracy: 0.9468 - val_loss: 0.1243 - val_accuracy: 0.9429\n",
      "Epoch 90/140\n",
      "226/226 [==============================] - 22s 98ms/step - loss: 0.1130 - accuracy: 0.9478 - val_loss: 0.1193 - val_accuracy: 0.9451\n",
      "Epoch 91/140\n",
      "226/226 [==============================] - 22s 97ms/step - loss: 0.1125 - accuracy: 0.9481 - val_loss: 0.1199 - val_accuracy: 0.9448\n",
      "Epoch 92/140\n",
      "226/226 [==============================] - 22s 97ms/step - loss: 0.1119 - accuracy: 0.9485 - val_loss: 0.1197 - val_accuracy: 0.9454\n",
      "Epoch 93/140\n",
      "226/226 [==============================] - 22s 98ms/step - loss: 0.1117 - accuracy: 0.9487 - val_loss: 0.1200 - val_accuracy: 0.9446\n",
      "Epoch 94/140\n",
      "226/226 [==============================] - 22s 98ms/step - loss: 0.1113 - accuracy: 0.9485 - val_loss: 0.1284 - val_accuracy: 0.9407\n",
      "Epoch 95/140\n",
      "226/226 [==============================] - 22s 98ms/step - loss: 0.1111 - accuracy: 0.9487 - val_loss: 0.1192 - val_accuracy: 0.9446\n",
      "Epoch 96/140\n",
      "226/226 [==============================] - 22s 97ms/step - loss: 0.1143 - accuracy: 0.9474 - val_loss: 0.1201 - val_accuracy: 0.9438\n",
      "Epoch 97/140\n",
      "226/226 [==============================] - 22s 95ms/step - loss: 0.1109 - accuracy: 0.9487 - val_loss: 0.1209 - val_accuracy: 0.9449\n",
      "Epoch 98/140\n",
      "226/226 [==============================] - 21s 94ms/step - loss: 0.1103 - accuracy: 0.9493 - val_loss: 0.1210 - val_accuracy: 0.9442\n",
      "Epoch 99/140\n",
      "226/226 [==============================] - 21s 94ms/step - loss: 0.1100 - accuracy: 0.9492 - val_loss: 0.1234 - val_accuracy: 0.9437\n",
      "Epoch 100/140\n",
      "226/226 [==============================] - 22s 99ms/step - loss: 0.1098 - accuracy: 0.9493 - val_loss: 0.1190 - val_accuracy: 0.9451\n",
      "Epoch 101/140\n",
      "226/226 [==============================] - 22s 98ms/step - loss: 0.1094 - accuracy: 0.9494 - val_loss: 0.1205 - val_accuracy: 0.9444\n",
      "Epoch 102/140\n",
      "226/226 [==============================] - 22s 98ms/step - loss: 0.1094 - accuracy: 0.9493 - val_loss: 0.1207 - val_accuracy: 0.9443\n",
      "Epoch 103/140\n",
      "226/226 [==============================] - 22s 98ms/step - loss: 0.1092 - accuracy: 0.9494 - val_loss: 0.1238 - val_accuracy: 0.9436\n",
      "Epoch 104/140\n",
      "226/226 [==============================] - 22s 97ms/step - loss: 0.1089 - accuracy: 0.9497 - val_loss: 0.1183 - val_accuracy: 0.9456\n",
      "Epoch 105/140\n",
      "226/226 [==============================] - 22s 97ms/step - loss: 0.1083 - accuracy: 0.9499 - val_loss: 0.1187 - val_accuracy: 0.9456\n",
      "Epoch 106/140\n",
      "226/226 [==============================] - 22s 97ms/step - loss: 0.1084 - accuracy: 0.9498 - val_loss: 0.1183 - val_accuracy: 0.9452\n",
      "Epoch 107/140\n",
      "226/226 [==============================] - 21s 94ms/step - loss: 0.1081 - accuracy: 0.9499 - val_loss: 0.1187 - val_accuracy: 0.9458\n",
      "Epoch 108/140\n",
      "226/226 [==============================] - 21s 94ms/step - loss: 0.1077 - accuracy: 0.9502 - val_loss: 0.1266 - val_accuracy: 0.9422\n",
      "Epoch 109/140\n",
      "226/226 [==============================] - 22s 96ms/step - loss: 0.1078 - accuracy: 0.9499 - val_loss: 0.1201 - val_accuracy: 0.9446\n",
      "Epoch 110/140\n",
      "226/226 [==============================] - 22s 98ms/step - loss: 0.1100 - accuracy: 0.9492 - val_loss: 0.1179 - val_accuracy: 0.9457\n",
      "Epoch 111/140\n",
      "226/226 [==============================] - 22s 98ms/step - loss: 0.1073 - accuracy: 0.9501 - val_loss: 0.1267 - val_accuracy: 0.9421\n",
      "Epoch 112/140\n",
      "226/226 [==============================] - 22s 98ms/step - loss: 0.1071 - accuracy: 0.9503 - val_loss: 0.1186 - val_accuracy: 0.9449\n",
      "Epoch 113/140\n",
      "226/226 [==============================] - 22s 97ms/step - loss: 0.1064 - accuracy: 0.9504 - val_loss: 0.1186 - val_accuracy: 0.9453\n",
      "Epoch 114/140\n",
      "226/226 [==============================] - 22s 98ms/step - loss: 0.1062 - accuracy: 0.9504 - val_loss: 0.1177 - val_accuracy: 0.9460\n",
      "Epoch 115/140\n",
      "226/226 [==============================] - 22s 97ms/step - loss: 0.1061 - accuracy: 0.9507 - val_loss: 0.1184 - val_accuracy: 0.9455\n",
      "Epoch 116/140\n",
      "226/226 [==============================] - 22s 96ms/step - loss: 0.1064 - accuracy: 0.9504 - val_loss: 0.1174 - val_accuracy: 0.9452\n",
      "Epoch 117/140\n",
      "226/226 [==============================] - 21s 94ms/step - loss: 0.1058 - accuracy: 0.9507 - val_loss: 0.1225 - val_accuracy: 0.9438\n",
      "Epoch 118/140\n",
      "226/226 [==============================] - 21s 94ms/step - loss: 0.1056 - accuracy: 0.9506 - val_loss: 0.1229 - val_accuracy: 0.9433\n",
      "Epoch 119/140\n",
      "226/226 [==============================] - 22s 95ms/step - loss: 0.1064 - accuracy: 0.9505 - val_loss: 0.1186 - val_accuracy: 0.9450\n",
      "Epoch 120/140\n",
      "226/226 [==============================] - 22s 98ms/step - loss: 0.1051 - accuracy: 0.9508 - val_loss: 0.1191 - val_accuracy: 0.9456\n",
      "Epoch 121/140\n",
      "226/226 [==============================] - 22s 99ms/step - loss: 0.1047 - accuracy: 0.9508 - val_loss: 0.1194 - val_accuracy: 0.9447\n",
      "Epoch 122/140\n",
      "226/226 [==============================] - 22s 97ms/step - loss: 0.1048 - accuracy: 0.9508 - val_loss: 0.1180 - val_accuracy: 0.9449\n",
      "Epoch 123/140\n",
      "226/226 [==============================] - 22s 98ms/step - loss: 0.1050 - accuracy: 0.9510 - val_loss: 0.1170 - val_accuracy: 0.9459\n",
      "Epoch 124/140\n",
      "226/226 [==============================] - 17s 74ms/step - loss: 0.1052 - accuracy: 0.9508 - val_loss: 0.1171 - val_accuracy: 0.9447\n",
      "Epoch 125/140\n",
      "226/226 [==============================] - 14s 61ms/step - loss: 0.1041 - accuracy: 0.9512 - val_loss: 0.1168 - val_accuracy: 0.9455\n",
      "Epoch 126/140\n",
      "226/226 [==============================] - 14s 60ms/step - loss: 0.1040 - accuracy: 0.9511 - val_loss: 0.1227 - val_accuracy: 0.9437\n",
      "Epoch 127/140\n",
      "226/226 [==============================] - 14s 60ms/step - loss: 0.1039 - accuracy: 0.9511 - val_loss: 0.1169 - val_accuracy: 0.9456\n",
      "Epoch 128/140\n",
      "226/226 [==============================] - 14s 60ms/step - loss: 0.1038 - accuracy: 0.9513 - val_loss: 0.1177 - val_accuracy: 0.9460\n",
      "Epoch 129/140\n",
      "226/226 [==============================] - 14s 60ms/step - loss: 0.1032 - accuracy: 0.9514 - val_loss: 0.1184 - val_accuracy: 0.9446\n",
      "Epoch 130/140\n",
      "226/226 [==============================] - 14s 60ms/step - loss: 0.1036 - accuracy: 0.9513 - val_loss: 0.1220 - val_accuracy: 0.9440\n",
      "Epoch 131/140\n",
      "226/226 [==============================] - 14s 60ms/step - loss: 0.1029 - accuracy: 0.9518 - val_loss: 0.1167 - val_accuracy: 0.9451\n",
      "Epoch 132/140\n",
      "226/226 [==============================] - 13s 60ms/step - loss: 0.1025 - accuracy: 0.9519 - val_loss: 0.1347 - val_accuracy: 0.9382\n",
      "Epoch 133/140\n",
      "226/226 [==============================] - 14s 60ms/step - loss: 0.1024 - accuracy: 0.9518 - val_loss: 0.1233 - val_accuracy: 0.9427\n",
      "Epoch 134/140\n",
      "226/226 [==============================] - 14s 60ms/step - loss: 0.1030 - accuracy: 0.9514 - val_loss: 0.1161 - val_accuracy: 0.9463\n",
      "Epoch 135/140\n",
      "226/226 [==============================] - 14s 60ms/step - loss: 0.1020 - accuracy: 0.9518 - val_loss: 0.1177 - val_accuracy: 0.9455\n",
      "Epoch 136/140\n",
      "226/226 [==============================] - 13s 60ms/step - loss: 0.1016 - accuracy: 0.9520 - val_loss: 0.1169 - val_accuracy: 0.9458\n",
      "Epoch 137/140\n",
      "226/226 [==============================] - 14s 60ms/step - loss: 0.1016 - accuracy: 0.9520 - val_loss: 0.1169 - val_accuracy: 0.9463\n",
      "Epoch 138/140\n",
      "226/226 [==============================] - 14s 60ms/step - loss: 0.1015 - accuracy: 0.9521 - val_loss: 0.1267 - val_accuracy: 0.9420\n",
      "Epoch 139/140\n",
      "226/226 [==============================] - 14s 60ms/step - loss: 0.1014 - accuracy: 0.9521 - val_loss: 0.1174 - val_accuracy: 0.9463\n",
      "Epoch 140/140\n",
      "226/226 [==============================] - 14s 60ms/step - loss: 0.1013 - accuracy: 0.9522 - val_loss: 0.1173 - val_accuracy: 0.9449\n"
     ]
    }
   ],
   "source": [
    "fit15 = model15.fit(\n",
    "  x_train_s, y_train_our,\n",
    "  epochs=140,\n",
    "  validation_split=0.1,\n",
    "  #validation_data=(x_val_s, y_val_s),\n",
    "  #callbacks=[mc]\n",
    ")\n",
    "#overfitting in plots"
   ]
  },
  {
   "cell_type": "code",
   "execution_count": 31,
   "metadata": {},
   "outputs": [
    {
     "data": {
      "image/png": "[encoded data removed]",
      "text/plain": [
       "<Figure size 432x288 with 1 Axes>"
      ]
     },
     "metadata": {
      "needs_background": "light"
     },
     "output_type": "display_data"
    },
    {
     "data": {
      "image/png": "[encoded data removed]",
      "text/plain": [
       "<Figure size 432x288 with 1 Axes>"
      ]
     },
     "metadata": {
      "needs_background": "light"
     },
     "output_type": "display_data"
    }
   ],
   "source": [
    "import matplotlib.pyplot as plt\n",
    "\n",
    "# Accuracy graph\n",
    "plt.plot(fit15.history['accuracy'])\n",
    "plt.plot(fit15.history['val_accuracy'])\n",
    "plt.title('model accuracy')\n",
    "plt.ylabel('accuracy')\n",
    "plt.xlabel('epoch')\n",
    "plt.legend(['train', 'test'], loc='upper left')\n",
    "plt.show()\n",
    "#plt.savefig('/content/drive/MyDrive/CNN_for_STR_ASSIGNMENT_DATA_and_CODES/accuracy88Accuracy.eps')\n",
    "\n",
    "# loss graph\n",
    "plt.plot(fit15.history['loss'])\n",
    "plt.plot(fit15.history['val_loss'])\n",
    "plt.title('model loss')\n",
    "plt.ylabel('loss')\n",
    "plt.xlabel('epoch')\n",
    "plt.legend(['train', 'test'], loc='upper left')\n",
    "plt.show()\n",
    "#plt.savefig('/content/drive/MyDrive/CNN_for_STR_ASSIGNMENT_DATA_and_CODES/loss88Acculoss.eps')\n",
    "#loss: 0.2982 - accuracy: 0.8567 - val_loss: 0.2981 - val_accuracy: 0.8560 # 32 units\n",
    "#overfitting in plots"
   ]
  },
  {
   "cell_type": "code",
   "execution_count": 20,
   "metadata": {},
   "outputs": [],
   "source": [
    "x_train_s = x_train_our.reshape(x_train_our.shape[0], 500, 23, 1)\n",
    "#x_val_s = x_val_s.reshape(x_val_s.shape[0], 500, 23, 1)\n",
    "x_test_s = x_test_our.reshape(x_test_our.shape[0], 500, 23, 1)"
   ]
  },
  {
   "cell_type": "code",
   "execution_count": 21,
   "metadata": {},
   "outputs": [
    {
     "name": "stdout",
     "output_type": "stream",
     "text": [
      "32/32 [==============================] - 1s 23ms/step - loss: 0.1224 - accuracy: 0.9429\n"
     ]
    },
    {
     "data": {
      "text/plain": [
       "[0.1224449872970581, 0.942933976650238]"
      ]
     },
     "execution_count": 21,
     "metadata": {},
     "output_type": "execute_result"
    }
   ],
   "source": [
    "model15.evaluate(x_test_s, y_test_our)"
   ]
  },
  {
   "cell_type": "code",
   "execution_count": 22,
   "metadata": {},
   "outputs": [
    {
     "name": "stdout",
     "output_type": "stream",
     "text": [
      "6/6 [==============================] - 0s 55ms/step - loss: 0.1359 - accuracy: 0.9416\n"
     ]
    },
    {
     "data": {
      "text/plain": [
       "[0.13586899638175964, 0.9415978789329529]"
      ]
     },
     "execution_count": 22,
     "metadata": {},
     "output_type": "execute_result"
    }
   ],
   "source": [
    "model15.evaluate(x_bench, y_bench)"
   ]
  },
  {
   "cell_type": "code",
   "execution_count": 13,
   "metadata": {},
   "outputs": [
    {
     "name": "stdout",
     "output_type": "stream",
     "text": [
      "Model: \"sequential\"\n",
      "_________________________________________________________________\n",
      "Layer (type)                 Output Shape              Param #   \n",
      "=================================================================\n",
      "bidirectional (Bidirectional (None, 500, 64)           14336     \n",
      "_________________________________________________________________\n",
      "time_distributed (TimeDistri (None, 500, 3)            195       \n",
      "=================================================================\n",
      "Total params: 14,531\n",
      "Trainable params: 14,531\n",
      "Non-trainable params: 0\n",
      "_________________________________________________________________\n"
     ]
    }
   ],
   "source": [
    "#Using BLSTM (experimental purposes)\n",
    "\n",
    "model12 = Sequential([\n",
    "    #layers.LSTM(64, input_shape=(500,23), return_sequences=True),\n",
    "  layers.Bidirectional(LSTM(32,  activation = \"tanh\", return_sequences=True), merge_mode=\"concat\",input_shape=(500,23)),\n",
    "   # Dense(1024, activation='relu'),\n",
    "   # Dropout(0.6),\n",
    "   #  Dense(512, activation='relu'),\n",
    "    #Dropout(0.6),\n",
    "    #Dense(256, activation='relu'),\n",
    "    #Dropout(0.6),\n",
    "     layers.TimeDistributed(Dense(3, activation = \"softmax\"))\n",
    "])\n",
    "\n",
    "model12.summary()\n",
    "\n",
    "\n",
    "model12.compile(\n",
    "    optimizer='adam',\n",
    "\n",
    "   loss='categorical_crossentropy',\n",
    "    metrics=['accuracy']\n",
    ")"
   ]
  },
  {
   "cell_type": "code",
   "execution_count": 12,
   "metadata": {},
   "outputs": [],
   "source": [
    "x_train_s = x_train_our.reshape(x_train_our.shape[0], 500, 23)\n",
    "#x_val_s = x_val_s.reshape(x_val_s.shape[0], 500, 23, 1)\n",
    "x_test_s = x_test_our.reshape(x_test_our.shape[0], 500, 23)"
   ]
  },
  {
   "cell_type": "code",
   "execution_count": null,
   "metadata": {},
   "outputs": [],
   "source": [
    "fit12 = model12.fit(#BLSTM is not giving good accuracy\n",
    "  x_train_s, y_train_our,\n",
    "  epochs=140,\n",
    "  validation_split=0.2,\n",
    "  #validation_data=(x_val_s, y_val_s),\n",
    "  #callbacks=[mc]\n",
    ")"
   ]
  },
  {
   "cell_type": "code",
   "execution_count": 15,
   "metadata": {},
   "outputs": [
    {
     "name": "stdout",
     "output_type": "stream",
     "text": [
      "Model: \"sequential_1\"\n",
      "_________________________________________________________________\n",
      "Layer (type)                 Output Shape              Param #   \n",
      "=================================================================\n",
      "bidirectional_1 (Bidirection (None, 500, 64)           14336     \n",
      "_________________________________________________________________\n",
      "dense_4 (Dense)              (None, 500, 1024)         66560     \n",
      "_________________________________________________________________\n",
      "dropout (Dropout)            (None, 500, 1024)         0         \n",
      "_________________________________________________________________\n",
      "dense_5 (Dense)              (None, 500, 512)          524800    \n",
      "_________________________________________________________________\n",
      "dropout_1 (Dropout)          (None, 500, 512)          0         \n",
      "_________________________________________________________________\n",
      "dense_6 (Dense)              (None, 500, 256)          131328    \n",
      "_________________________________________________________________\n",
      "dropout_2 (Dropout)          (None, 500, 256)          0         \n",
      "_________________________________________________________________\n",
      "time_distributed_1 (TimeDist (None, 500, 3)            771       \n",
      "=================================================================\n",
      "Total params: 737,795\n",
      "Trainable params: 737,795\n",
      "Non-trainable params: 0\n",
      "_________________________________________________________________\n"
     ]
    }
   ],
   "source": [
    "#Using BLSTM:\n",
    "\n",
    "model13 = Sequential([\n",
    "    #layers.LSTM(64, input_shape=(500,23), return_sequences=True),\n",
    "  layers.Bidirectional(LSTM(32,  activation = \"tanh\", return_sequences=True), merge_mode=\"concat\",input_shape=(500,23)),\n",
    "    Dense(1024, activation='relu'),\n",
    "    Dropout(0.6),\n",
    "     Dense(512, activation='relu'),\n",
    "    Dropout(0.6),\n",
    "    Dense(256, activation='relu'),\n",
    "    Dropout(0.6),\n",
    "     layers.TimeDistributed(Dense(3, activation = \"softmax\"))\n",
    "])\n",
    "\n",
    "model13.summary()\n",
    "\n",
    "\n",
    "model13.compile(\n",
    "    optimizer='adam',\n",
    "\n",
    "   loss='kullback_leibler_divergence',\n",
    "    metrics=['accuracy']\n",
    ")"
   ]
  },
  {
   "cell_type": "code",
   "execution_count": 1,
   "metadata": {},
   "outputs": [],
   "source": [
    "fit13 = model13.fit(#BLSTM not giving good accuracy\n",
    "  x_train_s, y_train_our,\n",
    "  epochs=140,\n",
    "  validation_split=0.2,\n",
    "  #validation_data=(x_val_s, y_val_s),\n",
    "  #callbacks=[mc]\n",
    ")"
   ]
  },
  {
   "cell_type": "code",
   "execution_count": 21,
   "metadata": {
    "colab": {
     "base_uri": "https://localhost:8080/",
     "height": 573
    },
    "id": "8sAfnyADb-d8",
    "outputId": "ac32cc7e-0627-4273-8edd-d09b9d4feb5d"
   },
   "outputs": [
    {
     "data": {
      "image/png": "[encoded data removed]",
      "text/plain": [
       "<Figure size 432x288 with 1 Axes>"
      ]
     },
     "metadata": {
      "needs_background": "light",
      "tags": []
     },
     "output_type": "display_data"
    },
    {
     "data": {
      "image/png": "[encoded data removed]",
      "text/plain": [
       "<Figure size 432x288 with 1 Axes>"
      ]
     },
     "metadata": {
      "needs_background": "light",
      "tags": []
     },
     "output_type": "display_data"
    }
   ],
   "source": [
    "#This is for previous LSTM model\n",
    "import matplotlib.pyplot as plt\n",
    "\n",
    "# Accuracy graph\n",
    "plt.plot(fit2.history['accuracy'])\n",
    "plt.plot(fit2.history['val_accuracy'])\n",
    "plt.title('model accuracy')\n",
    "plt.ylabel('accuracy')\n",
    "plt.xlabel('epoch')\n",
    "plt.legend(['train', 'test'], loc='upper left')\n",
    "plt.show()\n",
    "#plt.savefig('/content/drive/MyDrive/CNN_for_STR_ASSIGNMENT_DATA_and_CODES/accuracy88Accuracy.eps')\n",
    "\n",
    "# loss graph\n",
    "plt.plot(fit2.history['loss'])\n",
    "plt.plot(fit2.history['val_loss'])\n",
    "plt.title('model loss')\n",
    "plt.ylabel('loss')\n",
    "plt.xlabel('epoch')\n",
    "plt.legend(['train', 'test'], loc='upper left')\n",
    "plt.show()\n",
    "#plt.savefig('/content/drive/MyDrive/CNN_for_STR_ASSIGNMENT_DATA_and_CODES/loss88Acculoss.eps')\n",
    "#loss: 0.2982 - accuracy: 0.8567 - val_loss: 0.2981 - val_accuracy: 0.8560 # 32 units"
   ]
  },
  {
   "cell_type": "code",
   "execution_count": 22,
   "metadata": {
    "colab": {
     "base_uri": "https://localhost:8080/"
    },
    "id": "ZJCCjK4CbL8n",
    "outputId": "41968bdc-336a-494c-8bd2-ca01882fb34d"
   },
   "outputs": [
    {
     "name": "stdout",
     "output_type": "stream",
     "text": [
      "32/32 [==============================] - 2s 51ms/step - loss: 0.2703 - accuracy: 0.8676\n"
     ]
    },
    {
     "data": {
      "text/plain": [
       "[0.27026307582855225, 0.8676139712333679]"
      ]
     },
     "execution_count": 22,
     "metadata": {
      "tags": []
     },
     "output_type": "execute_result"
    }
   ],
   "source": [
    "model8.evaluate(x_test_s, y_test_our)"
   ]
  },
  {
   "cell_type": "code",
   "execution_count": 26,
   "metadata": {
    "id": "-k2w02AnpRWW"
   },
   "outputs": [],
   "source": [
    "x_bench = x_bench.reshape(189, 500, 23)\n",
    "y_bench = y_bench.reshape(189, 500, 3) "
   ]
  },
  {
   "cell_type": "code",
   "execution_count": null,
   "metadata": {
    "id": "xnq4t9CBbO5l"
   },
   "outputs": [],
   "source": [
    "model8.evaluate(x_bench, y_bench)"
   ]
  },
  {
   "cell_type": "markdown",
   "metadata": {
    "id": "1CMbblzZaHlZ"
   },
   "source": [
    "Testing on individual proteins from the test set"
   ]
  },
  {
   "cell_type": "code",
   "execution_count": 19,
   "metadata": {
    "id": "eIzKWcbcrkqy"
   },
   "outputs": [],
   "source": [
    "x_train_s = x_train_our.reshape(x_train_our.shape[0], 500, 23, 1)\n",
    "#x_val_s = x_val_s.reshape(x_val_s.shape[0], 500, 23, 1)\n",
    "x_test_s = x_test_our.reshape(x_test_our.shape[0], 500, 23, 1)"
   ]
  },
  {
   "cell_type": "code",
   "execution_count": null,
   "metadata": {
    "id": "Tl6Zs1p41HPy"
   },
   "outputs": [],
   "source": [
    "# benchmark data\n",
    "x_bench = np.load('/content/drive/MyDrive/CNN_for_STR_ASSIGNMENT_DATA_and_CODES/bench_193x500x23_xyzjune21.npy')\n",
    "y_bench = np.load('/content/drive/MyDrive/CNN_for_STR_ASSIGNMENT_DATA_and_CODES/bench_labels_193x500x3_xyzjune21.npy')\n",
    "\n",
    "x_bench = x_bench.reshape(189, 500, 23, 1)\n",
    "y_bench = y_bench.reshape(189, 500, 3) "
   ]
  },
  {
   "cell_type": "code",
   "execution_count": null,
   "metadata": {},
   "outputs": [],
   "source": [
    "results12 = saved_model.evaluate(x_bench, y_bench)"
   ]
  },
  {
   "cell_type": "code",
   "execution_count": null,
   "metadata": {
    "colab": {
     "base_uri": "https://localhost:8080/"
    },
    "id": "3wpBvV3G1G4u",
    "outputId": "20b93e4a-5520-4141-968b-e96022a580af"
   },
   "outputs": [
    {
     "name": "stdout",
     "output_type": "stream",
     "text": [
      "6/6 [==============================] - 46s 268ms/step - loss: 0.1305 - accuracy: 0.9441\n"
     ]
    }
   ],
   "source": [
    "results12 = saved_model.evaluate(x_bench, y_bench)"
   ]
  },
  {
   "cell_type": "code",
   "execution_count": 57,
   "metadata": {
    "colab": {
     "base_uri": "https://localhost:8080/"
    },
    "id": "1nl4I2It0Xcr",
    "outputId": "98a7b707-cfe9-4456-a940-dd83b62e6234"
   },
   "outputs": [
    {
     "name": "stdout",
     "output_type": "stream",
     "text": [
      "Mismatch in classes: 20\n",
      "Length of sequence: 257\n",
      "Length of sequence: 257\n",
      "Accuracy: 92.21789883268482%\n",
      "C C C C C C C C C C H H H H H H H C H H H H C C C C C C C E E C H H H C C C C C C C C C E E E E E C H C H C E E E E E E C C C E E E E E C C C C C C C E E E C C C C C C C E E E E E E E E E E C C C C C C C C C C E E C C E E C C C E E E E E E E C C C C C C C H H H H H C C C C C E E E E E E E E E C C C C C H H H H H H H H H H H H C C C C C C E E E C C C C C H H H H C C C C C C E E E E C E E C C C C C C C C C E E E E E E C E E E E E C H H H H H H H H H C C C C C C C C C C C C C C C C C C C C C C C C C C E E E E C "
     ]
    }
   ],
   "source": [
    "\n",
    "ti = 10\n",
    "\n",
    "preds = saved_model.predict(x_bench[ti].reshape(1, 500, 23, 1))\n",
    "\n",
    "label_index = np.argmax(preds, axis=2)\n",
    "\n",
    "labels = [1, 0, 0, 0, 1, 0, 0, 0, 1]\n",
    "\n",
    "labels = np.array(labels)\n",
    "labels = labels.reshape(3, 3)\n",
    "\n",
    "#print(labels)\n",
    "\n",
    "t = 0\n",
    "x = 0\n",
    "for i, j in zip(label_index[0], y_bench[ti]):\n",
    "  if (str('[0 0 0]') == str(j)):\n",
    "    break\n",
    "  t += 1\n",
    "  if (str(labels[i]) != str(j)):\n",
    "    x += 1\n",
    "t=t-1\n",
    "print(\"Mismatch in classes: \" + str(x) + \"\\nLength of sequence: \" + str(t))\n",
    "print(\"Length of sequence: \" + str(t))\n",
    "print(\"Accuracy: \" + str(((t-x)/t)*100) + \"%\")\n",
    "for k in range(0,t):\n",
    "  if (label_index[0][k])==0:\n",
    "    print(\"H\",end=' ')\n",
    "  if (label_index[0][k])==1:\n",
    "    print(\"E\",end=' ')\n",
    "  if (label_index[0][k])==2:\n",
    "    print(\"C\",end=' ')\n",
    "  #print(label_index[0][k])\n",
    "\n",
    "  #10 ok,15-helix only,16,18-92,25-helix only"
   ]
  },
  {
   "cell_type": "code",
   "execution_count": 62,
   "metadata": {},
   "outputs": [
    {
     "name": "stdout",
     "output_type": "stream",
     "text": [
      "Mismatch in classes: 5\n",
      "Length of sequence: 141\n",
      "Length of sequence: 141\n",
      "Accuracy: 96.45390070921985%\n",
      "C H H H H H H H H H H H H H H H H H H H H H H H H H H H H H H H H H H H H H C C C C C H H H H C H H H H H H H H H H H H H H H H H H H H H H H H C C C C H C H H H H H H H H H H H H H H H H H H H H H H H H H H H C C C H H H H H H C C H H H H H H H H H H H H H H H H H H H H H H H H H "
     ]
    }
   ],
   "source": [
    "\n",
    "ti = 25\n",
    "\n",
    "preds = saved_model.predict(x_bench[ti].reshape(1, 500, 23, 1))\n",
    "\n",
    "label_index = np.argmax(preds, axis=2)\n",
    "\n",
    "labels = [1, 0, 0, 0, 1, 0, 0, 0, 1]\n",
    "\n",
    "labels = np.array(labels)\n",
    "labels = labels.reshape(3, 3)\n",
    "\n",
    "#print(labels)\n",
    "\n",
    "t = 0\n",
    "x = 0\n",
    "for i, j in zip(label_index[0], y_bench[ti]):\n",
    "  if (str('[0 0 0]') == str(j)):\n",
    "    break\n",
    "  t += 1\n",
    "  if (str(labels[i]) != str(j)):\n",
    "    x += 1\n",
    "t=t-1\n",
    "print(\"Mismatch in classes: \" + str(x) + \"\\nLength of sequence: \" + str(t))\n",
    "print(\"Length of sequence: \" + str(t))\n",
    "print(\"Accuracy: \" + str(((t-x)/t)*100) + \"%\")\n",
    "for k in range(0,t):\n",
    "  if (label_index[0][k])==0:\n",
    "    print(\"H\",end=' ')\n",
    "  if (label_index[0][k])==1:\n",
    "    print(\"E\",end=' ')\n",
    "  if (label_index[0][k])==2:\n",
    "    print(\"C\",end=' ')\n",
    "  #print(label_index[0][k])\n",
    "\n",
    "  #10 ok,15-helix only,16,18-92,25-helix only"
   ]
  },
  {
   "cell_type": "code",
   "execution_count": null,
   "metadata": {},
   "outputs": [],
   "source": []
  }
 ],
 "metadata": {
  "accelerator": "GPU",
  "colab": {
   "collapsed_sections": [],
   "name": "ResNetBasedStructureAssignmentRunOnDGX.ipynb",
   "provenance": []
  },
  "kernelspec": {
   "display_name": "Python 3 (ipykernel)",
   "language": "python",
   "name": "python3"
  },
  "language_info": {
   "codemirror_mode": {
    "name": "ipython",
    "version": 3
   },
   "file_extension": ".py",
   "mimetype": "text/x-python",
   "name": "python",
   "nbconvert_exporter": "python",
   "pygments_lexer": "ipython3",
   "version": "3.8.10"
  }
 },
 "nbformat": 4,
 "nbformat_minor": 1
}
